{
  "nbformat": 4,
  "nbformat_minor": 0,
  "metadata": {
    "colab": {
      "provenance": [],
      "include_colab_link": true
    },
    "kernelspec": {
      "name": "python3",
      "display_name": "Python 3"
    },
    "language_info": {
      "name": "python"
    }
  },
  "cells": [
    {
      "cell_type": "markdown",
      "metadata": {
        "id": "view-in-github",
        "colab_type": "text"
      },
      "source": [
        "<a href=\"https://colab.research.google.com/github/sushantagarwal29/ragpoc/blob/main/CaseStudy3-v3.ipynb\" target=\"_parent\"><img src=\"https://colab.research.google.com/assets/colab-badge.svg\" alt=\"Open In Colab\"/></a>"
      ]
    },
    {
      "cell_type": "code",
      "source": [
        "%pip install azure.ai.documentintelligence\n",
        "from azure.ai.documentintelligence import DocumentIntelligenceClient\n",
        "from azure.core.credentials import AzureKeyCredential\n",
        "import base64\n",
        "import pandas as pd\n",
        "import os\n"
      ],
      "metadata": {
        "colab": {
          "base_uri": "https://localhost:8080/"
        },
        "id": "W4U-Ykxlxj7S",
        "outputId": "f332259c-2d95-459e-9ced-158866f674fb",
        "collapsed": true
      },
      "execution_count": 2,
      "outputs": [
        {
          "output_type": "stream",
          "name": "stdout",
          "text": [
            "Collecting azure.ai.documentintelligence\n",
            "  Downloading azure_ai_documentintelligence-1.0.0-py3-none-any.whl.metadata (51 kB)\n",
            "\u001b[?25l     \u001b[90m━━━━━━━━━━━━━━━━━━━━━━━━━━━━━━━━━━━━━━━━\u001b[0m \u001b[32m0.0/51.3 kB\u001b[0m \u001b[31m?\u001b[0m eta \u001b[36m-:--:--\u001b[0m\r\u001b[2K     \u001b[90m━━━━━━━━━━━━━━━━━━━━━━━━━━━━━━━━━━━━━━━━\u001b[0m \u001b[32m51.3/51.3 kB\u001b[0m \u001b[31m1.8 MB/s\u001b[0m eta \u001b[36m0:00:00\u001b[0m\n",
            "\u001b[?25hCollecting isodate>=0.6.1 (from azure.ai.documentintelligence)\n",
            "  Downloading isodate-0.7.2-py3-none-any.whl.metadata (11 kB)\n",
            "Collecting azure-core>=1.30.0 (from azure.ai.documentintelligence)\n",
            "  Downloading azure_core-1.32.0-py3-none-any.whl.metadata (39 kB)\n",
            "Requirement already satisfied: typing-extensions>=4.6.0 in /usr/local/lib/python3.11/dist-packages (from azure.ai.documentintelligence) (4.12.2)\n",
            "Requirement already satisfied: requests>=2.21.0 in /usr/local/lib/python3.11/dist-packages (from azure-core>=1.30.0->azure.ai.documentintelligence) (2.32.3)\n",
            "Requirement already satisfied: six>=1.11.0 in /usr/local/lib/python3.11/dist-packages (from azure-core>=1.30.0->azure.ai.documentintelligence) (1.17.0)\n",
            "Requirement already satisfied: charset-normalizer<4,>=2 in /usr/local/lib/python3.11/dist-packages (from requests>=2.21.0->azure-core>=1.30.0->azure.ai.documentintelligence) (3.4.1)\n",
            "Requirement already satisfied: idna<4,>=2.5 in /usr/local/lib/python3.11/dist-packages (from requests>=2.21.0->azure-core>=1.30.0->azure.ai.documentintelligence) (3.10)\n",
            "Requirement already satisfied: urllib3<3,>=1.21.1 in /usr/local/lib/python3.11/dist-packages (from requests>=2.21.0->azure-core>=1.30.0->azure.ai.documentintelligence) (2.3.0)\n",
            "Requirement already satisfied: certifi>=2017.4.17 in /usr/local/lib/python3.11/dist-packages (from requests>=2.21.0->azure-core>=1.30.0->azure.ai.documentintelligence) (2025.1.31)\n",
            "Downloading azure_ai_documentintelligence-1.0.0-py3-none-any.whl (105 kB)\n",
            "\u001b[2K   \u001b[90m━━━━━━━━━━━━━━━━━━━━━━━━━━━━━━━━━━━━━━━━\u001b[0m \u001b[32m105.5/105.5 kB\u001b[0m \u001b[31m4.6 MB/s\u001b[0m eta \u001b[36m0:00:00\u001b[0m\n",
            "\u001b[?25hDownloading azure_core-1.32.0-py3-none-any.whl (198 kB)\n",
            "\u001b[2K   \u001b[90m━━━━━━━━━━━━━━━━━━━━━━━━━━━━━━━━━━━━━━━━\u001b[0m \u001b[32m198.9/198.9 kB\u001b[0m \u001b[31m8.9 MB/s\u001b[0m eta \u001b[36m0:00:00\u001b[0m\n",
            "\u001b[?25hDownloading isodate-0.7.2-py3-none-any.whl (22 kB)\n",
            "Installing collected packages: isodate, azure-core, azure.ai.documentintelligence\n",
            "Successfully installed azure-core-1.32.0 azure.ai.documentintelligence-1.0.0 isodate-0.7.2\n"
          ]
        }
      ]
    },
    {
      "cell_type": "code",
      "source": [
        "# Replace with your endpoint and API key\n",
        "endpoint = \"https://doci-daai-poc.cognitiveservices.azure.com/\"\n",
        "api_key = \"9EIMncoOBRAdVNJUHjZ8OnWcec6wZrBiGTjTJjd26tK6kKVOoE72JQQJ99AKACHrzpqXJ3w3AAALACOGV2mb\"\n",
        "credential = AzureKeyCredential(api_key)"
      ],
      "metadata": {
        "id": "1bdvqwga9F_L"
      },
      "execution_count": 3,
      "outputs": []
    },
    {
      "cell_type": "code",
      "source": [
        "# Authenticate the client\n",
        "client = DocumentIntelligenceClient(endpoint=endpoint, credential=credential)"
      ],
      "metadata": {
        "id": "I77lsTJ39N46"
      },
      "execution_count": 4,
      "outputs": []
    },
    {
      "cell_type": "code",
      "source": [
        "filepath = \"/content/Daily_Sports_Highlights_01092024_With_Subsections.pdf\"\n"
      ],
      "metadata": {
        "id": "MLL_T1wJ9QPi"
      },
      "execution_count": 5,
      "outputs": []
    },
    {
      "cell_type": "code",
      "source": [
        "# Process the PDF\n",
        "with open(filepath, \"rb\") as f:\n",
        "  pdf_content = f.read()\n",
        "  base64_pdf = base64.b64encode(pdf_content).decode(\"utf-8\")\n",
        "\n",
        "poller = client.begin_analyze_document('prebuilt-contract', body={\"base64Source\": base64_pdf})\n",
        "result = poller.result()"
      ],
      "metadata": {
        "id": "ZzMWacgU9hTZ"
      },
      "execution_count": 6,
      "outputs": []
    },
    {
      "cell_type": "code",
      "source": [
        "print(result.documents.)"
      ],
      "metadata": {
        "colab": {
          "base_uri": "https://localhost:8080/"
        },
        "id": "9GvHwny8-RiO",
        "outputId": "ced508f2-365a-4b9e-9540-54891a345301"
      },
      "execution_count": 13,
      "outputs": [
        {
          "output_type": "stream",
          "name": "stdout",
          "text": [
            "[{'docType': 'contract', 'boundingRegions': [{'pageNumber': 1, 'polygon': [0, 0, 8.2639, 0, 8.2639, 11.6806, 0, 11.6806]}, {'pageNumber': 2, 'polygon': [0, 0, 8.2639, 0, 8.2639, 11.6806, 0, 11.6806]}, {'pageNumber': 3, 'polygon': [0, 0, 8.2639, 0, 8.2639, 11.6806, 0, 11.6806]}], 'fields': {'Title': {'type': 'string', 'valueString': 'Daily Sports Highlights', 'content': 'Daily Sports Highlights', 'boundingRegions': [{'pageNumber': 1, 'polygon': [3.2119, 0.857, 5.4564, 0.8607, 5.456, 1.1172, 3.2115, 1.1135]}], 'confidence': 0.984, 'spans': [{'offset': 11, 'length': 23}]}}, 'confidence': 0.003, 'spans': [{'offset': 0, 'length': 3947}]}]\n"
          ]
        }
      ]
    }
  ]
}