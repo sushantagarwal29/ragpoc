{
  "cells": [
    {
      "cell_type": "markdown",
      "metadata": {
        "id": "view-in-github",
        "colab_type": "text"
      },
      "source": [
        "<a href=\"https://colab.research.google.com/github/sushantagarwal29/ragpoc/blob/main/llamaparse_ExtractPOC.ipynb\" target=\"_parent\"><img src=\"https://colab.research.google.com/assets/colab-badge.svg\" alt=\"Open In Colab\"/></a>"
      ]
    },
    {
      "cell_type": "markdown",
      "metadata": {
        "id": "NBD-4xlhnyxl"
      },
      "source": [
        "## Parsing Complex PDFs with LlamaParse\n",
        "\n",
        "##### Note: This example requires a KDB.AI endpoint and API key. Sign up for a free [KDB.AI account](https://kdb.ai/get-started).\n",
        "\n",
        "> [KDB.AI](https://kdb.ai/) is a powerful knowledge-based vector database and search engine that allows you to build scalable, reliable AI applications, using real-time data, by providing advanced search, recommendation and personalization.\n",
        "\n",
        "PDFs and other complex document types are notoriously difficult to work with, yet are the common file formats used for publishing important business related information. Since these file types are so common, it is key to have the capability to parse and ingest these documents swiftly, with accuracy, while cleanly extracting embedded entities such as images, tables, and graphs. If extracted correctly, all of the data held in a complex document like a PDF can be ingested into a RAG workflow to generate accurate and contextual responses for users and the business.\n",
        "\n",
        "This sample will illustrate how to use LlamaParse, an generative AI enabled parsing platform created by LlamaIndex to parse and represent complex files in a way that enables effective retrieval. We will use LlamaIndex to orchestrate a RAG pipeline where LlamaParse is used to parse a complex academic article and extract text and tables from it, and KDB.AI is used as our retrieval mechanism to pass relevant information about the article to an LLM.\n",
        "\n",
        "LlamaParse transforms complex documents like PDFs into markdown or text formats, which are easily ingestible. This parsing also extracts embedded entities like tables and images.\n",
        "\n",
        "Agenda:\n",
        "1. Dependencies, Imports & Setup\n",
        "2. Set API Keys for LlamaCloud, OpenAI, Cohere\n",
        "3. Define KDB.AI Session\n",
        "4. Create Schema and KDB.AI Table\n",
        "5. Download ARXIV Article: '[LLM In-Context Recall is Prompt Dependent](https://arxiv.org/pdf/2404.08865)' by Daniel Machlab and Rick Battle\n",
        "6. LlamaParse & LlamaIndex Setup\n",
        "7. Parse the Document with LlamaParse into Markdown Format\n",
        "8. Extract Text and Table nodes from Markdown Document\n",
        "9. Create the RAG Pipeline with LlamaIndex and KDB.AI\n",
        "10. Query the RAG Pipeline!"
      ]
    },
    {
      "cell_type": "markdown",
      "metadata": {
        "id": "STPHhwfenyxm"
      },
      "source": [
        "## 1. Dependencies, Imports & Setup\n",
        "\n",
        "In order to successfully run this sample, note the following steps depending on where you are running this notebook:\n",
        "\n",
        "-***Run Locally / Private Environment:*** The [Setup](https://github.com/KxSystems/kdbai-samples/blob/main/README.md#setup) steps in the repository's `README.md` will guide you on prerequisites and how to run this with Jupyter.\n",
        "\n",
        "\n",
        "-***Colab / Hosted Environment:*** Open this notebook in Colab and run through the cells."
      ]
    },
    {
      "cell_type": "code",
      "execution_count": null,
      "metadata": {
        "id": "xzuVAO2LfiJt",
        "collapsed": true,
        "colab": {
          "base_uri": "https://localhost:8080/"
        },
        "outputId": "3f142b94-a675-4a23-f67d-962f369d5ce9"
      },
      "outputs": [
        {
          "output_type": "stream",
          "name": "stdout",
          "text": [
            "Collecting llama-index\n",
            "  Downloading llama_index-0.12.2-py3-none-any.whl.metadata (11 kB)\n",
            "Collecting llama-index-agent-openai<0.5.0,>=0.4.0 (from llama-index)\n",
            "  Downloading llama_index_agent_openai-0.4.0-py3-none-any.whl.metadata (726 bytes)\n",
            "Collecting llama-index-cli<0.5.0,>=0.4.0 (from llama-index)\n",
            "  Downloading llama_index_cli-0.4.0-py3-none-any.whl.metadata (1.5 kB)\n",
            "Collecting llama-index-core<0.13.0,>=0.12.2 (from llama-index)\n",
            "  Downloading llama_index_core-0.12.2-py3-none-any.whl.metadata (2.5 kB)\n",
            "Collecting llama-index-embeddings-openai<0.4.0,>=0.3.0 (from llama-index)\n",
            "  Downloading llama_index_embeddings_openai-0.3.1-py3-none-any.whl.metadata (684 bytes)\n",
            "Collecting llama-index-indices-managed-llama-cloud>=0.4.0 (from llama-index)\n",
            "  Downloading llama_index_indices_managed_llama_cloud-0.6.3-py3-none-any.whl.metadata (3.8 kB)\n",
            "Collecting llama-index-legacy<0.10.0,>=0.9.48 (from llama-index)\n",
            "  Downloading llama_index_legacy-0.9.48.post4-py3-none-any.whl.metadata (8.5 kB)\n",
            "Collecting llama-index-llms-openai<0.4.0,>=0.3.0 (from llama-index)\n",
            "  Downloading llama_index_llms_openai-0.3.2-py3-none-any.whl.metadata (3.3 kB)\n",
            "Collecting llama-index-multi-modal-llms-openai<0.4.0,>=0.3.0 (from llama-index)\n",
            "  Downloading llama_index_multi_modal_llms_openai-0.3.0-py3-none-any.whl.metadata (726 bytes)\n",
            "Collecting llama-index-program-openai<0.4.0,>=0.3.0 (from llama-index)\n",
            "  Downloading llama_index_program_openai-0.3.1-py3-none-any.whl.metadata (764 bytes)\n",
            "Collecting llama-index-question-gen-openai<0.4.0,>=0.3.0 (from llama-index)\n",
            "  Downloading llama_index_question_gen_openai-0.3.0-py3-none-any.whl.metadata (783 bytes)\n",
            "Collecting llama-index-readers-file<0.5.0,>=0.4.0 (from llama-index)\n",
            "  Downloading llama_index_readers_file-0.4.0-py3-none-any.whl.metadata (5.4 kB)\n",
            "Collecting llama-index-readers-llama-parse>=0.4.0 (from llama-index)\n",
            "  Downloading llama_index_readers_llama_parse-0.4.0-py3-none-any.whl.metadata (3.6 kB)\n",
            "Requirement already satisfied: nltk>3.8.1 in /usr/local/lib/python3.10/dist-packages (from llama-index) (3.9.1)\n",
            "Requirement already satisfied: openai>=1.14.0 in /usr/local/lib/python3.10/dist-packages (from llama-index-agent-openai<0.5.0,>=0.4.0->llama-index) (1.54.4)\n",
            "Requirement already satisfied: PyYAML>=6.0.1 in /usr/local/lib/python3.10/dist-packages (from llama-index-core<0.13.0,>=0.12.2->llama-index) (6.0.2)\n",
            "Requirement already satisfied: SQLAlchemy>=1.4.49 in /usr/local/lib/python3.10/dist-packages (from SQLAlchemy[asyncio]>=1.4.49->llama-index-core<0.13.0,>=0.12.2->llama-index) (2.0.36)\n",
            "Requirement already satisfied: aiohttp<4.0.0,>=3.8.6 in /usr/local/lib/python3.10/dist-packages (from llama-index-core<0.13.0,>=0.12.2->llama-index) (3.11.2)\n",
            "Collecting dataclasses-json (from llama-index-core<0.13.0,>=0.12.2->llama-index)\n",
            "  Downloading dataclasses_json-0.6.7-py3-none-any.whl.metadata (25 kB)\n",
            "Requirement already satisfied: deprecated>=1.2.9.3 in /usr/local/lib/python3.10/dist-packages (from llama-index-core<0.13.0,>=0.12.2->llama-index) (1.2.15)\n",
            "Collecting dirtyjson<2.0.0,>=1.0.8 (from llama-index-core<0.13.0,>=0.12.2->llama-index)\n",
            "\u001b[33m  WARNING: Retrying (Retry(total=4, connect=None, read=None, redirect=None, status=None)) after connection broken by 'ProtocolError('Connection aborted.', RemoteDisconnected('Remote end closed connection without response'))': /packages/68/69/1bcf70f81de1b4a9f21b3a62ec0c83bdff991c88d6cc2267d02408457e88/dirtyjson-1.0.8-py3-none-any.whl.metadata\u001b[0m\u001b[33m\n",
            "\u001b[0m  Downloading dirtyjson-1.0.8-py3-none-any.whl.metadata (11 kB)\n",
            "Collecting filetype<2.0.0,>=1.2.0 (from llama-index-core<0.13.0,>=0.12.2->llama-index)\n",
            "  Downloading filetype-1.2.0-py2.py3-none-any.whl.metadata (6.5 kB)\n",
            "Requirement already satisfied: fsspec>=2023.5.0 in /usr/local/lib/python3.10/dist-packages (from llama-index-core<0.13.0,>=0.12.2->llama-index) (2024.10.0)\n",
            "Requirement already satisfied: httpx in /usr/local/lib/python3.10/dist-packages (from llama-index-core<0.13.0,>=0.12.2->llama-index) (0.27.2)\n",
            "Requirement already satisfied: nest-asyncio<2.0.0,>=1.5.8 in /usr/local/lib/python3.10/dist-packages (from llama-index-core<0.13.0,>=0.12.2->llama-index) (1.6.0)\n",
            "Requirement already satisfied: networkx>=3.0 in /usr/local/lib/python3.10/dist-packages (from llama-index-core<0.13.0,>=0.12.2->llama-index) (3.4.2)\n",
            "Requirement already satisfied: numpy in /usr/local/lib/python3.10/dist-packages (from llama-index-core<0.13.0,>=0.12.2->llama-index) (1.26.4)\n",
            "Requirement already satisfied: pillow>=9.0.0 in /usr/local/lib/python3.10/dist-packages (from llama-index-core<0.13.0,>=0.12.2->llama-index) (11.0.0)\n",
            "Requirement already satisfied: pydantic<2.10.0,>=2.7.0 in /usr/local/lib/python3.10/dist-packages (from llama-index-core<0.13.0,>=0.12.2->llama-index) (2.9.2)\n",
            "Requirement already satisfied: requests>=2.31.0 in /usr/local/lib/python3.10/dist-packages (from llama-index-core<0.13.0,>=0.12.2->llama-index) (2.32.3)\n",
            "Collecting tenacity!=8.4.0,<9.0.0,>=8.2.0 (from llama-index-core<0.13.0,>=0.12.2->llama-index)\n",
            "  Downloading tenacity-8.5.0-py3-none-any.whl.metadata (1.2 kB)\n",
            "Collecting tiktoken>=0.3.3 (from llama-index-core<0.13.0,>=0.12.2->llama-index)\n",
            "  Downloading tiktoken-0.8.0-cp310-cp310-manylinux_2_17_x86_64.manylinux2014_x86_64.whl.metadata (6.6 kB)\n",
            "Requirement already satisfied: tqdm<5.0.0,>=4.66.1 in /usr/local/lib/python3.10/dist-packages (from llama-index-core<0.13.0,>=0.12.2->llama-index) (4.66.6)\n",
            "Requirement already satisfied: typing-extensions>=4.5.0 in /usr/local/lib/python3.10/dist-packages (from llama-index-core<0.13.0,>=0.12.2->llama-index) (4.12.2)\n",
            "Collecting typing-inspect>=0.8.0 (from llama-index-core<0.13.0,>=0.12.2->llama-index)\n",
            "  Downloading typing_inspect-0.9.0-py3-none-any.whl.metadata (1.5 kB)\n",
            "Requirement already satisfied: wrapt in /usr/local/lib/python3.10/dist-packages (from llama-index-core<0.13.0,>=0.12.2->llama-index) (1.16.0)\n",
            "Collecting llama-cloud>=0.1.5 (from llama-index-indices-managed-llama-cloud>=0.4.0->llama-index)\n",
            "  Downloading llama_cloud-0.1.6-py3-none-any.whl.metadata (814 bytes)\n",
            "Requirement already satisfied: pandas in /usr/local/lib/python3.10/dist-packages (from llama-index-legacy<0.10.0,>=0.9.48->llama-index) (2.2.2)\n",
            "Requirement already satisfied: beautifulsoup4<5.0.0,>=4.12.3 in /usr/local/lib/python3.10/dist-packages (from llama-index-readers-file<0.5.0,>=0.4.0->llama-index) (4.12.3)\n",
            "Collecting pypdf<6.0.0,>=5.1.0 (from llama-index-readers-file<0.5.0,>=0.4.0->llama-index)\n",
            "  Downloading pypdf-5.1.0-py3-none-any.whl.metadata (7.2 kB)\n",
            "Collecting striprtf<0.0.27,>=0.0.26 (from llama-index-readers-file<0.5.0,>=0.4.0->llama-index)\n",
            "  Downloading striprtf-0.0.26-py3-none-any.whl.metadata (2.1 kB)\n",
            "Collecting llama-parse>=0.5.0 (from llama-index-readers-llama-parse>=0.4.0->llama-index)\n",
            "  Downloading llama_parse-0.5.16-py3-none-any.whl.metadata (7.0 kB)\n",
            "Requirement already satisfied: click in /usr/local/lib/python3.10/dist-packages (from nltk>3.8.1->llama-index) (8.1.7)\n",
            "Requirement already satisfied: joblib in /usr/local/lib/python3.10/dist-packages (from nltk>3.8.1->llama-index) (1.4.2)\n",
            "Requirement already satisfied: regex>=2021.8.3 in /usr/local/lib/python3.10/dist-packages (from nltk>3.8.1->llama-index) (2024.9.11)\n",
            "Requirement already satisfied: aiohappyeyeballs>=2.3.0 in /usr/local/lib/python3.10/dist-packages (from aiohttp<4.0.0,>=3.8.6->llama-index-core<0.13.0,>=0.12.2->llama-index) (2.4.3)\n",
            "Requirement already satisfied: aiosignal>=1.1.2 in /usr/local/lib/python3.10/dist-packages (from aiohttp<4.0.0,>=3.8.6->llama-index-core<0.13.0,>=0.12.2->llama-index) (1.3.1)\n",
            "Requirement already satisfied: attrs>=17.3.0 in /usr/local/lib/python3.10/dist-packages (from aiohttp<4.0.0,>=3.8.6->llama-index-core<0.13.0,>=0.12.2->llama-index) (24.2.0)\n",
            "Requirement already satisfied: frozenlist>=1.1.1 in /usr/local/lib/python3.10/dist-packages (from aiohttp<4.0.0,>=3.8.6->llama-index-core<0.13.0,>=0.12.2->llama-index) (1.5.0)\n",
            "Requirement already satisfied: multidict<7.0,>=4.5 in /usr/local/lib/python3.10/dist-packages (from aiohttp<4.0.0,>=3.8.6->llama-index-core<0.13.0,>=0.12.2->llama-index) (6.1.0)\n",
            "Requirement already satisfied: propcache>=0.2.0 in /usr/local/lib/python3.10/dist-packages (from aiohttp<4.0.0,>=3.8.6->llama-index-core<0.13.0,>=0.12.2->llama-index) (0.2.0)\n",
            "Requirement already satisfied: yarl<2.0,>=1.17.0 in /usr/local/lib/python3.10/dist-packages (from aiohttp<4.0.0,>=3.8.6->llama-index-core<0.13.0,>=0.12.2->llama-index) (1.17.2)\n",
            "Requirement already satisfied: async-timeout<6.0,>=4.0 in /usr/local/lib/python3.10/dist-packages (from aiohttp<4.0.0,>=3.8.6->llama-index-core<0.13.0,>=0.12.2->llama-index) (4.0.3)\n",
            "Requirement already satisfied: soupsieve>1.2 in /usr/local/lib/python3.10/dist-packages (from beautifulsoup4<5.0.0,>=4.12.3->llama-index-readers-file<0.5.0,>=0.4.0->llama-index) (2.6)\n",
            "Requirement already satisfied: anyio in /usr/local/lib/python3.10/dist-packages (from httpx->llama-index-core<0.13.0,>=0.12.2->llama-index) (3.7.1)\n",
            "Requirement already satisfied: certifi in /usr/local/lib/python3.10/dist-packages (from httpx->llama-index-core<0.13.0,>=0.12.2->llama-index) (2024.8.30)\n",
            "Requirement already satisfied: httpcore==1.* in /usr/local/lib/python3.10/dist-packages (from httpx->llama-index-core<0.13.0,>=0.12.2->llama-index) (1.0.7)\n",
            "Requirement already satisfied: idna in /usr/local/lib/python3.10/dist-packages (from httpx->llama-index-core<0.13.0,>=0.12.2->llama-index) (3.10)\n",
            "Requirement already satisfied: sniffio in /usr/local/lib/python3.10/dist-packages (from httpx->llama-index-core<0.13.0,>=0.12.2->llama-index) (1.3.1)\n",
            "Requirement already satisfied: h11<0.15,>=0.13 in /usr/local/lib/python3.10/dist-packages (from httpcore==1.*->httpx->llama-index-core<0.13.0,>=0.12.2->llama-index) (0.14.0)\n",
            "Requirement already satisfied: distro<2,>=1.7.0 in /usr/local/lib/python3.10/dist-packages (from openai>=1.14.0->llama-index-agent-openai<0.5.0,>=0.4.0->llama-index) (1.9.0)\n",
            "Requirement already satisfied: jiter<1,>=0.4.0 in /usr/local/lib/python3.10/dist-packages (from openai>=1.14.0->llama-index-agent-openai<0.5.0,>=0.4.0->llama-index) (0.7.1)\n",
            "Requirement already satisfied: annotated-types>=0.6.0 in /usr/local/lib/python3.10/dist-packages (from pydantic<2.10.0,>=2.7.0->llama-index-core<0.13.0,>=0.12.2->llama-index) (0.7.0)\n",
            "Requirement already satisfied: pydantic-core==2.23.4 in /usr/local/lib/python3.10/dist-packages (from pydantic<2.10.0,>=2.7.0->llama-index-core<0.13.0,>=0.12.2->llama-index) (2.23.4)\n",
            "Requirement already satisfied: charset-normalizer<4,>=2 in /usr/local/lib/python3.10/dist-packages (from requests>=2.31.0->llama-index-core<0.13.0,>=0.12.2->llama-index) (3.4.0)\n",
            "Requirement already satisfied: urllib3<3,>=1.21.1 in /usr/local/lib/python3.10/dist-packages (from requests>=2.31.0->llama-index-core<0.13.0,>=0.12.2->llama-index) (2.2.3)\n",
            "Requirement already satisfied: greenlet!=0.4.17 in /usr/local/lib/python3.10/dist-packages (from SQLAlchemy>=1.4.49->SQLAlchemy[asyncio]>=1.4.49->llama-index-core<0.13.0,>=0.12.2->llama-index) (3.1.1)\n",
            "Collecting mypy-extensions>=0.3.0 (from typing-inspect>=0.8.0->llama-index-core<0.13.0,>=0.12.2->llama-index)\n",
            "  Downloading mypy_extensions-1.0.0-py3-none-any.whl.metadata (1.1 kB)\n",
            "Collecting marshmallow<4.0.0,>=3.18.0 (from dataclasses-json->llama-index-core<0.13.0,>=0.12.2->llama-index)\n",
            "  Downloading marshmallow-3.23.1-py3-none-any.whl.metadata (7.5 kB)\n",
            "Requirement already satisfied: python-dateutil>=2.8.2 in /usr/local/lib/python3.10/dist-packages (from pandas->llama-index-legacy<0.10.0,>=0.9.48->llama-index) (2.8.2)\n",
            "Requirement already satisfied: pytz>=2020.1 in /usr/local/lib/python3.10/dist-packages (from pandas->llama-index-legacy<0.10.0,>=0.9.48->llama-index) (2024.2)\n",
            "Requirement already satisfied: tzdata>=2022.7 in /usr/local/lib/python3.10/dist-packages (from pandas->llama-index-legacy<0.10.0,>=0.9.48->llama-index) (2024.2)\n",
            "Requirement already satisfied: exceptiongroup in /usr/local/lib/python3.10/dist-packages (from anyio->httpx->llama-index-core<0.13.0,>=0.12.2->llama-index) (1.2.2)\n",
            "Requirement already satisfied: packaging>=17.0 in /usr/local/lib/python3.10/dist-packages (from marshmallow<4.0.0,>=3.18.0->dataclasses-json->llama-index-core<0.13.0,>=0.12.2->llama-index) (24.2)\n",
            "Requirement already satisfied: six>=1.5 in /usr/local/lib/python3.10/dist-packages (from python-dateutil>=2.8.2->pandas->llama-index-legacy<0.10.0,>=0.9.48->llama-index) (1.16.0)\n",
            "Downloading llama_index-0.12.2-py3-none-any.whl (6.8 kB)\n",
            "Downloading llama_index_agent_openai-0.4.0-py3-none-any.whl (13 kB)\n",
            "Downloading llama_index_cli-0.4.0-py3-none-any.whl (27 kB)\n",
            "Downloading llama_index_core-0.12.2-py3-none-any.whl (1.6 MB)\n",
            "\u001b[2K   \u001b[90m━━━━━━━━━━━━━━━━━━━━━━━━━━━━━━━━━━━━━━━━\u001b[0m \u001b[32m1.6/1.6 MB\u001b[0m \u001b[31m18.5 MB/s\u001b[0m eta \u001b[36m0:00:00\u001b[0m\n",
            "\u001b[?25hDownloading llama_index_embeddings_openai-0.3.1-py3-none-any.whl (6.2 kB)\n",
            "Downloading llama_index_indices_managed_llama_cloud-0.6.3-py3-none-any.whl (11 kB)\n",
            "Downloading llama_index_legacy-0.9.48.post4-py3-none-any.whl (1.2 MB)\n",
            "\u001b[2K   \u001b[90m━━━━━━━━━━━━━━━━━━━━━━━━━━━━━━━━━━━━━━━━\u001b[0m \u001b[32m1.2/1.2 MB\u001b[0m \u001b[31m23.4 MB/s\u001b[0m eta \u001b[36m0:00:00\u001b[0m\n",
            "\u001b[?25hDownloading llama_index_llms_openai-0.3.2-py3-none-any.whl (13 kB)\n",
            "Downloading llama_index_multi_modal_llms_openai-0.3.0-py3-none-any.whl (5.9 kB)\n",
            "Downloading llama_index_program_openai-0.3.1-py3-none-any.whl (5.3 kB)\n",
            "Downloading llama_index_question_gen_openai-0.3.0-py3-none-any.whl (2.9 kB)\n",
            "Downloading llama_index_readers_file-0.4.0-py3-none-any.whl (38 kB)\n",
            "Downloading llama_index_readers_llama_parse-0.4.0-py3-none-any.whl (2.5 kB)\n",
            "Downloading dirtyjson-1.0.8-py3-none-any.whl (25 kB)\n",
            "Downloading filetype-1.2.0-py2.py3-none-any.whl (19 kB)\n",
            "Downloading llama_cloud-0.1.6-py3-none-any.whl (195 kB)\n",
            "\u001b[2K   \u001b[90m━━━━━━━━━━━━━━━━━━━━━━━━━━━━━━━━━━━━━━━━\u001b[0m \u001b[32m195.8/195.8 kB\u001b[0m \u001b[31m12.1 MB/s\u001b[0m eta \u001b[36m0:00:00\u001b[0m\n",
            "\u001b[?25hDownloading llama_parse-0.5.16-py3-none-any.whl (14 kB)\n",
            "Downloading pypdf-5.1.0-py3-none-any.whl (297 kB)\n",
            "\u001b[2K   \u001b[90m━━━━━━━━━━━━━━━━━━━━━━━━━━━━━━━━━━━━━━━━\u001b[0m \u001b[32m298.0/298.0 kB\u001b[0m \u001b[31m16.3 MB/s\u001b[0m eta \u001b[36m0:00:00\u001b[0m\n",
            "\u001b[?25hDownloading striprtf-0.0.26-py3-none-any.whl (6.9 kB)\n",
            "Downloading tenacity-8.5.0-py3-none-any.whl (28 kB)\n",
            "Downloading tiktoken-0.8.0-cp310-cp310-manylinux_2_17_x86_64.manylinux2014_x86_64.whl (1.2 MB)\n",
            "\u001b[2K   \u001b[90m━━━━━━━━━━━━━━━━━━━━━━━━━━━━━━━━━━━━━━━━\u001b[0m \u001b[32m1.2/1.2 MB\u001b[0m \u001b[31m47.0 MB/s\u001b[0m eta \u001b[36m0:00:00\u001b[0m\n",
            "\u001b[?25hDownloading typing_inspect-0.9.0-py3-none-any.whl (8.8 kB)\n",
            "Downloading dataclasses_json-0.6.7-py3-none-any.whl (28 kB)\n",
            "Downloading marshmallow-3.23.1-py3-none-any.whl (49 kB)\n",
            "\u001b[2K   \u001b[90m━━━━━━━━━━━━━━━━━━━━━━━━━━━━━━━━━━━━━━━━\u001b[0m \u001b[32m49.5/49.5 kB\u001b[0m \u001b[31m3.3 MB/s\u001b[0m eta \u001b[36m0:00:00\u001b[0m\n",
            "\u001b[?25hDownloading mypy_extensions-1.0.0-py3-none-any.whl (4.7 kB)\n",
            "Installing collected packages: striprtf, filetype, dirtyjson, tenacity, pypdf, mypy-extensions, marshmallow, typing-inspect, tiktoken, llama-cloud, dataclasses-json, llama-index-legacy, llama-index-core, llama-parse, llama-index-readers-file, llama-index-llms-openai, llama-index-indices-managed-llama-cloud, llama-index-embeddings-openai, llama-index-readers-llama-parse, llama-index-multi-modal-llms-openai, llama-index-cli, llama-index-agent-openai, llama-index-program-openai, llama-index-question-gen-openai, llama-index\n",
            "  Attempting uninstall: tenacity\n",
            "    Found existing installation: tenacity 9.0.0\n",
            "    Uninstalling tenacity-9.0.0:\n",
            "      Successfully uninstalled tenacity-9.0.0\n",
            "Successfully installed dataclasses-json-0.6.7 dirtyjson-1.0.8 filetype-1.2.0 llama-cloud-0.1.6 llama-index-0.12.2 llama-index-agent-openai-0.4.0 llama-index-cli-0.4.0 llama-index-core-0.12.2 llama-index-embeddings-openai-0.3.1 llama-index-indices-managed-llama-cloud-0.6.3 llama-index-legacy-0.9.48.post4 llama-index-llms-openai-0.3.2 llama-index-multi-modal-llms-openai-0.3.0 llama-index-program-openai-0.3.1 llama-index-question-gen-openai-0.3.0 llama-index-readers-file-0.4.0 llama-index-readers-llama-parse-0.4.0 llama-parse-0.5.16 marshmallow-3.23.1 mypy-extensions-1.0.0 pypdf-5.1.0 striprtf-0.0.26 tenacity-8.5.0 tiktoken-0.8.0 typing-inspect-0.9.0\n",
            "Requirement already satisfied: llama-index-core in /usr/local/lib/python3.10/dist-packages (0.12.2)\n",
            "Requirement already satisfied: PyYAML>=6.0.1 in /usr/local/lib/python3.10/dist-packages (from llama-index-core) (6.0.2)\n",
            "Requirement already satisfied: SQLAlchemy>=1.4.49 in /usr/local/lib/python3.10/dist-packages (from SQLAlchemy[asyncio]>=1.4.49->llama-index-core) (2.0.36)\n",
            "Requirement already satisfied: aiohttp<4.0.0,>=3.8.6 in /usr/local/lib/python3.10/dist-packages (from llama-index-core) (3.11.2)\n",
            "Requirement already satisfied: dataclasses-json in /usr/local/lib/python3.10/dist-packages (from llama-index-core) (0.6.7)\n",
            "Requirement already satisfied: deprecated>=1.2.9.3 in /usr/local/lib/python3.10/dist-packages (from llama-index-core) (1.2.15)\n",
            "Requirement already satisfied: dirtyjson<2.0.0,>=1.0.8 in /usr/local/lib/python3.10/dist-packages (from llama-index-core) (1.0.8)\n",
            "Requirement already satisfied: filetype<2.0.0,>=1.2.0 in /usr/local/lib/python3.10/dist-packages (from llama-index-core) (1.2.0)\n",
            "Requirement already satisfied: fsspec>=2023.5.0 in /usr/local/lib/python3.10/dist-packages (from llama-index-core) (2024.10.0)\n",
            "Requirement already satisfied: httpx in /usr/local/lib/python3.10/dist-packages (from llama-index-core) (0.27.2)\n",
            "Requirement already satisfied: nest-asyncio<2.0.0,>=1.5.8 in /usr/local/lib/python3.10/dist-packages (from llama-index-core) (1.6.0)\n",
            "Requirement already satisfied: networkx>=3.0 in /usr/local/lib/python3.10/dist-packages (from llama-index-core) (3.4.2)\n",
            "Requirement already satisfied: nltk>3.8.1 in /usr/local/lib/python3.10/dist-packages (from llama-index-core) (3.9.1)\n",
            "Requirement already satisfied: numpy in /usr/local/lib/python3.10/dist-packages (from llama-index-core) (1.26.4)\n",
            "Requirement already satisfied: pillow>=9.0.0 in /usr/local/lib/python3.10/dist-packages (from llama-index-core) (11.0.0)\n",
            "Requirement already satisfied: pydantic<2.10.0,>=2.7.0 in /usr/local/lib/python3.10/dist-packages (from llama-index-core) (2.9.2)\n",
            "Requirement already satisfied: requests>=2.31.0 in /usr/local/lib/python3.10/dist-packages (from llama-index-core) (2.32.3)\n",
            "Requirement already satisfied: tenacity!=8.4.0,<9.0.0,>=8.2.0 in /usr/local/lib/python3.10/dist-packages (from llama-index-core) (8.5.0)\n",
            "Requirement already satisfied: tiktoken>=0.3.3 in /usr/local/lib/python3.10/dist-packages (from llama-index-core) (0.8.0)\n",
            "Requirement already satisfied: tqdm<5.0.0,>=4.66.1 in /usr/local/lib/python3.10/dist-packages (from llama-index-core) (4.66.6)\n",
            "Requirement already satisfied: typing-extensions>=4.5.0 in /usr/local/lib/python3.10/dist-packages (from llama-index-core) (4.12.2)\n",
            "Requirement already satisfied: typing-inspect>=0.8.0 in /usr/local/lib/python3.10/dist-packages (from llama-index-core) (0.9.0)\n",
            "Requirement already satisfied: wrapt in /usr/local/lib/python3.10/dist-packages (from llama-index-core) (1.16.0)\n",
            "Requirement already satisfied: aiohappyeyeballs>=2.3.0 in /usr/local/lib/python3.10/dist-packages (from aiohttp<4.0.0,>=3.8.6->llama-index-core) (2.4.3)\n",
            "Requirement already satisfied: aiosignal>=1.1.2 in /usr/local/lib/python3.10/dist-packages (from aiohttp<4.0.0,>=3.8.6->llama-index-core) (1.3.1)\n",
            "Requirement already satisfied: attrs>=17.3.0 in /usr/local/lib/python3.10/dist-packages (from aiohttp<4.0.0,>=3.8.6->llama-index-core) (24.2.0)\n",
            "Requirement already satisfied: frozenlist>=1.1.1 in /usr/local/lib/python3.10/dist-packages (from aiohttp<4.0.0,>=3.8.6->llama-index-core) (1.5.0)\n",
            "Requirement already satisfied: multidict<7.0,>=4.5 in /usr/local/lib/python3.10/dist-packages (from aiohttp<4.0.0,>=3.8.6->llama-index-core) (6.1.0)\n",
            "Requirement already satisfied: propcache>=0.2.0 in /usr/local/lib/python3.10/dist-packages (from aiohttp<4.0.0,>=3.8.6->llama-index-core) (0.2.0)\n",
            "Requirement already satisfied: yarl<2.0,>=1.17.0 in /usr/local/lib/python3.10/dist-packages (from aiohttp<4.0.0,>=3.8.6->llama-index-core) (1.17.2)\n",
            "Requirement already satisfied: async-timeout<6.0,>=4.0 in /usr/local/lib/python3.10/dist-packages (from aiohttp<4.0.0,>=3.8.6->llama-index-core) (4.0.3)\n",
            "Requirement already satisfied: click in /usr/local/lib/python3.10/dist-packages (from nltk>3.8.1->llama-index-core) (8.1.7)\n",
            "Requirement already satisfied: joblib in /usr/local/lib/python3.10/dist-packages (from nltk>3.8.1->llama-index-core) (1.4.2)\n",
            "Requirement already satisfied: regex>=2021.8.3 in /usr/local/lib/python3.10/dist-packages (from nltk>3.8.1->llama-index-core) (2024.9.11)\n",
            "Requirement already satisfied: annotated-types>=0.6.0 in /usr/local/lib/python3.10/dist-packages (from pydantic<2.10.0,>=2.7.0->llama-index-core) (0.7.0)\n",
            "Requirement already satisfied: pydantic-core==2.23.4 in /usr/local/lib/python3.10/dist-packages (from pydantic<2.10.0,>=2.7.0->llama-index-core) (2.23.4)\n",
            "Requirement already satisfied: charset-normalizer<4,>=2 in /usr/local/lib/python3.10/dist-packages (from requests>=2.31.0->llama-index-core) (3.4.0)\n",
            "Requirement already satisfied: idna<4,>=2.5 in /usr/local/lib/python3.10/dist-packages (from requests>=2.31.0->llama-index-core) (3.10)\n",
            "Requirement already satisfied: urllib3<3,>=1.21.1 in /usr/local/lib/python3.10/dist-packages (from requests>=2.31.0->llama-index-core) (2.2.3)\n",
            "Requirement already satisfied: certifi>=2017.4.17 in /usr/local/lib/python3.10/dist-packages (from requests>=2.31.0->llama-index-core) (2024.8.30)\n",
            "Requirement already satisfied: greenlet!=0.4.17 in /usr/local/lib/python3.10/dist-packages (from SQLAlchemy>=1.4.49->SQLAlchemy[asyncio]>=1.4.49->llama-index-core) (3.1.1)\n",
            "Requirement already satisfied: mypy-extensions>=0.3.0 in /usr/local/lib/python3.10/dist-packages (from typing-inspect>=0.8.0->llama-index-core) (1.0.0)\n",
            "Requirement already satisfied: marshmallow<4.0.0,>=3.18.0 in /usr/local/lib/python3.10/dist-packages (from dataclasses-json->llama-index-core) (3.23.1)\n",
            "Requirement already satisfied: anyio in /usr/local/lib/python3.10/dist-packages (from httpx->llama-index-core) (3.7.1)\n",
            "Requirement already satisfied: httpcore==1.* in /usr/local/lib/python3.10/dist-packages (from httpx->llama-index-core) (1.0.7)\n",
            "Requirement already satisfied: sniffio in /usr/local/lib/python3.10/dist-packages (from httpx->llama-index-core) (1.3.1)\n",
            "Requirement already satisfied: h11<0.15,>=0.13 in /usr/local/lib/python3.10/dist-packages (from httpcore==1.*->httpx->llama-index-core) (0.14.0)\n",
            "Requirement already satisfied: packaging>=17.0 in /usr/local/lib/python3.10/dist-packages (from marshmallow<4.0.0,>=3.18.0->dataclasses-json->llama-index-core) (24.2)\n",
            "Requirement already satisfied: exceptiongroup in /usr/local/lib/python3.10/dist-packages (from anyio->httpx->llama-index-core) (1.2.2)\n",
            "Requirement already satisfied: llama-index-embeddings-openai in /usr/local/lib/python3.10/dist-packages (0.3.1)\n",
            "Requirement already satisfied: llama-index-core<0.13.0,>=0.12.0 in /usr/local/lib/python3.10/dist-packages (from llama-index-embeddings-openai) (0.12.2)\n",
            "Requirement already satisfied: openai>=1.1.0 in /usr/local/lib/python3.10/dist-packages (from llama-index-embeddings-openai) (1.54.4)\n",
            "Requirement already satisfied: PyYAML>=6.0.1 in /usr/local/lib/python3.10/dist-packages (from llama-index-core<0.13.0,>=0.12.0->llama-index-embeddings-openai) (6.0.2)\n",
            "Requirement already satisfied: SQLAlchemy>=1.4.49 in /usr/local/lib/python3.10/dist-packages (from SQLAlchemy[asyncio]>=1.4.49->llama-index-core<0.13.0,>=0.12.0->llama-index-embeddings-openai) (2.0.36)\n",
            "Requirement already satisfied: aiohttp<4.0.0,>=3.8.6 in /usr/local/lib/python3.10/dist-packages (from llama-index-core<0.13.0,>=0.12.0->llama-index-embeddings-openai) (3.11.2)\n",
            "Requirement already satisfied: dataclasses-json in /usr/local/lib/python3.10/dist-packages (from llama-index-core<0.13.0,>=0.12.0->llama-index-embeddings-openai) (0.6.7)\n",
            "Requirement already satisfied: deprecated>=1.2.9.3 in /usr/local/lib/python3.10/dist-packages (from llama-index-core<0.13.0,>=0.12.0->llama-index-embeddings-openai) (1.2.15)\n",
            "Requirement already satisfied: dirtyjson<2.0.0,>=1.0.8 in /usr/local/lib/python3.10/dist-packages (from llama-index-core<0.13.0,>=0.12.0->llama-index-embeddings-openai) (1.0.8)\n",
            "Requirement already satisfied: filetype<2.0.0,>=1.2.0 in /usr/local/lib/python3.10/dist-packages (from llama-index-core<0.13.0,>=0.12.0->llama-index-embeddings-openai) (1.2.0)\n",
            "Requirement already satisfied: fsspec>=2023.5.0 in /usr/local/lib/python3.10/dist-packages (from llama-index-core<0.13.0,>=0.12.0->llama-index-embeddings-openai) (2024.10.0)\n",
            "Requirement already satisfied: httpx in /usr/local/lib/python3.10/dist-packages (from llama-index-core<0.13.0,>=0.12.0->llama-index-embeddings-openai) (0.27.2)\n",
            "Requirement already satisfied: nest-asyncio<2.0.0,>=1.5.8 in /usr/local/lib/python3.10/dist-packages (from llama-index-core<0.13.0,>=0.12.0->llama-index-embeddings-openai) (1.6.0)\n",
            "Requirement already satisfied: networkx>=3.0 in /usr/local/lib/python3.10/dist-packages (from llama-index-core<0.13.0,>=0.12.0->llama-index-embeddings-openai) (3.4.2)\n",
            "Requirement already satisfied: nltk>3.8.1 in /usr/local/lib/python3.10/dist-packages (from llama-index-core<0.13.0,>=0.12.0->llama-index-embeddings-openai) (3.9.1)\n",
            "Requirement already satisfied: numpy in /usr/local/lib/python3.10/dist-packages (from llama-index-core<0.13.0,>=0.12.0->llama-index-embeddings-openai) (1.26.4)\n",
            "Requirement already satisfied: pillow>=9.0.0 in /usr/local/lib/python3.10/dist-packages (from llama-index-core<0.13.0,>=0.12.0->llama-index-embeddings-openai) (11.0.0)\n",
            "Requirement already satisfied: pydantic<2.10.0,>=2.7.0 in /usr/local/lib/python3.10/dist-packages (from llama-index-core<0.13.0,>=0.12.0->llama-index-embeddings-openai) (2.9.2)\n",
            "Requirement already satisfied: requests>=2.31.0 in /usr/local/lib/python3.10/dist-packages (from llama-index-core<0.13.0,>=0.12.0->llama-index-embeddings-openai) (2.32.3)\n",
            "Requirement already satisfied: tenacity!=8.4.0,<9.0.0,>=8.2.0 in /usr/local/lib/python3.10/dist-packages (from llama-index-core<0.13.0,>=0.12.0->llama-index-embeddings-openai) (8.5.0)\n",
            "Requirement already satisfied: tiktoken>=0.3.3 in /usr/local/lib/python3.10/dist-packages (from llama-index-core<0.13.0,>=0.12.0->llama-index-embeddings-openai) (0.8.0)\n",
            "Requirement already satisfied: tqdm<5.0.0,>=4.66.1 in /usr/local/lib/python3.10/dist-packages (from llama-index-core<0.13.0,>=0.12.0->llama-index-embeddings-openai) (4.66.6)\n",
            "Requirement already satisfied: typing-extensions>=4.5.0 in /usr/local/lib/python3.10/dist-packages (from llama-index-core<0.13.0,>=0.12.0->llama-index-embeddings-openai) (4.12.2)\n",
            "Requirement already satisfied: typing-inspect>=0.8.0 in /usr/local/lib/python3.10/dist-packages (from llama-index-core<0.13.0,>=0.12.0->llama-index-embeddings-openai) (0.9.0)\n",
            "Requirement already satisfied: wrapt in /usr/local/lib/python3.10/dist-packages (from llama-index-core<0.13.0,>=0.12.0->llama-index-embeddings-openai) (1.16.0)\n",
            "Requirement already satisfied: anyio<5,>=3.5.0 in /usr/local/lib/python3.10/dist-packages (from openai>=1.1.0->llama-index-embeddings-openai) (3.7.1)\n",
            "Requirement already satisfied: distro<2,>=1.7.0 in /usr/local/lib/python3.10/dist-packages (from openai>=1.1.0->llama-index-embeddings-openai) (1.9.0)\n",
            "Requirement already satisfied: jiter<1,>=0.4.0 in /usr/local/lib/python3.10/dist-packages (from openai>=1.1.0->llama-index-embeddings-openai) (0.7.1)\n",
            "Requirement already satisfied: sniffio in /usr/local/lib/python3.10/dist-packages (from openai>=1.1.0->llama-index-embeddings-openai) (1.3.1)\n",
            "Requirement already satisfied: aiohappyeyeballs>=2.3.0 in /usr/local/lib/python3.10/dist-packages (from aiohttp<4.0.0,>=3.8.6->llama-index-core<0.13.0,>=0.12.0->llama-index-embeddings-openai) (2.4.3)\n",
            "Requirement already satisfied: aiosignal>=1.1.2 in /usr/local/lib/python3.10/dist-packages (from aiohttp<4.0.0,>=3.8.6->llama-index-core<0.13.0,>=0.12.0->llama-index-embeddings-openai) (1.3.1)\n",
            "Requirement already satisfied: attrs>=17.3.0 in /usr/local/lib/python3.10/dist-packages (from aiohttp<4.0.0,>=3.8.6->llama-index-core<0.13.0,>=0.12.0->llama-index-embeddings-openai) (24.2.0)\n",
            "Requirement already satisfied: frozenlist>=1.1.1 in /usr/local/lib/python3.10/dist-packages (from aiohttp<4.0.0,>=3.8.6->llama-index-core<0.13.0,>=0.12.0->llama-index-embeddings-openai) (1.5.0)\n",
            "Requirement already satisfied: multidict<7.0,>=4.5 in /usr/local/lib/python3.10/dist-packages (from aiohttp<4.0.0,>=3.8.6->llama-index-core<0.13.0,>=0.12.0->llama-index-embeddings-openai) (6.1.0)\n",
            "Requirement already satisfied: propcache>=0.2.0 in /usr/local/lib/python3.10/dist-packages (from aiohttp<4.0.0,>=3.8.6->llama-index-core<0.13.0,>=0.12.0->llama-index-embeddings-openai) (0.2.0)\n",
            "Requirement already satisfied: yarl<2.0,>=1.17.0 in /usr/local/lib/python3.10/dist-packages (from aiohttp<4.0.0,>=3.8.6->llama-index-core<0.13.0,>=0.12.0->llama-index-embeddings-openai) (1.17.2)\n",
            "Requirement already satisfied: async-timeout<6.0,>=4.0 in /usr/local/lib/python3.10/dist-packages (from aiohttp<4.0.0,>=3.8.6->llama-index-core<0.13.0,>=0.12.0->llama-index-embeddings-openai) (4.0.3)\n",
            "Requirement already satisfied: idna>=2.8 in /usr/local/lib/python3.10/dist-packages (from anyio<5,>=3.5.0->openai>=1.1.0->llama-index-embeddings-openai) (3.10)\n",
            "Requirement already satisfied: exceptiongroup in /usr/local/lib/python3.10/dist-packages (from anyio<5,>=3.5.0->openai>=1.1.0->llama-index-embeddings-openai) (1.2.2)\n",
            "Requirement already satisfied: certifi in /usr/local/lib/python3.10/dist-packages (from httpx->llama-index-core<0.13.0,>=0.12.0->llama-index-embeddings-openai) (2024.8.30)\n",
            "Requirement already satisfied: httpcore==1.* in /usr/local/lib/python3.10/dist-packages (from httpx->llama-index-core<0.13.0,>=0.12.0->llama-index-embeddings-openai) (1.0.7)\n",
            "Requirement already satisfied: h11<0.15,>=0.13 in /usr/local/lib/python3.10/dist-packages (from httpcore==1.*->httpx->llama-index-core<0.13.0,>=0.12.0->llama-index-embeddings-openai) (0.14.0)\n",
            "Requirement already satisfied: click in /usr/local/lib/python3.10/dist-packages (from nltk>3.8.1->llama-index-core<0.13.0,>=0.12.0->llama-index-embeddings-openai) (8.1.7)\n",
            "Requirement already satisfied: joblib in /usr/local/lib/python3.10/dist-packages (from nltk>3.8.1->llama-index-core<0.13.0,>=0.12.0->llama-index-embeddings-openai) (1.4.2)\n",
            "Requirement already satisfied: regex>=2021.8.3 in /usr/local/lib/python3.10/dist-packages (from nltk>3.8.1->llama-index-core<0.13.0,>=0.12.0->llama-index-embeddings-openai) (2024.9.11)\n",
            "Requirement already satisfied: annotated-types>=0.6.0 in /usr/local/lib/python3.10/dist-packages (from pydantic<2.10.0,>=2.7.0->llama-index-core<0.13.0,>=0.12.0->llama-index-embeddings-openai) (0.7.0)\n",
            "Requirement already satisfied: pydantic-core==2.23.4 in /usr/local/lib/python3.10/dist-packages (from pydantic<2.10.0,>=2.7.0->llama-index-core<0.13.0,>=0.12.0->llama-index-embeddings-openai) (2.23.4)\n",
            "Requirement already satisfied: charset-normalizer<4,>=2 in /usr/local/lib/python3.10/dist-packages (from requests>=2.31.0->llama-index-core<0.13.0,>=0.12.0->llama-index-embeddings-openai) (3.4.0)\n",
            "Requirement already satisfied: urllib3<3,>=1.21.1 in /usr/local/lib/python3.10/dist-packages (from requests>=2.31.0->llama-index-core<0.13.0,>=0.12.0->llama-index-embeddings-openai) (2.2.3)\n",
            "Requirement already satisfied: greenlet!=0.4.17 in /usr/local/lib/python3.10/dist-packages (from SQLAlchemy>=1.4.49->SQLAlchemy[asyncio]>=1.4.49->llama-index-core<0.13.0,>=0.12.0->llama-index-embeddings-openai) (3.1.1)\n",
            "Requirement already satisfied: mypy-extensions>=0.3.0 in /usr/local/lib/python3.10/dist-packages (from typing-inspect>=0.8.0->llama-index-core<0.13.0,>=0.12.0->llama-index-embeddings-openai) (1.0.0)\n",
            "Requirement already satisfied: marshmallow<4.0.0,>=3.18.0 in /usr/local/lib/python3.10/dist-packages (from dataclasses-json->llama-index-core<0.13.0,>=0.12.0->llama-index-embeddings-openai) (3.23.1)\n",
            "Requirement already satisfied: packaging>=17.0 in /usr/local/lib/python3.10/dist-packages (from marshmallow<4.0.0,>=3.18.0->dataclasses-json->llama-index-core<0.13.0,>=0.12.0->llama-index-embeddings-openai) (24.2)\n",
            "Requirement already satisfied: llama-parse in /usr/local/lib/python3.10/dist-packages (0.5.16)\n",
            "Requirement already satisfied: click<9.0.0,>=8.1.7 in /usr/local/lib/python3.10/dist-packages (from llama-parse) (8.1.7)\n",
            "Requirement already satisfied: llama-index-core>=0.11.0 in /usr/local/lib/python3.10/dist-packages (from llama-parse) (0.12.2)\n",
            "Requirement already satisfied: pydantic!=2.10 in /usr/local/lib/python3.10/dist-packages (from llama-parse) (2.9.2)\n",
            "Requirement already satisfied: PyYAML>=6.0.1 in /usr/local/lib/python3.10/dist-packages (from llama-index-core>=0.11.0->llama-parse) (6.0.2)\n",
            "Requirement already satisfied: SQLAlchemy>=1.4.49 in /usr/local/lib/python3.10/dist-packages (from SQLAlchemy[asyncio]>=1.4.49->llama-index-core>=0.11.0->llama-parse) (2.0.36)\n",
            "Requirement already satisfied: aiohttp<4.0.0,>=3.8.6 in /usr/local/lib/python3.10/dist-packages (from llama-index-core>=0.11.0->llama-parse) (3.11.2)\n",
            "Requirement already satisfied: dataclasses-json in /usr/local/lib/python3.10/dist-packages (from llama-index-core>=0.11.0->llama-parse) (0.6.7)\n",
            "Requirement already satisfied: deprecated>=1.2.9.3 in /usr/local/lib/python3.10/dist-packages (from llama-index-core>=0.11.0->llama-parse) (1.2.15)\n",
            "Requirement already satisfied: dirtyjson<2.0.0,>=1.0.8 in /usr/local/lib/python3.10/dist-packages (from llama-index-core>=0.11.0->llama-parse) (1.0.8)\n",
            "Requirement already satisfied: filetype<2.0.0,>=1.2.0 in /usr/local/lib/python3.10/dist-packages (from llama-index-core>=0.11.0->llama-parse) (1.2.0)\n",
            "Requirement already satisfied: fsspec>=2023.5.0 in /usr/local/lib/python3.10/dist-packages (from llama-index-core>=0.11.0->llama-parse) (2024.10.0)\n",
            "Requirement already satisfied: httpx in /usr/local/lib/python3.10/dist-packages (from llama-index-core>=0.11.0->llama-parse) (0.27.2)\n",
            "Requirement already satisfied: nest-asyncio<2.0.0,>=1.5.8 in /usr/local/lib/python3.10/dist-packages (from llama-index-core>=0.11.0->llama-parse) (1.6.0)\n",
            "Requirement already satisfied: networkx>=3.0 in /usr/local/lib/python3.10/dist-packages (from llama-index-core>=0.11.0->llama-parse) (3.4.2)\n",
            "Requirement already satisfied: nltk>3.8.1 in /usr/local/lib/python3.10/dist-packages (from llama-index-core>=0.11.0->llama-parse) (3.9.1)\n",
            "Requirement already satisfied: numpy in /usr/local/lib/python3.10/dist-packages (from llama-index-core>=0.11.0->llama-parse) (1.26.4)\n",
            "Requirement already satisfied: pillow>=9.0.0 in /usr/local/lib/python3.10/dist-packages (from llama-index-core>=0.11.0->llama-parse) (11.0.0)\n",
            "Requirement already satisfied: requests>=2.31.0 in /usr/local/lib/python3.10/dist-packages (from llama-index-core>=0.11.0->llama-parse) (2.32.3)\n",
            "Requirement already satisfied: tenacity!=8.4.0,<9.0.0,>=8.2.0 in /usr/local/lib/python3.10/dist-packages (from llama-index-core>=0.11.0->llama-parse) (8.5.0)\n",
            "Requirement already satisfied: tiktoken>=0.3.3 in /usr/local/lib/python3.10/dist-packages (from llama-index-core>=0.11.0->llama-parse) (0.8.0)\n",
            "Requirement already satisfied: tqdm<5.0.0,>=4.66.1 in /usr/local/lib/python3.10/dist-packages (from llama-index-core>=0.11.0->llama-parse) (4.66.6)\n",
            "Requirement already satisfied: typing-extensions>=4.5.0 in /usr/local/lib/python3.10/dist-packages (from llama-index-core>=0.11.0->llama-parse) (4.12.2)\n",
            "Requirement already satisfied: typing-inspect>=0.8.0 in /usr/local/lib/python3.10/dist-packages (from llama-index-core>=0.11.0->llama-parse) (0.9.0)\n",
            "Requirement already satisfied: wrapt in /usr/local/lib/python3.10/dist-packages (from llama-index-core>=0.11.0->llama-parse) (1.16.0)\n",
            "Requirement already satisfied: annotated-types>=0.6.0 in /usr/local/lib/python3.10/dist-packages (from pydantic!=2.10->llama-parse) (0.7.0)\n",
            "Requirement already satisfied: pydantic-core==2.23.4 in /usr/local/lib/python3.10/dist-packages (from pydantic!=2.10->llama-parse) (2.23.4)\n",
            "Requirement already satisfied: aiohappyeyeballs>=2.3.0 in /usr/local/lib/python3.10/dist-packages (from aiohttp<4.0.0,>=3.8.6->llama-index-core>=0.11.0->llama-parse) (2.4.3)\n",
            "Requirement already satisfied: aiosignal>=1.1.2 in /usr/local/lib/python3.10/dist-packages (from aiohttp<4.0.0,>=3.8.6->llama-index-core>=0.11.0->llama-parse) (1.3.1)\n",
            "Requirement already satisfied: attrs>=17.3.0 in /usr/local/lib/python3.10/dist-packages (from aiohttp<4.0.0,>=3.8.6->llama-index-core>=0.11.0->llama-parse) (24.2.0)\n",
            "Requirement already satisfied: frozenlist>=1.1.1 in /usr/local/lib/python3.10/dist-packages (from aiohttp<4.0.0,>=3.8.6->llama-index-core>=0.11.0->llama-parse) (1.5.0)\n",
            "Requirement already satisfied: multidict<7.0,>=4.5 in /usr/local/lib/python3.10/dist-packages (from aiohttp<4.0.0,>=3.8.6->llama-index-core>=0.11.0->llama-parse) (6.1.0)\n",
            "Requirement already satisfied: propcache>=0.2.0 in /usr/local/lib/python3.10/dist-packages (from aiohttp<4.0.0,>=3.8.6->llama-index-core>=0.11.0->llama-parse) (0.2.0)\n",
            "Requirement already satisfied: yarl<2.0,>=1.17.0 in /usr/local/lib/python3.10/dist-packages (from aiohttp<4.0.0,>=3.8.6->llama-index-core>=0.11.0->llama-parse) (1.17.2)\n",
            "Requirement already satisfied: async-timeout<6.0,>=4.0 in /usr/local/lib/python3.10/dist-packages (from aiohttp<4.0.0,>=3.8.6->llama-index-core>=0.11.0->llama-parse) (4.0.3)\n",
            "Requirement already satisfied: joblib in /usr/local/lib/python3.10/dist-packages (from nltk>3.8.1->llama-index-core>=0.11.0->llama-parse) (1.4.2)\n",
            "Requirement already satisfied: regex>=2021.8.3 in /usr/local/lib/python3.10/dist-packages (from nltk>3.8.1->llama-index-core>=0.11.0->llama-parse) (2024.9.11)\n",
            "Requirement already satisfied: charset-normalizer<4,>=2 in /usr/local/lib/python3.10/dist-packages (from requests>=2.31.0->llama-index-core>=0.11.0->llama-parse) (3.4.0)\n",
            "Requirement already satisfied: idna<4,>=2.5 in /usr/local/lib/python3.10/dist-packages (from requests>=2.31.0->llama-index-core>=0.11.0->llama-parse) (3.10)\n",
            "Requirement already satisfied: urllib3<3,>=1.21.1 in /usr/local/lib/python3.10/dist-packages (from requests>=2.31.0->llama-index-core>=0.11.0->llama-parse) (2.2.3)\n",
            "Requirement already satisfied: certifi>=2017.4.17 in /usr/local/lib/python3.10/dist-packages (from requests>=2.31.0->llama-index-core>=0.11.0->llama-parse) (2024.8.30)\n",
            "Requirement already satisfied: greenlet!=0.4.17 in /usr/local/lib/python3.10/dist-packages (from SQLAlchemy>=1.4.49->SQLAlchemy[asyncio]>=1.4.49->llama-index-core>=0.11.0->llama-parse) (3.1.1)\n",
            "Requirement already satisfied: mypy-extensions>=0.3.0 in /usr/local/lib/python3.10/dist-packages (from typing-inspect>=0.8.0->llama-index-core>=0.11.0->llama-parse) (1.0.0)\n",
            "Requirement already satisfied: marshmallow<4.0.0,>=3.18.0 in /usr/local/lib/python3.10/dist-packages (from dataclasses-json->llama-index-core>=0.11.0->llama-parse) (3.23.1)\n",
            "Requirement already satisfied: anyio in /usr/local/lib/python3.10/dist-packages (from httpx->llama-index-core>=0.11.0->llama-parse) (3.7.1)\n",
            "Requirement already satisfied: httpcore==1.* in /usr/local/lib/python3.10/dist-packages (from httpx->llama-index-core>=0.11.0->llama-parse) (1.0.7)\n",
            "Requirement already satisfied: sniffio in /usr/local/lib/python3.10/dist-packages (from httpx->llama-index-core>=0.11.0->llama-parse) (1.3.1)\n",
            "Requirement already satisfied: h11<0.15,>=0.13 in /usr/local/lib/python3.10/dist-packages (from httpcore==1.*->httpx->llama-index-core>=0.11.0->llama-parse) (0.14.0)\n",
            "Requirement already satisfied: packaging>=17.0 in /usr/local/lib/python3.10/dist-packages (from marshmallow<4.0.0,>=3.18.0->dataclasses-json->llama-index-core>=0.11.0->llama-parse) (24.2)\n",
            "Requirement already satisfied: exceptiongroup in /usr/local/lib/python3.10/dist-packages (from anyio->httpx->llama-index-core>=0.11.0->llama-parse) (1.2.2)\n",
            "Collecting llama-index-vector-stores-kdbai\n",
            "  Downloading llama_index_vector_stores_kdbai-0.5.0-py3-none-any.whl.metadata (756 bytes)\n",
            "Collecting kdbai-client>=1.4.0 (from llama-index-vector-stores-kdbai)\n",
            "  Downloading kdbai_client-1.5.0-py3-none-any.whl.metadata (3.2 kB)\n",
            "Requirement already satisfied: llama-index-core<0.13.0,>=0.12.0 in /usr/local/lib/python3.10/dist-packages (from llama-index-vector-stores-kdbai) (0.12.2)\n",
            "Requirement already satisfied: pandas in /usr/local/lib/python3.10/dist-packages (from llama-index-vector-stores-kdbai) (2.2.2)\n",
            "Collecting pykx<3.0.0,>=2.1.1 (from llama-index-vector-stores-kdbai)\n",
            "  Downloading pykx-2.5.5-cp310-cp310-manylinux_2_17_x86_64.manylinux2014_x86_64.whl.metadata (43 kB)\n",
            "\u001b[2K     \u001b[90m━━━━━━━━━━━━━━━━━━━━━━━━━━━━━━━━━━━━━━━━\u001b[0m \u001b[32m44.0/44.0 kB\u001b[0m \u001b[31m1.8 MB/s\u001b[0m eta \u001b[36m0:00:00\u001b[0m\n",
            "\u001b[?25hCollecting botocore<2.0.0,>=1.35.42 (from kdbai-client>=1.4.0->llama-index-vector-stores-kdbai)\n",
            "  Downloading botocore-1.35.76-py3-none-any.whl.metadata (5.7 kB)\n",
            "Collecting cohere==5.9.4 (from kdbai-client>=1.4.0->llama-index-vector-stores-kdbai)\n",
            "  Downloading cohere-5.9.4-py3-none-any.whl.metadata (3.4 kB)\n",
            "Requirement already satisfied: packaging in /usr/local/lib/python3.10/dist-packages (from kdbai-client>=1.4.0->llama-index-vector-stores-kdbai) (24.2)\n",
            "Requirement already satisfied: requests==2.32.3 in /usr/local/lib/python3.10/dist-packages (from kdbai-client>=1.4.0->llama-index-vector-stores-kdbai) (2.32.3)\n",
            "Collecting voyageai==0.2.3 (from kdbai-client>=1.4.0->llama-index-vector-stores-kdbai)\n",
            "  Downloading voyageai-0.2.3-py3-none-any.whl.metadata (2.6 kB)\n",
            "Collecting boto3<2.0.0,>=1.34.0 (from cohere==5.9.4->kdbai-client>=1.4.0->llama-index-vector-stores-kdbai)\n",
            "  Downloading boto3-1.35.76-py3-none-any.whl.metadata (6.7 kB)\n",
            "Collecting fastavro<2.0.0,>=1.9.4 (from cohere==5.9.4->kdbai-client>=1.4.0->llama-index-vector-stores-kdbai)\n",
            "  Downloading fastavro-1.9.7-cp310-cp310-manylinux_2_17_x86_64.manylinux2014_x86_64.whl.metadata (5.5 kB)\n",
            "Requirement already satisfied: httpx>=0.21.2 in /usr/local/lib/python3.10/dist-packages (from cohere==5.9.4->kdbai-client>=1.4.0->llama-index-vector-stores-kdbai) (0.27.2)\n",
            "Collecting httpx-sse==0.4.0 (from cohere==5.9.4->kdbai-client>=1.4.0->llama-index-vector-stores-kdbai)\n",
            "  Downloading httpx_sse-0.4.0-py3-none-any.whl.metadata (9.0 kB)\n",
            "Collecting parameterized<0.10.0,>=0.9.0 (from cohere==5.9.4->kdbai-client>=1.4.0->llama-index-vector-stores-kdbai)\n",
            "  Downloading parameterized-0.9.0-py2.py3-none-any.whl.metadata (18 kB)\n",
            "Requirement already satisfied: pydantic>=1.9.2 in /usr/local/lib/python3.10/dist-packages (from cohere==5.9.4->kdbai-client>=1.4.0->llama-index-vector-stores-kdbai) (2.9.2)\n",
            "Requirement already satisfied: pydantic-core<3.0.0,>=2.18.2 in /usr/local/lib/python3.10/dist-packages (from cohere==5.9.4->kdbai-client>=1.4.0->llama-index-vector-stores-kdbai) (2.23.4)\n",
            "Requirement already satisfied: tokenizers<1,>=0.15 in /usr/local/lib/python3.10/dist-packages (from cohere==5.9.4->kdbai-client>=1.4.0->llama-index-vector-stores-kdbai) (0.20.3)\n",
            "Collecting types-requests<3.0.0,>=2.0.0 (from cohere==5.9.4->kdbai-client>=1.4.0->llama-index-vector-stores-kdbai)\n",
            "  Downloading types_requests-2.32.0.20241016-py3-none-any.whl.metadata (1.9 kB)\n",
            "Requirement already satisfied: typing_extensions>=4.0.0 in /usr/local/lib/python3.10/dist-packages (from cohere==5.9.4->kdbai-client>=1.4.0->llama-index-vector-stores-kdbai) (4.12.2)\n",
            "Requirement already satisfied: charset-normalizer<4,>=2 in /usr/local/lib/python3.10/dist-packages (from requests==2.32.3->kdbai-client>=1.4.0->llama-index-vector-stores-kdbai) (3.4.0)\n",
            "Requirement already satisfied: idna<4,>=2.5 in /usr/local/lib/python3.10/dist-packages (from requests==2.32.3->kdbai-client>=1.4.0->llama-index-vector-stores-kdbai) (3.10)\n",
            "Requirement already satisfied: urllib3<3,>=1.21.1 in /usr/local/lib/python3.10/dist-packages (from requests==2.32.3->kdbai-client>=1.4.0->llama-index-vector-stores-kdbai) (2.2.3)\n",
            "Requirement already satisfied: certifi>=2017.4.17 in /usr/local/lib/python3.10/dist-packages (from requests==2.32.3->kdbai-client>=1.4.0->llama-index-vector-stores-kdbai) (2024.8.30)\n",
            "Requirement already satisfied: aiohttp<4.0,>=3.5 in /usr/local/lib/python3.10/dist-packages (from voyageai==0.2.3->kdbai-client>=1.4.0->llama-index-vector-stores-kdbai) (3.11.2)\n",
            "Collecting aiolimiter<2.0.0,>=1.1.0 (from voyageai==0.2.3->kdbai-client>=1.4.0->llama-index-vector-stores-kdbai)\n",
            "  Downloading aiolimiter-1.2.0-py3-none-any.whl.metadata (4.5 kB)\n",
            "Requirement already satisfied: numpy>=1.11 in /usr/local/lib/python3.10/dist-packages (from voyageai==0.2.3->kdbai-client>=1.4.0->llama-index-vector-stores-kdbai) (1.26.4)\n",
            "Requirement already satisfied: tenacity>=8.0.1 in /usr/local/lib/python3.10/dist-packages (from voyageai==0.2.3->kdbai-client>=1.4.0->llama-index-vector-stores-kdbai) (8.5.0)\n",
            "Requirement already satisfied: PyYAML>=6.0.1 in /usr/local/lib/python3.10/dist-packages (from llama-index-core<0.13.0,>=0.12.0->llama-index-vector-stores-kdbai) (6.0.2)\n",
            "Requirement already satisfied: SQLAlchemy>=1.4.49 in /usr/local/lib/python3.10/dist-packages (from SQLAlchemy[asyncio]>=1.4.49->llama-index-core<0.13.0,>=0.12.0->llama-index-vector-stores-kdbai) (2.0.36)\n",
            "Requirement already satisfied: dataclasses-json in /usr/local/lib/python3.10/dist-packages (from llama-index-core<0.13.0,>=0.12.0->llama-index-vector-stores-kdbai) (0.6.7)\n",
            "Requirement already satisfied: deprecated>=1.2.9.3 in /usr/local/lib/python3.10/dist-packages (from llama-index-core<0.13.0,>=0.12.0->llama-index-vector-stores-kdbai) (1.2.15)\n",
            "Requirement already satisfied: dirtyjson<2.0.0,>=1.0.8 in /usr/local/lib/python3.10/dist-packages (from llama-index-core<0.13.0,>=0.12.0->llama-index-vector-stores-kdbai) (1.0.8)\n",
            "Requirement already satisfied: filetype<2.0.0,>=1.2.0 in /usr/local/lib/python3.10/dist-packages (from llama-index-core<0.13.0,>=0.12.0->llama-index-vector-stores-kdbai) (1.2.0)\n",
            "Requirement already satisfied: fsspec>=2023.5.0 in /usr/local/lib/python3.10/dist-packages (from llama-index-core<0.13.0,>=0.12.0->llama-index-vector-stores-kdbai) (2024.10.0)\n",
            "Requirement already satisfied: nest-asyncio<2.0.0,>=1.5.8 in /usr/local/lib/python3.10/dist-packages (from llama-index-core<0.13.0,>=0.12.0->llama-index-vector-stores-kdbai) (1.6.0)\n",
            "Requirement already satisfied: networkx>=3.0 in /usr/local/lib/python3.10/dist-packages (from llama-index-core<0.13.0,>=0.12.0->llama-index-vector-stores-kdbai) (3.4.2)\n",
            "Requirement already satisfied: nltk>3.8.1 in /usr/local/lib/python3.10/dist-packages (from llama-index-core<0.13.0,>=0.12.0->llama-index-vector-stores-kdbai) (3.9.1)\n",
            "Requirement already satisfied: pillow>=9.0.0 in /usr/local/lib/python3.10/dist-packages (from llama-index-core<0.13.0,>=0.12.0->llama-index-vector-stores-kdbai) (11.0.0)\n",
            "Requirement already satisfied: tiktoken>=0.3.3 in /usr/local/lib/python3.10/dist-packages (from llama-index-core<0.13.0,>=0.12.0->llama-index-vector-stores-kdbai) (0.8.0)\n",
            "Requirement already satisfied: tqdm<5.0.0,>=4.66.1 in /usr/local/lib/python3.10/dist-packages (from llama-index-core<0.13.0,>=0.12.0->llama-index-vector-stores-kdbai) (4.66.6)\n",
            "Requirement already satisfied: typing-inspect>=0.8.0 in /usr/local/lib/python3.10/dist-packages (from llama-index-core<0.13.0,>=0.12.0->llama-index-vector-stores-kdbai) (0.9.0)\n",
            "Requirement already satisfied: wrapt in /usr/local/lib/python3.10/dist-packages (from llama-index-core<0.13.0,>=0.12.0->llama-index-vector-stores-kdbai) (1.16.0)\n",
            "Requirement already satisfied: python-dateutil>=2.8.2 in /usr/local/lib/python3.10/dist-packages (from pandas->llama-index-vector-stores-kdbai) (2.8.2)\n",
            "Requirement already satisfied: pytz>=2020.1 in /usr/local/lib/python3.10/dist-packages (from pandas->llama-index-vector-stores-kdbai) (2024.2)\n",
            "Requirement already satisfied: tzdata>=2022.7 in /usr/local/lib/python3.10/dist-packages (from pandas->llama-index-vector-stores-kdbai) (2024.2)\n",
            "Requirement already satisfied: toml~=0.10.2 in /usr/local/lib/python3.10/dist-packages (from pykx<3.0.0,>=2.1.1->llama-index-vector-stores-kdbai) (0.10.2)\n",
            "Requirement already satisfied: aiohappyeyeballs>=2.3.0 in /usr/local/lib/python3.10/dist-packages (from aiohttp<4.0,>=3.5->voyageai==0.2.3->kdbai-client>=1.4.0->llama-index-vector-stores-kdbai) (2.4.3)\n",
            "Requirement already satisfied: aiosignal>=1.1.2 in /usr/local/lib/python3.10/dist-packages (from aiohttp<4.0,>=3.5->voyageai==0.2.3->kdbai-client>=1.4.0->llama-index-vector-stores-kdbai) (1.3.1)\n",
            "Requirement already satisfied: attrs>=17.3.0 in /usr/local/lib/python3.10/dist-packages (from aiohttp<4.0,>=3.5->voyageai==0.2.3->kdbai-client>=1.4.0->llama-index-vector-stores-kdbai) (24.2.0)\n",
            "Requirement already satisfied: frozenlist>=1.1.1 in /usr/local/lib/python3.10/dist-packages (from aiohttp<4.0,>=3.5->voyageai==0.2.3->kdbai-client>=1.4.0->llama-index-vector-stores-kdbai) (1.5.0)\n",
            "Requirement already satisfied: multidict<7.0,>=4.5 in /usr/local/lib/python3.10/dist-packages (from aiohttp<4.0,>=3.5->voyageai==0.2.3->kdbai-client>=1.4.0->llama-index-vector-stores-kdbai) (6.1.0)\n",
            "Requirement already satisfied: propcache>=0.2.0 in /usr/local/lib/python3.10/dist-packages (from aiohttp<4.0,>=3.5->voyageai==0.2.3->kdbai-client>=1.4.0->llama-index-vector-stores-kdbai) (0.2.0)\n",
            "Requirement already satisfied: yarl<2.0,>=1.17.0 in /usr/local/lib/python3.10/dist-packages (from aiohttp<4.0,>=3.5->voyageai==0.2.3->kdbai-client>=1.4.0->llama-index-vector-stores-kdbai) (1.17.2)\n",
            "Requirement already satisfied: async-timeout<6.0,>=4.0 in /usr/local/lib/python3.10/dist-packages (from aiohttp<4.0,>=3.5->voyageai==0.2.3->kdbai-client>=1.4.0->llama-index-vector-stores-kdbai) (4.0.3)\n",
            "Collecting jmespath<2.0.0,>=0.7.1 (from botocore<2.0.0,>=1.35.42->kdbai-client>=1.4.0->llama-index-vector-stores-kdbai)\n",
            "  Downloading jmespath-1.0.1-py3-none-any.whl.metadata (7.6 kB)\n",
            "Requirement already satisfied: anyio in /usr/local/lib/python3.10/dist-packages (from httpx>=0.21.2->cohere==5.9.4->kdbai-client>=1.4.0->llama-index-vector-stores-kdbai) (3.7.1)\n",
            "Requirement already satisfied: httpcore==1.* in /usr/local/lib/python3.10/dist-packages (from httpx>=0.21.2->cohere==5.9.4->kdbai-client>=1.4.0->llama-index-vector-stores-kdbai) (1.0.7)\n",
            "Requirement already satisfied: sniffio in /usr/local/lib/python3.10/dist-packages (from httpx>=0.21.2->cohere==5.9.4->kdbai-client>=1.4.0->llama-index-vector-stores-kdbai) (1.3.1)\n",
            "Requirement already satisfied: h11<0.15,>=0.13 in /usr/local/lib/python3.10/dist-packages (from httpcore==1.*->httpx>=0.21.2->cohere==5.9.4->kdbai-client>=1.4.0->llama-index-vector-stores-kdbai) (0.14.0)\n",
            "Requirement already satisfied: click in /usr/local/lib/python3.10/dist-packages (from nltk>3.8.1->llama-index-core<0.13.0,>=0.12.0->llama-index-vector-stores-kdbai) (8.1.7)\n",
            "Requirement already satisfied: joblib in /usr/local/lib/python3.10/dist-packages (from nltk>3.8.1->llama-index-core<0.13.0,>=0.12.0->llama-index-vector-stores-kdbai) (1.4.2)\n",
            "Requirement already satisfied: regex>=2021.8.3 in /usr/local/lib/python3.10/dist-packages (from nltk>3.8.1->llama-index-core<0.13.0,>=0.12.0->llama-index-vector-stores-kdbai) (2024.9.11)\n",
            "Requirement already satisfied: annotated-types>=0.6.0 in /usr/local/lib/python3.10/dist-packages (from pydantic>=1.9.2->cohere==5.9.4->kdbai-client>=1.4.0->llama-index-vector-stores-kdbai) (0.7.0)\n",
            "Requirement already satisfied: six>=1.5 in /usr/local/lib/python3.10/dist-packages (from python-dateutil>=2.8.2->pandas->llama-index-vector-stores-kdbai) (1.16.0)\n",
            "Requirement already satisfied: greenlet!=0.4.17 in /usr/local/lib/python3.10/dist-packages (from SQLAlchemy>=1.4.49->SQLAlchemy[asyncio]>=1.4.49->llama-index-core<0.13.0,>=0.12.0->llama-index-vector-stores-kdbai) (3.1.1)\n",
            "Requirement already satisfied: mypy-extensions>=0.3.0 in /usr/local/lib/python3.10/dist-packages (from typing-inspect>=0.8.0->llama-index-core<0.13.0,>=0.12.0->llama-index-vector-stores-kdbai) (1.0.0)\n",
            "Requirement already satisfied: marshmallow<4.0.0,>=3.18.0 in /usr/local/lib/python3.10/dist-packages (from dataclasses-json->llama-index-core<0.13.0,>=0.12.0->llama-index-vector-stores-kdbai) (3.23.1)\n",
            "Collecting s3transfer<0.11.0,>=0.10.0 (from boto3<2.0.0,>=1.34.0->cohere==5.9.4->kdbai-client>=1.4.0->llama-index-vector-stores-kdbai)\n",
            "  Downloading s3transfer-0.10.4-py3-none-any.whl.metadata (1.7 kB)\n",
            "Requirement already satisfied: huggingface-hub<1.0,>=0.16.4 in /usr/local/lib/python3.10/dist-packages (from tokenizers<1,>=0.15->cohere==5.9.4->kdbai-client>=1.4.0->llama-index-vector-stores-kdbai) (0.26.2)\n",
            "Requirement already satisfied: exceptiongroup in /usr/local/lib/python3.10/dist-packages (from anyio->httpx>=0.21.2->cohere==5.9.4->kdbai-client>=1.4.0->llama-index-vector-stores-kdbai) (1.2.2)\n",
            "Requirement already satisfied: filelock in /usr/local/lib/python3.10/dist-packages (from huggingface-hub<1.0,>=0.16.4->tokenizers<1,>=0.15->cohere==5.9.4->kdbai-client>=1.4.0->llama-index-vector-stores-kdbai) (3.16.1)\n",
            "Downloading llama_index_vector_stores_kdbai-0.5.0-py3-none-any.whl (4.6 kB)\n",
            "Downloading kdbai_client-1.5.0-py3-none-any.whl (34 kB)\n",
            "Downloading cohere-5.9.4-py3-none-any.whl (233 kB)\n",
            "\u001b[2K   \u001b[90m━━━━━━━━━━━━━━━━━━━━━━━━━━━━━━━━━━━━━━━━\u001b[0m \u001b[32m233.1/233.1 kB\u001b[0m \u001b[31m6.2 MB/s\u001b[0m eta \u001b[36m0:00:00\u001b[0m\n",
            "\u001b[?25hDownloading voyageai-0.2.3-py3-none-any.whl (19 kB)\n",
            "Downloading httpx_sse-0.4.0-py3-none-any.whl (7.8 kB)\n",
            "Downloading pykx-2.5.5-cp310-cp310-manylinux_2_17_x86_64.manylinux2014_x86_64.whl (9.7 MB)\n",
            "\u001b[2K   \u001b[90m━━━━━━━━━━━━━━━━━━━━━━━━━━━━━━━━━━━━━━━━\u001b[0m \u001b[32m9.7/9.7 MB\u001b[0m \u001b[31m70.9 MB/s\u001b[0m eta \u001b[36m0:00:00\u001b[0m\n",
            "\u001b[?25hDownloading botocore-1.35.76-py3-none-any.whl (13.2 MB)\n",
            "\u001b[2K   \u001b[90m━━━━━━━━━━━━━━━━━━━━━━━━━━━━━━━━━━━━━━━━\u001b[0m \u001b[32m13.2/13.2 MB\u001b[0m \u001b[31m76.9 MB/s\u001b[0m eta \u001b[36m0:00:00\u001b[0m\n",
            "\u001b[?25hDownloading aiolimiter-1.2.0-py3-none-any.whl (6.3 kB)\n",
            "Downloading boto3-1.35.76-py3-none-any.whl (139 kB)\n",
            "\u001b[2K   \u001b[90m━━━━━━━━━━━━━━━━━━━━━━━━━━━━━━━━━━━━━━━━\u001b[0m \u001b[32m139.2/139.2 kB\u001b[0m \u001b[31m9.0 MB/s\u001b[0m eta \u001b[36m0:00:00\u001b[0m\n",
            "\u001b[?25hDownloading fastavro-1.9.7-cp310-cp310-manylinux_2_17_x86_64.manylinux2014_x86_64.whl (3.1 MB)\n",
            "\u001b[2K   \u001b[90m━━━━━━━━━━━━━━━━━━━━━━━━━━━━━━━━━━━━━━━━\u001b[0m \u001b[32m3.1/3.1 MB\u001b[0m \u001b[31m69.3 MB/s\u001b[0m eta \u001b[36m0:00:00\u001b[0m\n",
            "\u001b[?25hDownloading jmespath-1.0.1-py3-none-any.whl (20 kB)\n",
            "Downloading parameterized-0.9.0-py2.py3-none-any.whl (20 kB)\n",
            "Downloading types_requests-2.32.0.20241016-py3-none-any.whl (15 kB)\n",
            "Downloading s3transfer-0.10.4-py3-none-any.whl (83 kB)\n",
            "\u001b[2K   \u001b[90m━━━━━━━━━━━━━━━━━━━━━━━━━━━━━━━━━━━━━━━━\u001b[0m \u001b[32m83.2/83.2 kB\u001b[0m \u001b[31m5.2 MB/s\u001b[0m eta \u001b[36m0:00:00\u001b[0m\n",
            "\u001b[?25hInstalling collected packages: types-requests, parameterized, jmespath, httpx-sse, fastavro, aiolimiter, botocore, s3transfer, pykx, voyageai, boto3, cohere, kdbai-client, llama-index-vector-stores-kdbai\n",
            "Successfully installed aiolimiter-1.2.0 boto3-1.35.76 botocore-1.35.76 cohere-5.9.4 fastavro-1.9.7 httpx-sse-0.4.0 jmespath-1.0.1 kdbai-client-1.5.0 llama-index-vector-stores-kdbai-0.5.0 parameterized-0.9.0 pykx-2.5.5 s3transfer-0.10.4 types-requests-2.32.0.20241016 voyageai-0.2.3\n",
            "Requirement already satisfied: pandas in /usr/local/lib/python3.10/dist-packages (2.2.2)\n",
            "Requirement already satisfied: numpy>=1.22.4 in /usr/local/lib/python3.10/dist-packages (from pandas) (1.26.4)\n",
            "Requirement already satisfied: python-dateutil>=2.8.2 in /usr/local/lib/python3.10/dist-packages (from pandas) (2.8.2)\n",
            "Requirement already satisfied: pytz>=2020.1 in /usr/local/lib/python3.10/dist-packages (from pandas) (2024.2)\n",
            "Requirement already satisfied: tzdata>=2022.7 in /usr/local/lib/python3.10/dist-packages (from pandas) (2024.2)\n",
            "Requirement already satisfied: six>=1.5 in /usr/local/lib/python3.10/dist-packages (from python-dateutil>=2.8.2->pandas) (1.16.0)\n",
            "Collecting llama-index-postprocessor-cohere-rerank\n",
            "  Downloading llama_index_postprocessor_cohere_rerank-0.3.0-py3-none-any.whl.metadata (721 bytes)\n",
            "Requirement already satisfied: cohere<6.0.0,>=5.1.1 in /usr/local/lib/python3.10/dist-packages (from llama-index-postprocessor-cohere-rerank) (5.9.4)\n",
            "Requirement already satisfied: llama-index-core<0.13.0,>=0.12.0 in /usr/local/lib/python3.10/dist-packages (from llama-index-postprocessor-cohere-rerank) (0.12.2)\n",
            "Requirement already satisfied: boto3<2.0.0,>=1.34.0 in /usr/local/lib/python3.10/dist-packages (from cohere<6.0.0,>=5.1.1->llama-index-postprocessor-cohere-rerank) (1.35.76)\n",
            "Requirement already satisfied: fastavro<2.0.0,>=1.9.4 in /usr/local/lib/python3.10/dist-packages (from cohere<6.0.0,>=5.1.1->llama-index-postprocessor-cohere-rerank) (1.9.7)\n",
            "Requirement already satisfied: httpx>=0.21.2 in /usr/local/lib/python3.10/dist-packages (from cohere<6.0.0,>=5.1.1->llama-index-postprocessor-cohere-rerank) (0.27.2)\n",
            "Requirement already satisfied: httpx-sse==0.4.0 in /usr/local/lib/python3.10/dist-packages (from cohere<6.0.0,>=5.1.1->llama-index-postprocessor-cohere-rerank) (0.4.0)\n",
            "Requirement already satisfied: parameterized<0.10.0,>=0.9.0 in /usr/local/lib/python3.10/dist-packages (from cohere<6.0.0,>=5.1.1->llama-index-postprocessor-cohere-rerank) (0.9.0)\n",
            "Requirement already satisfied: pydantic>=1.9.2 in /usr/local/lib/python3.10/dist-packages (from cohere<6.0.0,>=5.1.1->llama-index-postprocessor-cohere-rerank) (2.9.2)\n",
            "Requirement already satisfied: pydantic-core<3.0.0,>=2.18.2 in /usr/local/lib/python3.10/dist-packages (from cohere<6.0.0,>=5.1.1->llama-index-postprocessor-cohere-rerank) (2.23.4)\n",
            "Requirement already satisfied: requests<3.0.0,>=2.0.0 in /usr/local/lib/python3.10/dist-packages (from cohere<6.0.0,>=5.1.1->llama-index-postprocessor-cohere-rerank) (2.32.3)\n",
            "Requirement already satisfied: tokenizers<1,>=0.15 in /usr/local/lib/python3.10/dist-packages (from cohere<6.0.0,>=5.1.1->llama-index-postprocessor-cohere-rerank) (0.20.3)\n",
            "Requirement already satisfied: types-requests<3.0.0,>=2.0.0 in /usr/local/lib/python3.10/dist-packages (from cohere<6.0.0,>=5.1.1->llama-index-postprocessor-cohere-rerank) (2.32.0.20241016)\n",
            "Requirement already satisfied: typing_extensions>=4.0.0 in /usr/local/lib/python3.10/dist-packages (from cohere<6.0.0,>=5.1.1->llama-index-postprocessor-cohere-rerank) (4.12.2)\n",
            "Requirement already satisfied: PyYAML>=6.0.1 in /usr/local/lib/python3.10/dist-packages (from llama-index-core<0.13.0,>=0.12.0->llama-index-postprocessor-cohere-rerank) (6.0.2)\n",
            "Requirement already satisfied: SQLAlchemy>=1.4.49 in /usr/local/lib/python3.10/dist-packages (from SQLAlchemy[asyncio]>=1.4.49->llama-index-core<0.13.0,>=0.12.0->llama-index-postprocessor-cohere-rerank) (2.0.36)\n",
            "Requirement already satisfied: aiohttp<4.0.0,>=3.8.6 in /usr/local/lib/python3.10/dist-packages (from llama-index-core<0.13.0,>=0.12.0->llama-index-postprocessor-cohere-rerank) (3.11.2)\n",
            "Requirement already satisfied: dataclasses-json in /usr/local/lib/python3.10/dist-packages (from llama-index-core<0.13.0,>=0.12.0->llama-index-postprocessor-cohere-rerank) (0.6.7)\n",
            "Requirement already satisfied: deprecated>=1.2.9.3 in /usr/local/lib/python3.10/dist-packages (from llama-index-core<0.13.0,>=0.12.0->llama-index-postprocessor-cohere-rerank) (1.2.15)\n",
            "Requirement already satisfied: dirtyjson<2.0.0,>=1.0.8 in /usr/local/lib/python3.10/dist-packages (from llama-index-core<0.13.0,>=0.12.0->llama-index-postprocessor-cohere-rerank) (1.0.8)\n",
            "Requirement already satisfied: filetype<2.0.0,>=1.2.0 in /usr/local/lib/python3.10/dist-packages (from llama-index-core<0.13.0,>=0.12.0->llama-index-postprocessor-cohere-rerank) (1.2.0)\n",
            "Requirement already satisfied: fsspec>=2023.5.0 in /usr/local/lib/python3.10/dist-packages (from llama-index-core<0.13.0,>=0.12.0->llama-index-postprocessor-cohere-rerank) (2024.10.0)\n",
            "Requirement already satisfied: nest-asyncio<2.0.0,>=1.5.8 in /usr/local/lib/python3.10/dist-packages (from llama-index-core<0.13.0,>=0.12.0->llama-index-postprocessor-cohere-rerank) (1.6.0)\n",
            "Requirement already satisfied: networkx>=3.0 in /usr/local/lib/python3.10/dist-packages (from llama-index-core<0.13.0,>=0.12.0->llama-index-postprocessor-cohere-rerank) (3.4.2)\n",
            "Requirement already satisfied: nltk>3.8.1 in /usr/local/lib/python3.10/dist-packages (from llama-index-core<0.13.0,>=0.12.0->llama-index-postprocessor-cohere-rerank) (3.9.1)\n",
            "Requirement already satisfied: numpy in /usr/local/lib/python3.10/dist-packages (from llama-index-core<0.13.0,>=0.12.0->llama-index-postprocessor-cohere-rerank) (1.26.4)\n",
            "Requirement already satisfied: pillow>=9.0.0 in /usr/local/lib/python3.10/dist-packages (from llama-index-core<0.13.0,>=0.12.0->llama-index-postprocessor-cohere-rerank) (11.0.0)\n",
            "Requirement already satisfied: tenacity!=8.4.0,<9.0.0,>=8.2.0 in /usr/local/lib/python3.10/dist-packages (from llama-index-core<0.13.0,>=0.12.0->llama-index-postprocessor-cohere-rerank) (8.5.0)\n",
            "Requirement already satisfied: tiktoken>=0.3.3 in /usr/local/lib/python3.10/dist-packages (from llama-index-core<0.13.0,>=0.12.0->llama-index-postprocessor-cohere-rerank) (0.8.0)\n",
            "Requirement already satisfied: tqdm<5.0.0,>=4.66.1 in /usr/local/lib/python3.10/dist-packages (from llama-index-core<0.13.0,>=0.12.0->llama-index-postprocessor-cohere-rerank) (4.66.6)\n",
            "Requirement already satisfied: typing-inspect>=0.8.0 in /usr/local/lib/python3.10/dist-packages (from llama-index-core<0.13.0,>=0.12.0->llama-index-postprocessor-cohere-rerank) (0.9.0)\n",
            "Requirement already satisfied: wrapt in /usr/local/lib/python3.10/dist-packages (from llama-index-core<0.13.0,>=0.12.0->llama-index-postprocessor-cohere-rerank) (1.16.0)\n",
            "Requirement already satisfied: aiohappyeyeballs>=2.3.0 in /usr/local/lib/python3.10/dist-packages (from aiohttp<4.0.0,>=3.8.6->llama-index-core<0.13.0,>=0.12.0->llama-index-postprocessor-cohere-rerank) (2.4.3)\n",
            "Requirement already satisfied: aiosignal>=1.1.2 in /usr/local/lib/python3.10/dist-packages (from aiohttp<4.0.0,>=3.8.6->llama-index-core<0.13.0,>=0.12.0->llama-index-postprocessor-cohere-rerank) (1.3.1)\n",
            "Requirement already satisfied: attrs>=17.3.0 in /usr/local/lib/python3.10/dist-packages (from aiohttp<4.0.0,>=3.8.6->llama-index-core<0.13.0,>=0.12.0->llama-index-postprocessor-cohere-rerank) (24.2.0)\n",
            "Requirement already satisfied: frozenlist>=1.1.1 in /usr/local/lib/python3.10/dist-packages (from aiohttp<4.0.0,>=3.8.6->llama-index-core<0.13.0,>=0.12.0->llama-index-postprocessor-cohere-rerank) (1.5.0)\n",
            "Requirement already satisfied: multidict<7.0,>=4.5 in /usr/local/lib/python3.10/dist-packages (from aiohttp<4.0.0,>=3.8.6->llama-index-core<0.13.0,>=0.12.0->llama-index-postprocessor-cohere-rerank) (6.1.0)\n",
            "Requirement already satisfied: propcache>=0.2.0 in /usr/local/lib/python3.10/dist-packages (from aiohttp<4.0.0,>=3.8.6->llama-index-core<0.13.0,>=0.12.0->llama-index-postprocessor-cohere-rerank) (0.2.0)\n",
            "Requirement already satisfied: yarl<2.0,>=1.17.0 in /usr/local/lib/python3.10/dist-packages (from aiohttp<4.0.0,>=3.8.6->llama-index-core<0.13.0,>=0.12.0->llama-index-postprocessor-cohere-rerank) (1.17.2)\n",
            "Requirement already satisfied: async-timeout<6.0,>=4.0 in /usr/local/lib/python3.10/dist-packages (from aiohttp<4.0.0,>=3.8.6->llama-index-core<0.13.0,>=0.12.0->llama-index-postprocessor-cohere-rerank) (4.0.3)\n",
            "Requirement already satisfied: botocore<1.36.0,>=1.35.76 in /usr/local/lib/python3.10/dist-packages (from boto3<2.0.0,>=1.34.0->cohere<6.0.0,>=5.1.1->llama-index-postprocessor-cohere-rerank) (1.35.76)\n",
            "Requirement already satisfied: jmespath<2.0.0,>=0.7.1 in /usr/local/lib/python3.10/dist-packages (from boto3<2.0.0,>=1.34.0->cohere<6.0.0,>=5.1.1->llama-index-postprocessor-cohere-rerank) (1.0.1)\n",
            "Requirement already satisfied: s3transfer<0.11.0,>=0.10.0 in /usr/local/lib/python3.10/dist-packages (from boto3<2.0.0,>=1.34.0->cohere<6.0.0,>=5.1.1->llama-index-postprocessor-cohere-rerank) (0.10.4)\n",
            "Requirement already satisfied: anyio in /usr/local/lib/python3.10/dist-packages (from httpx>=0.21.2->cohere<6.0.0,>=5.1.1->llama-index-postprocessor-cohere-rerank) (3.7.1)\n",
            "Requirement already satisfied: certifi in /usr/local/lib/python3.10/dist-packages (from httpx>=0.21.2->cohere<6.0.0,>=5.1.1->llama-index-postprocessor-cohere-rerank) (2024.8.30)\n",
            "Requirement already satisfied: httpcore==1.* in /usr/local/lib/python3.10/dist-packages (from httpx>=0.21.2->cohere<6.0.0,>=5.1.1->llama-index-postprocessor-cohere-rerank) (1.0.7)\n",
            "Requirement already satisfied: idna in /usr/local/lib/python3.10/dist-packages (from httpx>=0.21.2->cohere<6.0.0,>=5.1.1->llama-index-postprocessor-cohere-rerank) (3.10)\n",
            "Requirement already satisfied: sniffio in /usr/local/lib/python3.10/dist-packages (from httpx>=0.21.2->cohere<6.0.0,>=5.1.1->llama-index-postprocessor-cohere-rerank) (1.3.1)\n",
            "Requirement already satisfied: h11<0.15,>=0.13 in /usr/local/lib/python3.10/dist-packages (from httpcore==1.*->httpx>=0.21.2->cohere<6.0.0,>=5.1.1->llama-index-postprocessor-cohere-rerank) (0.14.0)\n",
            "Requirement already satisfied: click in /usr/local/lib/python3.10/dist-packages (from nltk>3.8.1->llama-index-core<0.13.0,>=0.12.0->llama-index-postprocessor-cohere-rerank) (8.1.7)\n",
            "Requirement already satisfied: joblib in /usr/local/lib/python3.10/dist-packages (from nltk>3.8.1->llama-index-core<0.13.0,>=0.12.0->llama-index-postprocessor-cohere-rerank) (1.4.2)\n",
            "Requirement already satisfied: regex>=2021.8.3 in /usr/local/lib/python3.10/dist-packages (from nltk>3.8.1->llama-index-core<0.13.0,>=0.12.0->llama-index-postprocessor-cohere-rerank) (2024.9.11)\n",
            "Requirement already satisfied: annotated-types>=0.6.0 in /usr/local/lib/python3.10/dist-packages (from pydantic>=1.9.2->cohere<6.0.0,>=5.1.1->llama-index-postprocessor-cohere-rerank) (0.7.0)\n",
            "Requirement already satisfied: charset-normalizer<4,>=2 in /usr/local/lib/python3.10/dist-packages (from requests<3.0.0,>=2.0.0->cohere<6.0.0,>=5.1.1->llama-index-postprocessor-cohere-rerank) (3.4.0)\n",
            "Requirement already satisfied: urllib3<3,>=1.21.1 in /usr/local/lib/python3.10/dist-packages (from requests<3.0.0,>=2.0.0->cohere<6.0.0,>=5.1.1->llama-index-postprocessor-cohere-rerank) (2.2.3)\n",
            "Requirement already satisfied: greenlet!=0.4.17 in /usr/local/lib/python3.10/dist-packages (from SQLAlchemy>=1.4.49->SQLAlchemy[asyncio]>=1.4.49->llama-index-core<0.13.0,>=0.12.0->llama-index-postprocessor-cohere-rerank) (3.1.1)\n",
            "Requirement already satisfied: huggingface-hub<1.0,>=0.16.4 in /usr/local/lib/python3.10/dist-packages (from tokenizers<1,>=0.15->cohere<6.0.0,>=5.1.1->llama-index-postprocessor-cohere-rerank) (0.26.2)\n",
            "Requirement already satisfied: mypy-extensions>=0.3.0 in /usr/local/lib/python3.10/dist-packages (from typing-inspect>=0.8.0->llama-index-core<0.13.0,>=0.12.0->llama-index-postprocessor-cohere-rerank) (1.0.0)\n",
            "Requirement already satisfied: marshmallow<4.0.0,>=3.18.0 in /usr/local/lib/python3.10/dist-packages (from dataclasses-json->llama-index-core<0.13.0,>=0.12.0->llama-index-postprocessor-cohere-rerank) (3.23.1)\n",
            "Requirement already satisfied: python-dateutil<3.0.0,>=2.1 in /usr/local/lib/python3.10/dist-packages (from botocore<1.36.0,>=1.35.76->boto3<2.0.0,>=1.34.0->cohere<6.0.0,>=5.1.1->llama-index-postprocessor-cohere-rerank) (2.8.2)\n",
            "Requirement already satisfied: filelock in /usr/local/lib/python3.10/dist-packages (from huggingface-hub<1.0,>=0.16.4->tokenizers<1,>=0.15->cohere<6.0.0,>=5.1.1->llama-index-postprocessor-cohere-rerank) (3.16.1)\n",
            "Requirement already satisfied: packaging>=20.9 in /usr/local/lib/python3.10/dist-packages (from huggingface-hub<1.0,>=0.16.4->tokenizers<1,>=0.15->cohere<6.0.0,>=5.1.1->llama-index-postprocessor-cohere-rerank) (24.2)\n",
            "Requirement already satisfied: exceptiongroup in /usr/local/lib/python3.10/dist-packages (from anyio->httpx>=0.21.2->cohere<6.0.0,>=5.1.1->llama-index-postprocessor-cohere-rerank) (1.2.2)\n",
            "Requirement already satisfied: six>=1.5 in /usr/local/lib/python3.10/dist-packages (from python-dateutil<3.0.0,>=2.1->botocore<1.36.0,>=1.35.76->boto3<2.0.0,>=1.34.0->cohere<6.0.0,>=5.1.1->llama-index-postprocessor-cohere-rerank) (1.16.0)\n",
            "Downloading llama_index_postprocessor_cohere_rerank-0.3.0-py3-none-any.whl (2.9 kB)\n",
            "Installing collected packages: llama-index-postprocessor-cohere-rerank\n",
            "Successfully installed llama-index-postprocessor-cohere-rerank-0.3.0\n",
            "Requirement already satisfied: kdbai_client in /usr/local/lib/python3.10/dist-packages (1.5.0)\n",
            "Requirement already satisfied: botocore<2.0.0,>=1.35.42 in /usr/local/lib/python3.10/dist-packages (from kdbai_client) (1.35.76)\n",
            "Requirement already satisfied: cohere==5.9.4 in /usr/local/lib/python3.10/dist-packages (from kdbai_client) (5.9.4)\n",
            "Requirement already satisfied: packaging in /usr/local/lib/python3.10/dist-packages (from kdbai_client) (24.2)\n",
            "Requirement already satisfied: pandas>=1.5.0 in /usr/local/lib/python3.10/dist-packages (from kdbai_client) (2.2.2)\n",
            "Requirement already satisfied: pykx<3.0.0,>=2.1.1 in /usr/local/lib/python3.10/dist-packages (from kdbai_client) (2.5.5)\n",
            "Requirement already satisfied: requests==2.32.3 in /usr/local/lib/python3.10/dist-packages (from kdbai_client) (2.32.3)\n",
            "Requirement already satisfied: voyageai==0.2.3 in /usr/local/lib/python3.10/dist-packages (from kdbai_client) (0.2.3)\n",
            "Requirement already satisfied: boto3<2.0.0,>=1.34.0 in /usr/local/lib/python3.10/dist-packages (from cohere==5.9.4->kdbai_client) (1.35.76)\n",
            "Requirement already satisfied: fastavro<2.0.0,>=1.9.4 in /usr/local/lib/python3.10/dist-packages (from cohere==5.9.4->kdbai_client) (1.9.7)\n",
            "Requirement already satisfied: httpx>=0.21.2 in /usr/local/lib/python3.10/dist-packages (from cohere==5.9.4->kdbai_client) (0.27.2)\n",
            "Requirement already satisfied: httpx-sse==0.4.0 in /usr/local/lib/python3.10/dist-packages (from cohere==5.9.4->kdbai_client) (0.4.0)\n",
            "Requirement already satisfied: parameterized<0.10.0,>=0.9.0 in /usr/local/lib/python3.10/dist-packages (from cohere==5.9.4->kdbai_client) (0.9.0)\n",
            "Requirement already satisfied: pydantic>=1.9.2 in /usr/local/lib/python3.10/dist-packages (from cohere==5.9.4->kdbai_client) (2.9.2)\n",
            "Requirement already satisfied: pydantic-core<3.0.0,>=2.18.2 in /usr/local/lib/python3.10/dist-packages (from cohere==5.9.4->kdbai_client) (2.23.4)\n",
            "Requirement already satisfied: tokenizers<1,>=0.15 in /usr/local/lib/python3.10/dist-packages (from cohere==5.9.4->kdbai_client) (0.20.3)\n",
            "Requirement already satisfied: types-requests<3.0.0,>=2.0.0 in /usr/local/lib/python3.10/dist-packages (from cohere==5.9.4->kdbai_client) (2.32.0.20241016)\n",
            "Requirement already satisfied: typing_extensions>=4.0.0 in /usr/local/lib/python3.10/dist-packages (from cohere==5.9.4->kdbai_client) (4.12.2)\n",
            "Requirement already satisfied: charset-normalizer<4,>=2 in /usr/local/lib/python3.10/dist-packages (from requests==2.32.3->kdbai_client) (3.4.0)\n",
            "Requirement already satisfied: idna<4,>=2.5 in /usr/local/lib/python3.10/dist-packages (from requests==2.32.3->kdbai_client) (3.10)\n",
            "Requirement already satisfied: urllib3<3,>=1.21.1 in /usr/local/lib/python3.10/dist-packages (from requests==2.32.3->kdbai_client) (2.2.3)\n",
            "Requirement already satisfied: certifi>=2017.4.17 in /usr/local/lib/python3.10/dist-packages (from requests==2.32.3->kdbai_client) (2024.8.30)\n",
            "Requirement already satisfied: aiohttp<4.0,>=3.5 in /usr/local/lib/python3.10/dist-packages (from voyageai==0.2.3->kdbai_client) (3.11.2)\n",
            "Requirement already satisfied: aiolimiter<2.0.0,>=1.1.0 in /usr/local/lib/python3.10/dist-packages (from voyageai==0.2.3->kdbai_client) (1.2.0)\n",
            "Requirement already satisfied: numpy>=1.11 in /usr/local/lib/python3.10/dist-packages (from voyageai==0.2.3->kdbai_client) (1.26.4)\n",
            "Requirement already satisfied: tenacity>=8.0.1 in /usr/local/lib/python3.10/dist-packages (from voyageai==0.2.3->kdbai_client) (8.5.0)\n",
            "Requirement already satisfied: jmespath<2.0.0,>=0.7.1 in /usr/local/lib/python3.10/dist-packages (from botocore<2.0.0,>=1.35.42->kdbai_client) (1.0.1)\n",
            "Requirement already satisfied: python-dateutil<3.0.0,>=2.1 in /usr/local/lib/python3.10/dist-packages (from botocore<2.0.0,>=1.35.42->kdbai_client) (2.8.2)\n",
            "Requirement already satisfied: pytz>=2020.1 in /usr/local/lib/python3.10/dist-packages (from pandas>=1.5.0->kdbai_client) (2024.2)\n",
            "Requirement already satisfied: tzdata>=2022.7 in /usr/local/lib/python3.10/dist-packages (from pandas>=1.5.0->kdbai_client) (2024.2)\n",
            "Requirement already satisfied: toml~=0.10.2 in /usr/local/lib/python3.10/dist-packages (from pykx<3.0.0,>=2.1.1->kdbai_client) (0.10.2)\n",
            "Requirement already satisfied: aiohappyeyeballs>=2.3.0 in /usr/local/lib/python3.10/dist-packages (from aiohttp<4.0,>=3.5->voyageai==0.2.3->kdbai_client) (2.4.3)\n",
            "Requirement already satisfied: aiosignal>=1.1.2 in /usr/local/lib/python3.10/dist-packages (from aiohttp<4.0,>=3.5->voyageai==0.2.3->kdbai_client) (1.3.1)\n",
            "Requirement already satisfied: attrs>=17.3.0 in /usr/local/lib/python3.10/dist-packages (from aiohttp<4.0,>=3.5->voyageai==0.2.3->kdbai_client) (24.2.0)\n",
            "Requirement already satisfied: frozenlist>=1.1.1 in /usr/local/lib/python3.10/dist-packages (from aiohttp<4.0,>=3.5->voyageai==0.2.3->kdbai_client) (1.5.0)\n",
            "Requirement already satisfied: multidict<7.0,>=4.5 in /usr/local/lib/python3.10/dist-packages (from aiohttp<4.0,>=3.5->voyageai==0.2.3->kdbai_client) (6.1.0)\n",
            "Requirement already satisfied: propcache>=0.2.0 in /usr/local/lib/python3.10/dist-packages (from aiohttp<4.0,>=3.5->voyageai==0.2.3->kdbai_client) (0.2.0)\n",
            "Requirement already satisfied: yarl<2.0,>=1.17.0 in /usr/local/lib/python3.10/dist-packages (from aiohttp<4.0,>=3.5->voyageai==0.2.3->kdbai_client) (1.17.2)\n",
            "Requirement already satisfied: async-timeout<6.0,>=4.0 in /usr/local/lib/python3.10/dist-packages (from aiohttp<4.0,>=3.5->voyageai==0.2.3->kdbai_client) (4.0.3)\n",
            "Requirement already satisfied: s3transfer<0.11.0,>=0.10.0 in /usr/local/lib/python3.10/dist-packages (from boto3<2.0.0,>=1.34.0->cohere==5.9.4->kdbai_client) (0.10.4)\n",
            "Requirement already satisfied: anyio in /usr/local/lib/python3.10/dist-packages (from httpx>=0.21.2->cohere==5.9.4->kdbai_client) (3.7.1)\n",
            "Requirement already satisfied: httpcore==1.* in /usr/local/lib/python3.10/dist-packages (from httpx>=0.21.2->cohere==5.9.4->kdbai_client) (1.0.7)\n",
            "Requirement already satisfied: sniffio in /usr/local/lib/python3.10/dist-packages (from httpx>=0.21.2->cohere==5.9.4->kdbai_client) (1.3.1)\n",
            "Requirement already satisfied: h11<0.15,>=0.13 in /usr/local/lib/python3.10/dist-packages (from httpcore==1.*->httpx>=0.21.2->cohere==5.9.4->kdbai_client) (0.14.0)\n",
            "Requirement already satisfied: annotated-types>=0.6.0 in /usr/local/lib/python3.10/dist-packages (from pydantic>=1.9.2->cohere==5.9.4->kdbai_client) (0.7.0)\n",
            "Requirement already satisfied: six>=1.5 in /usr/local/lib/python3.10/dist-packages (from python-dateutil<3.0.0,>=2.1->botocore<2.0.0,>=1.35.42->kdbai_client) (1.16.0)\n",
            "Requirement already satisfied: huggingface-hub<1.0,>=0.16.4 in /usr/local/lib/python3.10/dist-packages (from tokenizers<1,>=0.15->cohere==5.9.4->kdbai_client) (0.26.2)\n",
            "Requirement already satisfied: filelock in /usr/local/lib/python3.10/dist-packages (from huggingface-hub<1.0,>=0.16.4->tokenizers<1,>=0.15->cohere==5.9.4->kdbai_client) (3.16.1)\n",
            "Requirement already satisfied: fsspec>=2023.5.0 in /usr/local/lib/python3.10/dist-packages (from huggingface-hub<1.0,>=0.16.4->tokenizers<1,>=0.15->cohere==5.9.4->kdbai_client) (2024.10.0)\n",
            "Requirement already satisfied: pyyaml>=5.1 in /usr/local/lib/python3.10/dist-packages (from huggingface-hub<1.0,>=0.16.4->tokenizers<1,>=0.15->cohere==5.9.4->kdbai_client) (6.0.2)\n",
            "Requirement already satisfied: tqdm>=4.42.1 in /usr/local/lib/python3.10/dist-packages (from huggingface-hub<1.0,>=0.16.4->tokenizers<1,>=0.15->cohere==5.9.4->kdbai_client) (4.66.6)\n",
            "Requirement already satisfied: exceptiongroup in /usr/local/lib/python3.10/dist-packages (from anyio->httpx>=0.21.2->cohere==5.9.4->kdbai_client) (1.2.2)\n"
          ]
        }
      ],
      "source": [
        "!pip install llama-index\n",
        "!pip install llama-index-core\n",
        "!pip install llama-index-embeddings-openai\n",
        "!pip install llama-parse\n",
        "!pip install llama-index-vector-stores-kdbai\n",
        "!pip install pandas\n",
        "!pip install llama-index-postprocessor-cohere-rerank\n",
        "!pip install kdbai_client"
      ]
    },
    {
      "cell_type": "code",
      "source": [
        "!pip install -U llama-index-llms-azure-inference\n",
        "!pip install -U llama-index-embeddings-azure-inference"
      ],
      "metadata": {
        "collapsed": true,
        "colab": {
          "base_uri": "https://localhost:8080/"
        },
        "id": "dcZ4a5jgH0Nh",
        "outputId": "d126b4bf-4880-4a6c-975c-9e632c825329"
      },
      "execution_count": null,
      "outputs": [
        {
          "output_type": "stream",
          "name": "stdout",
          "text": [
            "Collecting llama-index-llms-azure-inference\n",
            "  Downloading llama_index_llms_azure_inference-0.3.0-py3-none-any.whl.metadata (1.7 kB)\n",
            "Requirement already satisfied: aiohttp<4.0.0,>=3.10.0 in /usr/local/lib/python3.10/dist-packages (from llama-index-llms-azure-inference) (3.11.2)\n",
            "Collecting azure-ai-inference>=1.0.0b5 (from llama-index-llms-azure-inference)\n",
            "  Downloading azure_ai_inference-1.0.0b6-py3-none-any.whl.metadata (31 kB)\n",
            "Collecting azure-identity<2.0.0,>=1.15.0 (from llama-index-llms-azure-inference)\n",
            "  Downloading azure_identity-1.19.0-py3-none-any.whl.metadata (80 kB)\n",
            "\u001b[2K     \u001b[90m━━━━━━━━━━━━━━━━━━━━━━━━━━━━━━━━━━━━━━━━\u001b[0m \u001b[32m80.6/80.6 kB\u001b[0m \u001b[31m3.0 MB/s\u001b[0m eta \u001b[36m0:00:00\u001b[0m\n",
            "\u001b[?25hRequirement already satisfied: llama-index-core<0.13.0,>=0.12.0 in /usr/local/lib/python3.10/dist-packages (from llama-index-llms-azure-inference) (0.12.2)\n",
            "Requirement already satisfied: aiohappyeyeballs>=2.3.0 in /usr/local/lib/python3.10/dist-packages (from aiohttp<4.0.0,>=3.10.0->llama-index-llms-azure-inference) (2.4.3)\n",
            "Requirement already satisfied: aiosignal>=1.1.2 in /usr/local/lib/python3.10/dist-packages (from aiohttp<4.0.0,>=3.10.0->llama-index-llms-azure-inference) (1.3.1)\n",
            "Requirement already satisfied: attrs>=17.3.0 in /usr/local/lib/python3.10/dist-packages (from aiohttp<4.0.0,>=3.10.0->llama-index-llms-azure-inference) (24.2.0)\n",
            "Requirement already satisfied: frozenlist>=1.1.1 in /usr/local/lib/python3.10/dist-packages (from aiohttp<4.0.0,>=3.10.0->llama-index-llms-azure-inference) (1.5.0)\n",
            "Requirement already satisfied: multidict<7.0,>=4.5 in /usr/local/lib/python3.10/dist-packages (from aiohttp<4.0.0,>=3.10.0->llama-index-llms-azure-inference) (6.1.0)\n",
            "Requirement already satisfied: propcache>=0.2.0 in /usr/local/lib/python3.10/dist-packages (from aiohttp<4.0.0,>=3.10.0->llama-index-llms-azure-inference) (0.2.0)\n",
            "Requirement already satisfied: yarl<2.0,>=1.17.0 in /usr/local/lib/python3.10/dist-packages (from aiohttp<4.0.0,>=3.10.0->llama-index-llms-azure-inference) (1.17.2)\n",
            "Requirement already satisfied: async-timeout<6.0,>=4.0 in /usr/local/lib/python3.10/dist-packages (from aiohttp<4.0.0,>=3.10.0->llama-index-llms-azure-inference) (4.0.3)\n",
            "Collecting isodate>=0.6.1 (from azure-ai-inference>=1.0.0b5->llama-index-llms-azure-inference)\n",
            "  Downloading isodate-0.7.2-py3-none-any.whl.metadata (11 kB)\n",
            "Collecting azure-core>=1.30.0 (from azure-ai-inference>=1.0.0b5->llama-index-llms-azure-inference)\n",
            "  Downloading azure_core-1.32.0-py3-none-any.whl.metadata (39 kB)\n",
            "Requirement already satisfied: typing-extensions>=4.6.0 in /usr/local/lib/python3.10/dist-packages (from azure-ai-inference>=1.0.0b5->llama-index-llms-azure-inference) (4.12.2)\n",
            "Requirement already satisfied: cryptography>=2.5 in /usr/local/lib/python3.10/dist-packages (from azure-identity<2.0.0,>=1.15.0->llama-index-llms-azure-inference) (43.0.3)\n",
            "Collecting msal>=1.30.0 (from azure-identity<2.0.0,>=1.15.0->llama-index-llms-azure-inference)\n",
            "  Downloading msal-1.31.1-py3-none-any.whl.metadata (11 kB)\n",
            "Collecting msal-extensions>=1.2.0 (from azure-identity<2.0.0,>=1.15.0->llama-index-llms-azure-inference)\n",
            "  Downloading msal_extensions-1.2.0-py3-none-any.whl.metadata (7.6 kB)\n",
            "Requirement already satisfied: PyYAML>=6.0.1 in /usr/local/lib/python3.10/dist-packages (from llama-index-core<0.13.0,>=0.12.0->llama-index-llms-azure-inference) (6.0.2)\n",
            "Requirement already satisfied: SQLAlchemy>=1.4.49 in /usr/local/lib/python3.10/dist-packages (from SQLAlchemy[asyncio]>=1.4.49->llama-index-core<0.13.0,>=0.12.0->llama-index-llms-azure-inference) (2.0.36)\n",
            "Requirement already satisfied: dataclasses-json in /usr/local/lib/python3.10/dist-packages (from llama-index-core<0.13.0,>=0.12.0->llama-index-llms-azure-inference) (0.6.7)\n",
            "Requirement already satisfied: deprecated>=1.2.9.3 in /usr/local/lib/python3.10/dist-packages (from llama-index-core<0.13.0,>=0.12.0->llama-index-llms-azure-inference) (1.2.15)\n",
            "Requirement already satisfied: dirtyjson<2.0.0,>=1.0.8 in /usr/local/lib/python3.10/dist-packages (from llama-index-core<0.13.0,>=0.12.0->llama-index-llms-azure-inference) (1.0.8)\n",
            "Requirement already satisfied: filetype<2.0.0,>=1.2.0 in /usr/local/lib/python3.10/dist-packages (from llama-index-core<0.13.0,>=0.12.0->llama-index-llms-azure-inference) (1.2.0)\n",
            "Requirement already satisfied: fsspec>=2023.5.0 in /usr/local/lib/python3.10/dist-packages (from llama-index-core<0.13.0,>=0.12.0->llama-index-llms-azure-inference) (2024.10.0)\n",
            "Requirement already satisfied: httpx in /usr/local/lib/python3.10/dist-packages (from llama-index-core<0.13.0,>=0.12.0->llama-index-llms-azure-inference) (0.27.2)\n",
            "Requirement already satisfied: nest-asyncio<2.0.0,>=1.5.8 in /usr/local/lib/python3.10/dist-packages (from llama-index-core<0.13.0,>=0.12.0->llama-index-llms-azure-inference) (1.6.0)\n",
            "Requirement already satisfied: networkx>=3.0 in /usr/local/lib/python3.10/dist-packages (from llama-index-core<0.13.0,>=0.12.0->llama-index-llms-azure-inference) (3.4.2)\n",
            "Requirement already satisfied: nltk>3.8.1 in /usr/local/lib/python3.10/dist-packages (from llama-index-core<0.13.0,>=0.12.0->llama-index-llms-azure-inference) (3.9.1)\n",
            "Requirement already satisfied: numpy in /usr/local/lib/python3.10/dist-packages (from llama-index-core<0.13.0,>=0.12.0->llama-index-llms-azure-inference) (1.26.4)\n",
            "Requirement already satisfied: pillow>=9.0.0 in /usr/local/lib/python3.10/dist-packages (from llama-index-core<0.13.0,>=0.12.0->llama-index-llms-azure-inference) (11.0.0)\n",
            "Requirement already satisfied: pydantic<2.10.0,>=2.7.0 in /usr/local/lib/python3.10/dist-packages (from llama-index-core<0.13.0,>=0.12.0->llama-index-llms-azure-inference) (2.9.2)\n",
            "Requirement already satisfied: requests>=2.31.0 in /usr/local/lib/python3.10/dist-packages (from llama-index-core<0.13.0,>=0.12.0->llama-index-llms-azure-inference) (2.32.3)\n",
            "Requirement already satisfied: tenacity!=8.4.0,<9.0.0,>=8.2.0 in /usr/local/lib/python3.10/dist-packages (from llama-index-core<0.13.0,>=0.12.0->llama-index-llms-azure-inference) (8.5.0)\n",
            "Requirement already satisfied: tiktoken>=0.3.3 in /usr/local/lib/python3.10/dist-packages (from llama-index-core<0.13.0,>=0.12.0->llama-index-llms-azure-inference) (0.8.0)\n",
            "Requirement already satisfied: tqdm<5.0.0,>=4.66.1 in /usr/local/lib/python3.10/dist-packages (from llama-index-core<0.13.0,>=0.12.0->llama-index-llms-azure-inference) (4.66.6)\n",
            "Requirement already satisfied: typing-inspect>=0.8.0 in /usr/local/lib/python3.10/dist-packages (from llama-index-core<0.13.0,>=0.12.0->llama-index-llms-azure-inference) (0.9.0)\n",
            "Requirement already satisfied: wrapt in /usr/local/lib/python3.10/dist-packages (from llama-index-core<0.13.0,>=0.12.0->llama-index-llms-azure-inference) (1.16.0)\n",
            "Requirement already satisfied: six>=1.11.0 in /usr/local/lib/python3.10/dist-packages (from azure-core>=1.30.0->azure-ai-inference>=1.0.0b5->llama-index-llms-azure-inference) (1.16.0)\n",
            "Requirement already satisfied: cffi>=1.12 in /usr/local/lib/python3.10/dist-packages (from cryptography>=2.5->azure-identity<2.0.0,>=1.15.0->llama-index-llms-azure-inference) (1.17.1)\n",
            "Requirement already satisfied: PyJWT<3,>=1.0.0 in /usr/local/lib/python3.10/dist-packages (from PyJWT[crypto]<3,>=1.0.0->msal>=1.30.0->azure-identity<2.0.0,>=1.15.0->llama-index-llms-azure-inference) (2.10.0)\n",
            "Collecting portalocker<3,>=1.4 (from msal-extensions>=1.2.0->azure-identity<2.0.0,>=1.15.0->llama-index-llms-azure-inference)\n",
            "  Downloading portalocker-2.10.1-py3-none-any.whl.metadata (8.5 kB)\n",
            "Requirement already satisfied: click in /usr/local/lib/python3.10/dist-packages (from nltk>3.8.1->llama-index-core<0.13.0,>=0.12.0->llama-index-llms-azure-inference) (8.1.7)\n",
            "Requirement already satisfied: joblib in /usr/local/lib/python3.10/dist-packages (from nltk>3.8.1->llama-index-core<0.13.0,>=0.12.0->llama-index-llms-azure-inference) (1.4.2)\n",
            "Requirement already satisfied: regex>=2021.8.3 in /usr/local/lib/python3.10/dist-packages (from nltk>3.8.1->llama-index-core<0.13.0,>=0.12.0->llama-index-llms-azure-inference) (2024.9.11)\n",
            "Requirement already satisfied: annotated-types>=0.6.0 in /usr/local/lib/python3.10/dist-packages (from pydantic<2.10.0,>=2.7.0->llama-index-core<0.13.0,>=0.12.0->llama-index-llms-azure-inference) (0.7.0)\n",
            "Requirement already satisfied: pydantic-core==2.23.4 in /usr/local/lib/python3.10/dist-packages (from pydantic<2.10.0,>=2.7.0->llama-index-core<0.13.0,>=0.12.0->llama-index-llms-azure-inference) (2.23.4)\n",
            "Requirement already satisfied: charset-normalizer<4,>=2 in /usr/local/lib/python3.10/dist-packages (from requests>=2.31.0->llama-index-core<0.13.0,>=0.12.0->llama-index-llms-azure-inference) (3.4.0)\n",
            "Requirement already satisfied: idna<4,>=2.5 in /usr/local/lib/python3.10/dist-packages (from requests>=2.31.0->llama-index-core<0.13.0,>=0.12.0->llama-index-llms-azure-inference) (3.10)\n",
            "Requirement already satisfied: urllib3<3,>=1.21.1 in /usr/local/lib/python3.10/dist-packages (from requests>=2.31.0->llama-index-core<0.13.0,>=0.12.0->llama-index-llms-azure-inference) (2.2.3)\n",
            "Requirement already satisfied: certifi>=2017.4.17 in /usr/local/lib/python3.10/dist-packages (from requests>=2.31.0->llama-index-core<0.13.0,>=0.12.0->llama-index-llms-azure-inference) (2024.8.30)\n",
            "Requirement already satisfied: greenlet!=0.4.17 in /usr/local/lib/python3.10/dist-packages (from SQLAlchemy>=1.4.49->SQLAlchemy[asyncio]>=1.4.49->llama-index-core<0.13.0,>=0.12.0->llama-index-llms-azure-inference) (3.1.1)\n",
            "Requirement already satisfied: mypy-extensions>=0.3.0 in /usr/local/lib/python3.10/dist-packages (from typing-inspect>=0.8.0->llama-index-core<0.13.0,>=0.12.0->llama-index-llms-azure-inference) (1.0.0)\n",
            "Requirement already satisfied: marshmallow<4.0.0,>=3.18.0 in /usr/local/lib/python3.10/dist-packages (from dataclasses-json->llama-index-core<0.13.0,>=0.12.0->llama-index-llms-azure-inference) (3.23.1)\n",
            "Requirement already satisfied: anyio in /usr/local/lib/python3.10/dist-packages (from httpx->llama-index-core<0.13.0,>=0.12.0->llama-index-llms-azure-inference) (3.7.1)\n",
            "Requirement already satisfied: httpcore==1.* in /usr/local/lib/python3.10/dist-packages (from httpx->llama-index-core<0.13.0,>=0.12.0->llama-index-llms-azure-inference) (1.0.7)\n",
            "Requirement already satisfied: sniffio in /usr/local/lib/python3.10/dist-packages (from httpx->llama-index-core<0.13.0,>=0.12.0->llama-index-llms-azure-inference) (1.3.1)\n",
            "Requirement already satisfied: h11<0.15,>=0.13 in /usr/local/lib/python3.10/dist-packages (from httpcore==1.*->httpx->llama-index-core<0.13.0,>=0.12.0->llama-index-llms-azure-inference) (0.14.0)\n",
            "Requirement already satisfied: pycparser in /usr/local/lib/python3.10/dist-packages (from cffi>=1.12->cryptography>=2.5->azure-identity<2.0.0,>=1.15.0->llama-index-llms-azure-inference) (2.22)\n",
            "Requirement already satisfied: packaging>=17.0 in /usr/local/lib/python3.10/dist-packages (from marshmallow<4.0.0,>=3.18.0->dataclasses-json->llama-index-core<0.13.0,>=0.12.0->llama-index-llms-azure-inference) (24.2)\n",
            "Requirement already satisfied: exceptiongroup in /usr/local/lib/python3.10/dist-packages (from anyio->httpx->llama-index-core<0.13.0,>=0.12.0->llama-index-llms-azure-inference) (1.2.2)\n",
            "Downloading llama_index_llms_azure_inference-0.3.0-py3-none-any.whl (6.2 kB)\n",
            "Downloading azure_ai_inference-1.0.0b6-py3-none-any.whl (115 kB)\n",
            "\u001b[2K   \u001b[90m━━━━━━━━━━━━━━━━━━━━━━━━━━━━━━━━━━━━━━━━\u001b[0m \u001b[32m115.3/115.3 kB\u001b[0m \u001b[31m7.1 MB/s\u001b[0m eta \u001b[36m0:00:00\u001b[0m\n",
            "\u001b[?25hDownloading azure_identity-1.19.0-py3-none-any.whl (187 kB)\n",
            "\u001b[2K   \u001b[90m━━━━━━━━━━━━━━━━━━━━━━━━━━━━━━━━━━━━━━━━\u001b[0m \u001b[32m187.6/187.6 kB\u001b[0m \u001b[31m10.2 MB/s\u001b[0m eta \u001b[36m0:00:00\u001b[0m\n",
            "\u001b[?25hDownloading azure_core-1.32.0-py3-none-any.whl (198 kB)\n",
            "\u001b[2K   \u001b[90m━━━━━━━━━━━━━━━━━━━━━━━━━━━━━━━━━━━━━━━━\u001b[0m \u001b[32m198.9/198.9 kB\u001b[0m \u001b[31m12.4 MB/s\u001b[0m eta \u001b[36m0:00:00\u001b[0m\n",
            "\u001b[?25hDownloading isodate-0.7.2-py3-none-any.whl (22 kB)\n",
            "Downloading msal-1.31.1-py3-none-any.whl (113 kB)\n",
            "\u001b[2K   \u001b[90m━━━━━━━━━━━━━━━━━━━━━━━━━━━━━━━━━━━━━━━━\u001b[0m \u001b[32m113.2/113.2 kB\u001b[0m \u001b[31m5.4 MB/s\u001b[0m eta \u001b[36m0:00:00\u001b[0m\n",
            "\u001b[?25hDownloading msal_extensions-1.2.0-py3-none-any.whl (19 kB)\n",
            "Downloading portalocker-2.10.1-py3-none-any.whl (18 kB)\n",
            "Installing collected packages: portalocker, isodate, azure-core, azure-ai-inference, msal, msal-extensions, azure-identity, llama-index-llms-azure-inference\n",
            "Successfully installed azure-ai-inference-1.0.0b6 azure-core-1.32.0 azure-identity-1.19.0 isodate-0.7.2 llama-index-llms-azure-inference-0.3.0 msal-1.31.1 msal-extensions-1.2.0 portalocker-2.10.1\n",
            "Collecting llama-index-embeddings-azure-inference\n",
            "  Downloading llama_index_embeddings_azure_inference-0.3.0-py3-none-any.whl.metadata (1.7 kB)\n",
            "Requirement already satisfied: aiohttp<4.0.0,>=3.10.0 in /usr/local/lib/python3.10/dist-packages (from llama-index-embeddings-azure-inference) (3.11.2)\n",
            "Requirement already satisfied: azure-ai-inference>=1.0.0b5 in /usr/local/lib/python3.10/dist-packages (from llama-index-embeddings-azure-inference) (1.0.0b6)\n",
            "Requirement already satisfied: azure-identity<2.0.0,>=1.15.0 in /usr/local/lib/python3.10/dist-packages (from llama-index-embeddings-azure-inference) (1.19.0)\n",
            "Requirement already satisfied: llama-index-core<0.13.0,>=0.12.0 in /usr/local/lib/python3.10/dist-packages (from llama-index-embeddings-azure-inference) (0.12.2)\n",
            "Requirement already satisfied: aiohappyeyeballs>=2.3.0 in /usr/local/lib/python3.10/dist-packages (from aiohttp<4.0.0,>=3.10.0->llama-index-embeddings-azure-inference) (2.4.3)\n",
            "Requirement already satisfied: aiosignal>=1.1.2 in /usr/local/lib/python3.10/dist-packages (from aiohttp<4.0.0,>=3.10.0->llama-index-embeddings-azure-inference) (1.3.1)\n",
            "Requirement already satisfied: attrs>=17.3.0 in /usr/local/lib/python3.10/dist-packages (from aiohttp<4.0.0,>=3.10.0->llama-index-embeddings-azure-inference) (24.2.0)\n",
            "Requirement already satisfied: frozenlist>=1.1.1 in /usr/local/lib/python3.10/dist-packages (from aiohttp<4.0.0,>=3.10.0->llama-index-embeddings-azure-inference) (1.5.0)\n",
            "Requirement already satisfied: multidict<7.0,>=4.5 in /usr/local/lib/python3.10/dist-packages (from aiohttp<4.0.0,>=3.10.0->llama-index-embeddings-azure-inference) (6.1.0)\n",
            "Requirement already satisfied: propcache>=0.2.0 in /usr/local/lib/python3.10/dist-packages (from aiohttp<4.0.0,>=3.10.0->llama-index-embeddings-azure-inference) (0.2.0)\n",
            "Requirement already satisfied: yarl<2.0,>=1.17.0 in /usr/local/lib/python3.10/dist-packages (from aiohttp<4.0.0,>=3.10.0->llama-index-embeddings-azure-inference) (1.17.2)\n",
            "Requirement already satisfied: async-timeout<6.0,>=4.0 in /usr/local/lib/python3.10/dist-packages (from aiohttp<4.0.0,>=3.10.0->llama-index-embeddings-azure-inference) (4.0.3)\n",
            "Requirement already satisfied: isodate>=0.6.1 in /usr/local/lib/python3.10/dist-packages (from azure-ai-inference>=1.0.0b5->llama-index-embeddings-azure-inference) (0.7.2)\n",
            "Requirement already satisfied: azure-core>=1.30.0 in /usr/local/lib/python3.10/dist-packages (from azure-ai-inference>=1.0.0b5->llama-index-embeddings-azure-inference) (1.32.0)\n",
            "Requirement already satisfied: typing-extensions>=4.6.0 in /usr/local/lib/python3.10/dist-packages (from azure-ai-inference>=1.0.0b5->llama-index-embeddings-azure-inference) (4.12.2)\n",
            "Requirement already satisfied: cryptography>=2.5 in /usr/local/lib/python3.10/dist-packages (from azure-identity<2.0.0,>=1.15.0->llama-index-embeddings-azure-inference) (43.0.3)\n",
            "Requirement already satisfied: msal>=1.30.0 in /usr/local/lib/python3.10/dist-packages (from azure-identity<2.0.0,>=1.15.0->llama-index-embeddings-azure-inference) (1.31.1)\n",
            "Requirement already satisfied: msal-extensions>=1.2.0 in /usr/local/lib/python3.10/dist-packages (from azure-identity<2.0.0,>=1.15.0->llama-index-embeddings-azure-inference) (1.2.0)\n",
            "Requirement already satisfied: PyYAML>=6.0.1 in /usr/local/lib/python3.10/dist-packages (from llama-index-core<0.13.0,>=0.12.0->llama-index-embeddings-azure-inference) (6.0.2)\n",
            "Requirement already satisfied: SQLAlchemy>=1.4.49 in /usr/local/lib/python3.10/dist-packages (from SQLAlchemy[asyncio]>=1.4.49->llama-index-core<0.13.0,>=0.12.0->llama-index-embeddings-azure-inference) (2.0.36)\n",
            "Requirement already satisfied: dataclasses-json in /usr/local/lib/python3.10/dist-packages (from llama-index-core<0.13.0,>=0.12.0->llama-index-embeddings-azure-inference) (0.6.7)\n",
            "Requirement already satisfied: deprecated>=1.2.9.3 in /usr/local/lib/python3.10/dist-packages (from llama-index-core<0.13.0,>=0.12.0->llama-index-embeddings-azure-inference) (1.2.15)\n",
            "Requirement already satisfied: dirtyjson<2.0.0,>=1.0.8 in /usr/local/lib/python3.10/dist-packages (from llama-index-core<0.13.0,>=0.12.0->llama-index-embeddings-azure-inference) (1.0.8)\n",
            "Requirement already satisfied: filetype<2.0.0,>=1.2.0 in /usr/local/lib/python3.10/dist-packages (from llama-index-core<0.13.0,>=0.12.0->llama-index-embeddings-azure-inference) (1.2.0)\n",
            "Requirement already satisfied: fsspec>=2023.5.0 in /usr/local/lib/python3.10/dist-packages (from llama-index-core<0.13.0,>=0.12.0->llama-index-embeddings-azure-inference) (2024.10.0)\n",
            "Requirement already satisfied: httpx in /usr/local/lib/python3.10/dist-packages (from llama-index-core<0.13.0,>=0.12.0->llama-index-embeddings-azure-inference) (0.27.2)\n",
            "Requirement already satisfied: nest-asyncio<2.0.0,>=1.5.8 in /usr/local/lib/python3.10/dist-packages (from llama-index-core<0.13.0,>=0.12.0->llama-index-embeddings-azure-inference) (1.6.0)\n",
            "Requirement already satisfied: networkx>=3.0 in /usr/local/lib/python3.10/dist-packages (from llama-index-core<0.13.0,>=0.12.0->llama-index-embeddings-azure-inference) (3.4.2)\n",
            "Requirement already satisfied: nltk>3.8.1 in /usr/local/lib/python3.10/dist-packages (from llama-index-core<0.13.0,>=0.12.0->llama-index-embeddings-azure-inference) (3.9.1)\n",
            "Requirement already satisfied: numpy in /usr/local/lib/python3.10/dist-packages (from llama-index-core<0.13.0,>=0.12.0->llama-index-embeddings-azure-inference) (1.26.4)\n",
            "Requirement already satisfied: pillow>=9.0.0 in /usr/local/lib/python3.10/dist-packages (from llama-index-core<0.13.0,>=0.12.0->llama-index-embeddings-azure-inference) (11.0.0)\n",
            "Requirement already satisfied: pydantic<2.10.0,>=2.7.0 in /usr/local/lib/python3.10/dist-packages (from llama-index-core<0.13.0,>=0.12.0->llama-index-embeddings-azure-inference) (2.9.2)\n",
            "Requirement already satisfied: requests>=2.31.0 in /usr/local/lib/python3.10/dist-packages (from llama-index-core<0.13.0,>=0.12.0->llama-index-embeddings-azure-inference) (2.32.3)\n",
            "Requirement already satisfied: tenacity!=8.4.0,<9.0.0,>=8.2.0 in /usr/local/lib/python3.10/dist-packages (from llama-index-core<0.13.0,>=0.12.0->llama-index-embeddings-azure-inference) (8.5.0)\n",
            "Requirement already satisfied: tiktoken>=0.3.3 in /usr/local/lib/python3.10/dist-packages (from llama-index-core<0.13.0,>=0.12.0->llama-index-embeddings-azure-inference) (0.8.0)\n",
            "Requirement already satisfied: tqdm<5.0.0,>=4.66.1 in /usr/local/lib/python3.10/dist-packages (from llama-index-core<0.13.0,>=0.12.0->llama-index-embeddings-azure-inference) (4.66.6)\n",
            "Requirement already satisfied: typing-inspect>=0.8.0 in /usr/local/lib/python3.10/dist-packages (from llama-index-core<0.13.0,>=0.12.0->llama-index-embeddings-azure-inference) (0.9.0)\n",
            "Requirement already satisfied: wrapt in /usr/local/lib/python3.10/dist-packages (from llama-index-core<0.13.0,>=0.12.0->llama-index-embeddings-azure-inference) (1.16.0)\n",
            "Requirement already satisfied: six>=1.11.0 in /usr/local/lib/python3.10/dist-packages (from azure-core>=1.30.0->azure-ai-inference>=1.0.0b5->llama-index-embeddings-azure-inference) (1.16.0)\n",
            "Requirement already satisfied: cffi>=1.12 in /usr/local/lib/python3.10/dist-packages (from cryptography>=2.5->azure-identity<2.0.0,>=1.15.0->llama-index-embeddings-azure-inference) (1.17.1)\n",
            "Requirement already satisfied: PyJWT<3,>=1.0.0 in /usr/local/lib/python3.10/dist-packages (from PyJWT[crypto]<3,>=1.0.0->msal>=1.30.0->azure-identity<2.0.0,>=1.15.0->llama-index-embeddings-azure-inference) (2.10.0)\n",
            "Requirement already satisfied: portalocker<3,>=1.4 in /usr/local/lib/python3.10/dist-packages (from msal-extensions>=1.2.0->azure-identity<2.0.0,>=1.15.0->llama-index-embeddings-azure-inference) (2.10.1)\n",
            "Requirement already satisfied: click in /usr/local/lib/python3.10/dist-packages (from nltk>3.8.1->llama-index-core<0.13.0,>=0.12.0->llama-index-embeddings-azure-inference) (8.1.7)\n",
            "Requirement already satisfied: joblib in /usr/local/lib/python3.10/dist-packages (from nltk>3.8.1->llama-index-core<0.13.0,>=0.12.0->llama-index-embeddings-azure-inference) (1.4.2)\n",
            "Requirement already satisfied: regex>=2021.8.3 in /usr/local/lib/python3.10/dist-packages (from nltk>3.8.1->llama-index-core<0.13.0,>=0.12.0->llama-index-embeddings-azure-inference) (2024.9.11)\n",
            "Requirement already satisfied: annotated-types>=0.6.0 in /usr/local/lib/python3.10/dist-packages (from pydantic<2.10.0,>=2.7.0->llama-index-core<0.13.0,>=0.12.0->llama-index-embeddings-azure-inference) (0.7.0)\n",
            "Requirement already satisfied: pydantic-core==2.23.4 in /usr/local/lib/python3.10/dist-packages (from pydantic<2.10.0,>=2.7.0->llama-index-core<0.13.0,>=0.12.0->llama-index-embeddings-azure-inference) (2.23.4)\n",
            "Requirement already satisfied: charset-normalizer<4,>=2 in /usr/local/lib/python3.10/dist-packages (from requests>=2.31.0->llama-index-core<0.13.0,>=0.12.0->llama-index-embeddings-azure-inference) (3.4.0)\n",
            "Requirement already satisfied: idna<4,>=2.5 in /usr/local/lib/python3.10/dist-packages (from requests>=2.31.0->llama-index-core<0.13.0,>=0.12.0->llama-index-embeddings-azure-inference) (3.10)\n",
            "Requirement already satisfied: urllib3<3,>=1.21.1 in /usr/local/lib/python3.10/dist-packages (from requests>=2.31.0->llama-index-core<0.13.0,>=0.12.0->llama-index-embeddings-azure-inference) (2.2.3)\n",
            "Requirement already satisfied: certifi>=2017.4.17 in /usr/local/lib/python3.10/dist-packages (from requests>=2.31.0->llama-index-core<0.13.0,>=0.12.0->llama-index-embeddings-azure-inference) (2024.8.30)\n",
            "Requirement already satisfied: greenlet!=0.4.17 in /usr/local/lib/python3.10/dist-packages (from SQLAlchemy>=1.4.49->SQLAlchemy[asyncio]>=1.4.49->llama-index-core<0.13.0,>=0.12.0->llama-index-embeddings-azure-inference) (3.1.1)\n",
            "Requirement already satisfied: mypy-extensions>=0.3.0 in /usr/local/lib/python3.10/dist-packages (from typing-inspect>=0.8.0->llama-index-core<0.13.0,>=0.12.0->llama-index-embeddings-azure-inference) (1.0.0)\n",
            "Requirement already satisfied: marshmallow<4.0.0,>=3.18.0 in /usr/local/lib/python3.10/dist-packages (from dataclasses-json->llama-index-core<0.13.0,>=0.12.0->llama-index-embeddings-azure-inference) (3.23.1)\n",
            "Requirement already satisfied: anyio in /usr/local/lib/python3.10/dist-packages (from httpx->llama-index-core<0.13.0,>=0.12.0->llama-index-embeddings-azure-inference) (3.7.1)\n",
            "Requirement already satisfied: httpcore==1.* in /usr/local/lib/python3.10/dist-packages (from httpx->llama-index-core<0.13.0,>=0.12.0->llama-index-embeddings-azure-inference) (1.0.7)\n",
            "Requirement already satisfied: sniffio in /usr/local/lib/python3.10/dist-packages (from httpx->llama-index-core<0.13.0,>=0.12.0->llama-index-embeddings-azure-inference) (1.3.1)\n",
            "Requirement already satisfied: h11<0.15,>=0.13 in /usr/local/lib/python3.10/dist-packages (from httpcore==1.*->httpx->llama-index-core<0.13.0,>=0.12.0->llama-index-embeddings-azure-inference) (0.14.0)\n",
            "Requirement already satisfied: pycparser in /usr/local/lib/python3.10/dist-packages (from cffi>=1.12->cryptography>=2.5->azure-identity<2.0.0,>=1.15.0->llama-index-embeddings-azure-inference) (2.22)\n",
            "Requirement already satisfied: packaging>=17.0 in /usr/local/lib/python3.10/dist-packages (from marshmallow<4.0.0,>=3.18.0->dataclasses-json->llama-index-core<0.13.0,>=0.12.0->llama-index-embeddings-azure-inference) (24.2)\n",
            "Requirement already satisfied: exceptiongroup in /usr/local/lib/python3.10/dist-packages (from anyio->httpx->llama-index-core<0.13.0,>=0.12.0->llama-index-embeddings-azure-inference) (1.2.2)\n",
            "Downloading llama_index_embeddings_azure_inference-0.3.0-py3-none-any.whl (4.0 kB)\n",
            "Installing collected packages: llama-index-embeddings-azure-inference\n",
            "Successfully installed llama-index-embeddings-azure-inference-0.3.0\n"
          ]
        }
      ]
    },
    {
      "cell_type": "code",
      "source": [
        "from llama_index.llms.azure_inference import AzureAICompletionsModel"
      ],
      "metadata": {
        "id": "xpknvFZ8HMA5"
      },
      "execution_count": null,
      "outputs": []
    },
    {
      "cell_type": "code",
      "source": [
        "from llama_index.embeddings.azure_inference import AzureAIEmbeddingsModel"
      ],
      "metadata": {
        "id": "KNIIqAO0ITEO"
      },
      "execution_count": null,
      "outputs": []
    },
    {
      "cell_type": "code",
      "execution_count": null,
      "metadata": {
        "id": "I5D6E_dxfzgp"
      },
      "outputs": [],
      "source": [
        "from llama_parse import LlamaParse\n",
        "from llama_index.core import Settings\n",
        "from llama_index.core import StorageContext\n",
        "from llama_index.core import VectorStoreIndex\n",
        "from llama_index.core.node_parser import MarkdownElementNodeParser\n",
        "from llama_index.llms.openai import OpenAI\n",
        "from llama_index.embeddings.openai import OpenAIEmbedding\n",
        "from llama_index.vector_stores.kdbai import KDBAIVectorStore\n",
        "from llama_index.postprocessor.cohere_rerank import CohereRerank\n",
        "from getpass import getpass\n",
        "import os\n",
        "import kdbai_client as kdbai\n"
      ]
    },
    {
      "cell_type": "markdown",
      "metadata": {
        "id": "VugwLbH4nyxo"
      },
      "source": [
        "## 2. Set API Keys for LlamaCloud, OpenAI, Cohere\n",
        "Get API keys here:\n",
        "- [LlamaCloud](https://cloud.llamaindex.ai/)\n",
        "- [OpenAI](https://platform.openai.com/api-keys)\n",
        "- [Cohere](https://dashboard.cohere.com/welcome/register)"
      ]
    },
    {
      "cell_type": "code",
      "execution_count": null,
      "metadata": {
        "id": "wfSJbAq7ggm2"
      },
      "outputs": [],
      "source": [
        "# llama-parse is async-first, running the async code in a notebook requires the use of nest_asyncio\n",
        "import nest_asyncio\n",
        "nest_asyncio.apply()"
      ]
    },
    {
      "cell_type": "code",
      "execution_count": null,
      "metadata": {
        "colab": {
          "base_uri": "https://localhost:8080/"
        },
        "id": "fH54AQt2R-oR",
        "outputId": "330b8050-737a-46cb-ea30-31e9d21cc057"
      },
      "outputs": [
        {
          "name": "stdout",
          "output_type": "stream",
          "text": [
            "LLAMA CLOUD API key: ··········\n"
          ]
        }
      ],
      "source": [
        "# API access to llama-cloud\n",
        "os.environ[\"LLAMA_CLOUD_API_KEY\"] = (\n",
        "    os.environ[\"LLAMA_CLOUD_API_KEY\"]\n",
        "    if \"LLAMA_CLOUD_API_KEY\" in os.environ\n",
        "    else getpass(\"LLAMA CLOUD API key: \")\n",
        ")"
      ]
    },
    {
      "cell_type": "code",
      "execution_count": null,
      "metadata": {
        "colab": {
          "base_uri": "https://localhost:8080/"
        },
        "id": "1attD--mR-oR",
        "outputId": "09642d48-70cc-4cb6-e6cf-bae2326725d4"
      },
      "outputs": [
        {
          "name": "stdout",
          "output_type": "stream",
          "text": [
            "OpenAI API Key: ··········\n"
          ]
        }
      ],
      "source": [
        "# Using OpenAI API for embeddings/llms\n",
        "os.environ[\"OPENAI_API_KEY\"] = (\n",
        "    os.environ[\"OPENAI_API_KEY\"]\n",
        "    if \"OPENAI_API_KEY1\" in os.environ\n",
        "    else getpass(\"OpenAI API Key: \")\n",
        ")"
      ]
    },
    {
      "cell_type": "code",
      "execution_count": null,
      "metadata": {
        "id": "_5C21WxrR-oR",
        "colab": {
          "base_uri": "https://localhost:8080/"
        },
        "outputId": "70fa6540-5821-4899-cb1f-ea2cb37378ed"
      },
      "outputs": [
        {
          "name": "stdout",
          "output_type": "stream",
          "text": [
            "COHERE API key: ··········\n"
          ]
        }
      ],
      "source": [
        "# Using Cohere for reranking\n",
        "os.environ[\"COHERE_API_KEY\"] = (\n",
        "    os.environ[\"COHERE_API_KEY\"]\n",
        "    if \"COHERE_API_KEY\" in os.environ\n",
        "    else getpass(\"COHERE API key: \")\n",
        ")"
      ]
    },
    {
      "cell_type": "markdown",
      "metadata": {
        "id": "Q69Itjjjnyxo"
      },
      "source": [
        "## 3. Define KDB.AI Session\n",
        "KDB.AI comes in two offerings:\n",
        "\n",
        "KDB.AI Cloud - For experimenting with smaller generative AI projects with a vector database in our cloud.\n",
        "KDB.AI Server - For evaluating large scale generative AI applications on-premises or on your own cloud provider.\n",
        "Depending on which you use there will be different setup steps and connection details required.\n",
        "\n",
        "Option 1. KDB.AI Cloud\n",
        "To use KDB.AI Cloud, you will need two session details - a URL endpoint and an API key. To get these you can sign up for free here.\n",
        "\n",
        "You can connect to a KDB.AI Cloud session using kdbai.Session and passing the session URL endpoint and API key details from your KDB.AI Cloud portal.\n",
        "\n",
        "If the environment variables KDBAI_ENDPOINTS and KDBAI_API_KEY exist on your system containing your KDB.AI Cloud portal details, these variables will automatically be used to connect. If these do not exist, it will prompt you to enter your KDB.AI Cloud portal session URL endpoint and API key details."
      ]
    },
    {
      "cell_type": "markdown",
      "metadata": {
        "id": "JI7_YV-Hnyxo"
      },
      "source": [
        "### Option 1. KDB.AI Cloud"
      ]
    },
    {
      "cell_type": "code",
      "execution_count": null,
      "metadata": {
        "id": "kwgxg_83iohC",
        "colab": {
          "base_uri": "https://localhost:8080/"
        },
        "outputId": "27ede4d8-a1de-432b-99ea-936625dfa303"
      },
      "outputs": [
        {
          "name": "stdout",
          "output_type": "stream",
          "text": [
            "KDB.AI endpoint: https://cloud.kdb.ai/instance/5mpjbggrkg\n",
            "KDB.AI API key: ··········\n"
          ]
        }
      ],
      "source": [
        "#Set up KDB.AI endpoint and API key\n",
        "KDBAI_ENDPOINT = (\n",
        "    os.environ[\"KDBAI_ENDPOINT\"]\n",
        "    if \"KDBAI_ENDPOINT\" in os.environ\n",
        "    else input(\"KDB.AI endpoint: \")\n",
        ")\n",
        "KDBAI_API_KEY = (\n",
        "    os.environ[\"KDBAI_API_KEY\"]\n",
        "    if \"KDBAI_API_KEY\" in os.environ\n",
        "    else getpass(\"KDB.AI API key: \")\n",
        ")"
      ]
    },
    {
      "cell_type": "code",
      "execution_count": null,
      "metadata": {
        "id": "zOI4n_F7iqeb"
      },
      "outputs": [],
      "source": [
        "#connect to KDB.AI\n",
        "session = kdbai.Session(api_key=KDBAI_API_KEY, endpoint=KDBAI_ENDPOINT)"
      ]
    },
    {
      "cell_type": "markdown",
      "metadata": {
        "id": "v5LF-Iz6nyxo"
      },
      "source": [
        "### Option 2. KDB.AI Server\n",
        "To use KDB.AI Server, you will need download and run your own container. To do this, you will first need to sign up for free here.\n",
        "\n",
        "You will receive an email with the required license file and bearer token needed to download your instance. Follow instructions in the signup email to get your session up and running.\n",
        "\n",
        "Once the setup steps are complete you can then connect to your KDB.AI Server session using kdbai.Session and passing your local endpoint."
      ]
    },
    {
      "cell_type": "code",
      "execution_count": null,
      "metadata": {
        "id": "mZaFikjYnyxo"
      },
      "outputs": [],
      "source": [
        "# session = kdbai.Session(endpoint=\"http://localhost:8082\")"
      ]
    },
    {
      "cell_type": "markdown",
      "metadata": {
        "id": "QUOUBxQBnyxo"
      },
      "source": [
        "## 4. Create Schema and KDB.AI Table"
      ]
    },
    {
      "cell_type": "code",
      "execution_count": null,
      "metadata": {
        "id": "lUpAh6CdyWow"
      },
      "outputs": [],
      "source": [
        "schema = [\n",
        "        dict(name=\"document_id\", type=\"bytes\"),\n",
        "        dict(name=\"text\", type=\"bytes\"),\n",
        "        dict(name=\"embeddings\", type=\"float32s\"),\n",
        "    ]\n",
        "\n",
        "indexFlat = {\n",
        "        \"name\": \"flat\",\n",
        "        \"type\": \"flat\",\n",
        "        \"column\": \"embeddings\",\n",
        "        \"params\": {'dims': 1536, 'metric': 'L2'},\n",
        "    }"
      ]
    },
    {
      "cell_type": "code",
      "execution_count": null,
      "metadata": {
        "id": "Q7ki1fRhR-oS"
      },
      "outputs": [],
      "source": [
        "# Connect with kdbai database\n",
        "db = session.database(\"default\")"
      ]
    },
    {
      "cell_type": "code",
      "execution_count": null,
      "metadata": {
        "id": "RiYRfJbxyZe8"
      },
      "outputs": [],
      "source": [
        "KDBAI_TABLE_NAME = \"LlamaParse_Table\"\n",
        "\n",
        "# First ensure the table does not already exist\n",
        "try:\n",
        "    db.table(KDBAI_TABLE_NAME).drop()\n",
        "except kdbai.KDBAIException:\n",
        "    pass\n",
        "\n",
        "#Create the table\n",
        "table = db.create_table(KDBAI_TABLE_NAME, schema, indexes=[indexFlat])"
      ]
    },
    {
      "cell_type": "markdown",
      "metadata": {
        "id": "hF0toP5Inyxp"
      },
      "source": [
        "## 5. Download ARXIV Article\n",
        "This is an article from VMware NLP Lab called '[LLM In-Context Recall is Prompt Dependent](https://arxiv.org/pdf/2404.08865)' by Daniel Machlab and Rick Battle"
      ]
    },
    {
      "cell_type": "code",
      "execution_count": null,
      "metadata": {
        "id": "-DPfDHeOnyxp",
        "colab": {
          "base_uri": "https://localhost:8080/"
        },
        "outputId": "b6120e02-7eda-41f5-e0bc-6fc59ef4a7df"
      },
      "outputs": [
        {
          "output_type": "stream",
          "name": "stdout",
          "text": [
            "--2024-12-03 12:47:21--  https://arxiv.org/pdf/2404.08865\n",
            "Resolving arxiv.org (arxiv.org)... 151.101.67.42, 151.101.195.42, 151.101.3.42, ...\n",
            "Connecting to arxiv.org (arxiv.org)|151.101.67.42|:443... connected.\n",
            "HTTP request sent, awaiting response... 200 OK\n",
            "Length: 4601949 (4.4M) [application/pdf]\n",
            "Saving to: ‘./LLM_recall.pdf’\n",
            "\n",
            "./LLM_recall.pdf    100%[===================>]   4.39M  --.-KB/s    in 0.09s   \n",
            "\n",
            "2024-12-03 12:47:21 (46.7 MB/s) - ‘./LLM_recall.pdf’ saved [4601949/4601949]\n",
            "\n"
          ]
        }
      ],
      "source": [
        "!wget 'https://arxiv.org/pdf/2404.08865' -O './LLM_recall.pdf'"
      ]
    },
    {
      "cell_type": "markdown",
      "metadata": {
        "id": "LrQOG4yonyxp"
      },
      "source": [
        "## 6. LlamaParse & LlamaIndex Setup\n",
        "We define which LLM and embedding model should be used, define the file path of the complex document, and create parsing instructions."
      ]
    },
    {
      "cell_type": "markdown",
      "source": [
        "Using Open AI LLM & Embedding models via Azure foundry"
      ],
      "metadata": {
        "id": "SR-3v1kaIaxm"
      }
    },
    {
      "cell_type": "code",
      "source": [
        "llm = AzureAICompletionsModel(\n",
        "    endpoint=\"https://ai-depoc1aihub1643128651037.openai.azure.com/openai/deployments/gpt-4o\",\n",
        "    credential=\"EcpnZTlxYcDNtgfui7mWYS0JeTWJPlNXJEaILe2fwF6dftfTBqYLJQQJ99ALACYeBjFXJ3w3AAAAACOGXsqG\",\n",
        "    api_version=\"2024-08-01-preview\",\n",
        ")"
      ],
      "metadata": {
        "id": "ax9XmgFqG_Gy"
      },
      "execution_count": null,
      "outputs": []
    },
    {
      "cell_type": "code",
      "source": [
        "embed_model = AzureAIEmbeddingsModel(\n",
        "    endpoint=\"https://ai-depoc1aihub1643128651037.openai.azure.com/openai/deployments/text-embedding-3-small\",\n",
        "    credential=\"EcpnZTlxYcDNtgfui7mWYS0JeTWJPlNXJEaILe2fwF6dftfTBqYLJQQJ99ALACYeBjFXJ3w3AAAAACOGXsqG\",\n",
        "    model_name=\"text-embedding-3-small\",\n",
        ")"
      ],
      "metadata": {
        "id": "Pj1M7BDqQ0g2"
      },
      "execution_count": null,
      "outputs": []
    },
    {
      "cell_type": "code",
      "source": [
        "Settings.llm = llm\n",
        "Settings.embed_model = embed_model"
      ],
      "metadata": {
        "id": "eBZQBAUAbdun"
      },
      "execution_count": null,
      "outputs": []
    },
    {
      "cell_type": "markdown",
      "source": [
        "Using Open AI LLMs"
      ],
      "metadata": {
        "id": "mxvuLHhLbn81"
      }
    },
    {
      "cell_type": "code",
      "execution_count": null,
      "metadata": {
        "id": "CJWBLC_dhiww"
      },
      "outputs": [],
      "source": [
        "EMBEDDING_MODEL  = \"text-embedding-3-large\"\n",
        "GENERATION_MODEL = \"gpt-4o-mini\"\n",
        "\n",
        "#llm = OpenAI(model=GENERATION_MODEL)\n",
        "embed_model = OpenAIEmbedding(model=EMBEDDING_MODEL)\n",
        "\n",
        "Settings.llm = llm\n",
        "Settings.embed_model = embed_model"
      ]
    },
    {
      "cell_type": "code",
      "execution_count": null,
      "metadata": {
        "id": "bk40jlZMhKKT"
      },
      "outputs": [],
      "source": [
        "pdf_file_name = './1.3.2.6.2_Honeywell Long Term Contract_C14.pdf'"
      ]
    },
    {
      "cell_type": "code",
      "execution_count": null,
      "metadata": {
        "id": "as8sskUxnQfM"
      },
      "outputs": [],
      "source": [
        "parsing_instructions = '''The document attached are legal and long term agreement contracts. Answer questions using the information in this article and be precise.'''"
      ]
    },
    {
      "cell_type": "markdown",
      "metadata": {
        "id": "UEJFaS_9nyxp"
      },
      "source": [
        "## 7. Parse the document with LlamaParse into markdown format"
      ]
    },
    {
      "cell_type": "code",
      "execution_count": null,
      "metadata": {
        "colab": {
          "base_uri": "https://localhost:8080/"
        },
        "id": "vPkDh9JqhP5V",
        "outputId": "c2b736b2-5922-42d7-daf3-3ab504e39293"
      },
      "outputs": [
        {
          "output_type": "stream",
          "name": "stdout",
          "text": [
            "Started parsing the file under job_id 893867ba-a0c1-4453-ba57-2e0bc29ec19e\n",
            ".."
          ]
        }
      ],
      "source": [
        "documents = LlamaParse(result_type=\"markdown\", disable_ocr=True, target_pages=\"0,2,6\",parsing_instructions=parsing_instructions).load_data(pdf_file_name)"
      ]
    },
    {
      "cell_type": "code",
      "execution_count": null,
      "metadata": {
        "colab": {
          "base_uri": "https://localhost:8080/"
        },
        "id": "U277GNZus1gm",
        "outputId": "143b13bc-e541-4c92-a905-7af9e82c2669"
      },
      "outputs": [
        {
          "output_type": "stream",
          "name": "stdout",
          "text": [
            "# Honeywell\n",
            "\n",
            "# THE POWER OF CONNECTED\n",
            "\n",
            "# STAND-ALONE GOVERNMENT PROGRAM CONTRACT\n",
            "\n",
            "BETWEEN HONEYWELL INTERNATIONAL INC.\n",
            "\n",
            "AND\n",
            "\n",
            "UNITED AVIONICS INC.\n",
            "\n",
            "# STAND-ALONE GOVERNMENT PROGRAM CONTRACT: DEF10177\n",
            "\n",
            "PROGRAM: TIGER Ill\n",
            "\n",
            "PRIME CONTRACT NUMBER: W56HZV-20-D-0062\n",
            "\n",
            "PERIOD OF PERFORMANCE: 10/1/2020 - 9/30/2025\n",
            "\n",
            "CONTRACT TYPE: FFP\n",
            "\n",
            "..L_Honeywell\n",
            "\n",
            "~;; ,,.:\n",
            "\n",
            "~Supplier\n",
            "\n",
            "(v01-2021) Stand-Alone Government Program Contract\n",
            "\n",
            "Honeywell Confidential\n"
          ]
        }
      ],
      "source": [
        "print(documents[0].text[:1000])"
      ]
    },
    {
      "cell_type": "markdown",
      "metadata": {
        "id": "vgkhHi4onyxp"
      },
      "source": [
        "## 8. Extract Text and Table nodes from Markdown Document"
      ]
    },
    {
      "cell_type": "code",
      "execution_count": null,
      "metadata": {
        "id": "8PKK7IC1jdX7"
      },
      "outputs": [],
      "source": [
        "# Parse the documents using MarkdownElementNodeParser\n",
        "node_parser = MarkdownElementNodeParser(llm=llm, num_workers=8).from_defaults()"
      ]
    },
    {
      "cell_type": "code",
      "execution_count": null,
      "metadata": {
        "colab": {
          "base_uri": "https://localhost:8080/"
        },
        "id": "ixrSC6rHdr4d",
        "outputId": "3beb2bb3-27d2-4f98-c7d0-b74bdf83f889"
      },
      "outputs": [
        {
          "output_type": "stream",
          "name": "stderr",
          "text": [
            "0it [00:00, ?it/s]\n",
            "0it [00:00, ?it/s]\n",
            "4it [00:00, 25771.45it/s]\n"
          ]
        }
      ],
      "source": [
        "# Retrieve nodes (text) and objects (table)\n",
        "nodes = node_parser.get_nodes_from_documents(documents)"
      ]
    },
    {
      "cell_type": "markdown",
      "metadata": {
        "id": "vUk3FIG0nyxp"
      },
      "source": [
        "#### Split nodes into base_nodes (text nodes), and object (table nodes)"
      ]
    },
    {
      "cell_type": "code",
      "execution_count": null,
      "metadata": {
        "id": "1n4U1ITPdvvl"
      },
      "outputs": [],
      "source": [
        "base_nodes, objects = node_parser.get_nodes_and_objects(nodes)"
      ]
    },
    {
      "cell_type": "markdown",
      "metadata": {
        "id": "wZbDBC_Unyxq"
      },
      "source": [
        "#### Explore these extracted nodes"
      ]
    },
    {
      "cell_type": "code",
      "execution_count": null,
      "metadata": {
        "id": "GRG-q965nyxq",
        "colab": {
          "base_uri": "https://localhost:8080/"
        },
        "outputId": "04126a37-64f0-409a-b7b1-764f2a8a87fa"
      },
      "outputs": [
        {
          "output_type": "stream",
          "name": "stdout",
          "text": [
            "Option Year 3 (October 1, 2024 - September 30, 2025 Delivery Dates) - to be exercised by Honeywell upon award by USG\n"
          ]
        }
      ],
      "source": [
        "print(base_nodes[6].text[:])"
      ]
    },
    {
      "cell_type": "code",
      "source": [
        "print(objects)"
      ],
      "metadata": {
        "colab": {
          "base_uri": "https://localhost:8080/"
        },
        "id": "_KZWRMd-KSKb",
        "outputId": "5694b8b5-7749-49ee-d0ee-938f71534403"
      },
      "execution_count": null,
      "outputs": [
        {
          "output_type": "stream",
          "name": "stdout",
          "text": [
            "[IndexNode(id_='219050ab-c33c-4f3a-81fb-c2dfee830252', embedding=None, metadata={'col_schema': 'Column: Part Number\\nType: string\\nSummary: Unique identifier for each part.\\n\\nColumn: Description\\nType: string\\nSummary: Brief description of the part.\\n\\nColumn: Lead Time\\nType: integer\\nSummary: Time required to deliver the part (in days).\\n\\nColumn: Capacity\\nType: integer\\nSummary: Maximum number of parts that can be produced.\\n\\nColumn: Quantity\\nType: integer\\nSummary: Number of parts ordered.\\n\\nColumn: Unit Price\\nType: string\\nSummary: Price per unit of the part.\\n\\nColumn: Extended Price\\nType: string\\nSummary: Total price for the ordered quantity.\\n\\nColumn: Item\\nType: string\\nSummary: Indicates if the item is included in the order.\\n\\nColumn: Award\\nType: string\\nSummary: Indicates if the item has been awarded.\\n\\nColumn: Truthful Cost Data Applies\\nType: string\\nSummary: Indicates if truthful cost data applies to the item.'}, excluded_embed_metadata_keys=['col_schema'], excluded_llm_metadata_keys=[], relationships={<NodeRelationship.SOURCE: '1'>: RelatedNodeInfo(node_id='81712357-e13c-4c62-ad55-9822c9c5d2cc', node_type=<ObjectType.DOCUMENT: '4'>, metadata={}, hash='41715536b461b5d349b7600ef07caeeae2309f261f45cbf8599f05ba8ddfb11e'), <NodeRelationship.PREVIOUS: '2'>: RelatedNodeInfo(node_id='b3b02b06-96a7-4575-a897-2297ce66e8db', node_type=<ObjectType.TEXT: '1'>, metadata={}, hash='29ea7ac336040480e0287aa0b379bcc5f42c2e360836f74aba5b21a318abe605'), <NodeRelationship.NEXT: '3'>: RelatedNodeInfo(node_id='2fb25e11-713d-441a-a8b7-aa9c7e99cd95', node_type=<ObjectType.TEXT: '1'>, metadata={'table_df': \"{'Part Number': {0: '3-300-952-01', 1: '3-300-634-04', 2: '3-300-627-08', 3: '3-300-628-07', 4: '3-170-930-01'}, 'Description': {0: 'HARNESS ASSY, ELECT', 1: 'HARNESS ACCESS ELEC', 2: 'HARNESS ASSY, FUEL CONTROL, ELECTRICAL', 3: 'HARNESS ASSY, SPD Pl', 4: 'STRAP,GROUND,ASSYOF'}, 'Lead Time': {0: 180, 1: 180, 2: 180, 3: 180, 4: 60}, 'Capacity': {0: 100, 1: 100, 2: 100, 3: 100, 4: 200}, 'Quantity': {0: 1208, 1: 883, 2: 800, 3: 869, 4: 998}, 'Unit Price': {0: '$ 690.00', 1: '$ 775.00', 2: '$ 990.00', 3: '$ 300.00', 4: '$ 38.00'}, 'Extended Price': {0: '$ 833,520.00', 1: '$ 684,325.00', 2: '$ 792,000.00', 3: '$ 260,700.00', 4: '$ 37,924.00'}, 'Item': {0: 'y', 1: 'y', 2: 'y', 3: 'y', 4: 'y'}, 'Award': {0: 'y', 1: 'y', 2: 'y', 3: 'y', 4: 'y'}, 'Truthful Cost Data Applies': {0: 'N', 1: 'N', 2: 'N', 3: 'N', 4: 'N'}}\", 'table_summary': 'This table lists various electrical harness assemblies and related components, including their part numbers, descriptions, lead times, capacities, quantities, unit prices, and extended prices. It also indicates whether each item is awarded and if truthful cost data applies.,\\nwith the following columns:\\n- Part Number: Unique identifier for each part.\\n- Description: Brief description of the part.\\n- Lead Time: Time required to deliver the part (in days).\\n- Capacity: Maximum number of parts that can be produced.\\n- Quantity: Number of parts ordered.\\n- Unit Price: Price per unit of the part.\\n- Extended Price: Total price for the ordered quantity.\\n- Item: Indicates if the item is included in the order.\\n- Award: Indicates if the item has been awarded.\\n- Truthful Cost Data Applies: Indicates if truthful cost data applies to the item.\\n'}, hash='2038a9657db0e0dee7f56474003f44c8ac7580b719d48741c8dddc98f66f94b3')}, metadata_template='{key}: {value}', metadata_separator='\\n', text='This table lists various electrical harness assemblies and related components, including their part numbers, descriptions, lead times, capacities, quantities, unit prices, and extended prices. It also indicates whether each item is awarded and if truthful cost data applies.,\\nwith the following columns:\\n- Part Number: Unique identifier for each part.\\n- Description: Brief description of the part.\\n- Lead Time: Time required to deliver the part (in days).\\n- Capacity: Maximum number of parts that can be produced.\\n- Quantity: Number of parts ordered.\\n- Unit Price: Price per unit of the part.\\n- Extended Price: Total price for the ordered quantity.\\n- Item: Indicates if the item is included in the order.\\n- Award: Indicates if the item has been awarded.\\n- Truthful Cost Data Applies: Indicates if truthful cost data applies to the item.\\n', mimetype='text/plain', start_char_idx=339, end_char_idx=891, metadata_seperator='\\n', text_template='{metadata_str}\\n\\n{content}', index_id='2fb25e11-713d-441a-a8b7-aa9c7e99cd95', obj=TextNode(id_='2fb25e11-713d-441a-a8b7-aa9c7e99cd95', embedding=None, metadata={'table_df': \"{'Part Number': {0: '3-300-952-01', 1: '3-300-634-04', 2: '3-300-627-08', 3: '3-300-628-07', 4: '3-170-930-01'}, 'Description': {0: 'HARNESS ASSY, ELECT', 1: 'HARNESS ACCESS ELEC', 2: 'HARNESS ASSY, FUEL CONTROL, ELECTRICAL', 3: 'HARNESS ASSY, SPD Pl', 4: 'STRAP,GROUND,ASSYOF'}, 'Lead Time': {0: 180, 1: 180, 2: 180, 3: 180, 4: 60}, 'Capacity': {0: 100, 1: 100, 2: 100, 3: 100, 4: 200}, 'Quantity': {0: 1208, 1: 883, 2: 800, 3: 869, 4: 998}, 'Unit Price': {0: '$ 690.00', 1: '$ 775.00', 2: '$ 990.00', 3: '$ 300.00', 4: '$ 38.00'}, 'Extended Price': {0: '$ 833,520.00', 1: '$ 684,325.00', 2: '$ 792,000.00', 3: '$ 260,700.00', 4: '$ 37,924.00'}, 'Item': {0: 'y', 1: 'y', 2: 'y', 3: 'y', 4: 'y'}, 'Award': {0: 'y', 1: 'y', 2: 'y', 3: 'y', 4: 'y'}, 'Truthful Cost Data Applies': {0: 'N', 1: 'N', 2: 'N', 3: 'N', 4: 'N'}}\", 'table_summary': 'This table lists various electrical harness assemblies and related components, including their part numbers, descriptions, lead times, capacities, quantities, unit prices, and extended prices. It also indicates whether each item is awarded and if truthful cost data applies.,\\nwith the following columns:\\n- Part Number: Unique identifier for each part.\\n- Description: Brief description of the part.\\n- Lead Time: Time required to deliver the part (in days).\\n- Capacity: Maximum number of parts that can be produced.\\n- Quantity: Number of parts ordered.\\n- Unit Price: Price per unit of the part.\\n- Extended Price: Total price for the ordered quantity.\\n- Item: Indicates if the item is included in the order.\\n- Award: Indicates if the item has been awarded.\\n- Truthful Cost Data Applies: Indicates if truthful cost data applies to the item.\\n'}, excluded_embed_metadata_keys=['table_df', 'table_summary'], excluded_llm_metadata_keys=['table_df', 'table_summary'], relationships={<NodeRelationship.SOURCE: '1'>: RelatedNodeInfo(node_id='81712357-e13c-4c62-ad55-9822c9c5d2cc', node_type=<ObjectType.DOCUMENT: '4'>, metadata={}, hash='41715536b461b5d349b7600ef07caeeae2309f261f45cbf8599f05ba8ddfb11e'), <NodeRelationship.PREVIOUS: '2'>: RelatedNodeInfo(node_id='219050ab-c33c-4f3a-81fb-c2dfee830252', node_type=<ObjectType.INDEX: '3'>, metadata={'col_schema': 'Column: Part Number\\nType: string\\nSummary: Unique identifier for each part.\\n\\nColumn: Description\\nType: string\\nSummary: Brief description of the part.\\n\\nColumn: Lead Time\\nType: integer\\nSummary: Time required to deliver the part (in days).\\n\\nColumn: Capacity\\nType: integer\\nSummary: Maximum number of parts that can be produced.\\n\\nColumn: Quantity\\nType: integer\\nSummary: Number of parts ordered.\\n\\nColumn: Unit Price\\nType: string\\nSummary: Price per unit of the part.\\n\\nColumn: Extended Price\\nType: string\\nSummary: Total price for the ordered quantity.\\n\\nColumn: Item\\nType: string\\nSummary: Indicates if the item is included in the order.\\n\\nColumn: Award\\nType: string\\nSummary: Indicates if the item has been awarded.\\n\\nColumn: Truthful Cost Data Applies\\nType: string\\nSummary: Indicates if truthful cost data applies to the item.'}, hash='ed500a49b894b55fc3630227a11d6ae9c375f7c75f688fcfb27e345a78f1ca31'), <NodeRelationship.NEXT: '3'>: RelatedNodeInfo(node_id='7b063cbd-6aea-4123-8143-085620e43062', node_type=<ObjectType.TEXT: '1'>, metadata={}, hash='5e1c4f966f99180facd2256ae39b23e601c000065349e0f0ec35eae80be6f163')}, metadata_template='{key}: {value}', metadata_separator='\\n', text='This table lists various electrical harness assemblies and related components, including their part numbers, descriptions, lead times, capacities, quantities, unit prices, and extended prices. It also indicates whether each item is awarded and if truthful cost data applies.,\\nwith the following columns:\\n- Part Number: Unique identifier for each part.\\n- Description: Brief description of the part.\\n- Lead Time: Time required to deliver the part (in days).\\n- Capacity: Maximum number of parts that can be produced.\\n- Quantity: Number of parts ordered.\\n- Unit Price: Price per unit of the part.\\n- Extended Price: Total price for the ordered quantity.\\n- Item: Indicates if the item is included in the order.\\n- Award: Indicates if the item has been awarded.\\n- Truthful Cost Data Applies: Indicates if truthful cost data applies to the item.\\n\\n|Part Number|Description|Lead Time|Capacity|Quantity|Unit Price|Extended Price|Item|Award|Truthful Cost Data Applies|\\n|---|---|---|---|---|---|---|---|---|---|\\n|3-300-952-01|HARNESS ASSY, ELECT|180|100|1208|$ 690.00|$ 833,520.00|y|y|N|\\n|3-300-634-04|HARNESS ACCESS ELEC|180|100|883|$ 775.00|$ 684,325.00|y|y|N|\\n|3-300-627-08|HARNESS ASSY, FUEL CONTROL, ELECTRICAL|180|100|800|$ 990.00|$ 792,000.00|y|y|N|\\n|3-300-628-07|HARNESS ASSY, SPD Pl|180|100|869|$ 300.00|$ 260,700.00|y|y|N|\\n|3-170-930-01|STRAP,GROUND,ASSYOF|60|200|998|$ 38.00|$ 37,924.00|y|y|N|\\n', mimetype='text/plain', start_char_idx=339, end_char_idx=891, metadata_seperator='\\n', text_template='{metadata_str}\\n\\n{content}')), IndexNode(id_='a6e619fc-c85f-4d2b-b4e5-a1976f176ff5', embedding=None, metadata={'col_schema': 'Column: Part Number\\nType: string\\nSummary: Unique identifier for each part.\\n\\nColumn: Description\\nType: string\\nSummary: Brief description of the part.\\n\\nColumn: Lead Time\\nType: integer\\nSummary: Time required to deliver the part (in days).\\n\\nColumn: Capacity\\nType: integer\\nSummary: Maximum production capacity for the part.\\n\\nColumn: Quantity\\nType: integer\\nSummary: Number of units ordered.\\n\\nColumn: Unit Price\\nType: string\\nSummary: Price per unit of the part.\\n\\nColumn: Extended Price\\nType: string\\nSummary: Total price for the ordered quantity.\\n\\nColumn: Item\\nType: string\\nSummary: Indicates if the item is included in the order.\\n\\nColumn: Award\\nType: string\\nSummary: Indicates if the item has been awarded.\\n\\nColumn: Truthful Cost Data Applies\\nType: string\\nSummary: Indicates if truthful cost data applies to the item.'}, excluded_embed_metadata_keys=['col_schema'], excluded_llm_metadata_keys=[], relationships={<NodeRelationship.SOURCE: '1'>: RelatedNodeInfo(node_id='81712357-e13c-4c62-ad55-9822c9c5d2cc', node_type=<ObjectType.DOCUMENT: '4'>, metadata={}, hash='41715536b461b5d349b7600ef07caeeae2309f261f45cbf8599f05ba8ddfb11e'), <NodeRelationship.PREVIOUS: '2'>: RelatedNodeInfo(node_id='7b063cbd-6aea-4123-8143-085620e43062', node_type=<ObjectType.TEXT: '1'>, metadata={}, hash='5e1c4f966f99180facd2256ae39b23e601c000065349e0f0ec35eae80be6f163'), <NodeRelationship.NEXT: '3'>: RelatedNodeInfo(node_id='b2733551-7cb0-4885-9b56-c6d2038a94e0', node_type=<ObjectType.TEXT: '1'>, metadata={'table_df': \"{'Part Number': {0: '3-300-952-01', 1: '3-300-634-04', 2: '3-300-627-08', 3: '3-300-628-07', 4: '3-170-930-01'}, 'Description': {0: 'HARNESS ASSY, ELECT', 1: 'HARNESS ACCESS ELEC', 2: 'HARNESS ASSY, FUEL CONTROL, ELECTRICAL', 3: 'HARNESS ASSY, SPD Pl', 4: 'STRAP,GROUND,ASSYOF'}, 'Lead Time': {0: 180, 1: 180, 2: 180, 3: 180, 4: 60}, 'Capacity': {0: 100, 1: 100, 2: 100, 3: 100, 4: 200}, 'Quantity': {0: 658, 1: 567, 2: 543, 3: 465, 4: 515}, 'Unit Price': {0: '$ 690.00', 1: '$ 775.00', 2: '$ 990.00', 3: '$ 300.00', 4: '$ 38.00'}, 'Extended Price': {0: '$ 454,020.00', 1: '$ 439,425.00', 2: '$ 537,570.00', 3: '$ 139,500.00', 4: '$ 19,570.00'}, 'Item': {0: 'y', 1: 'y', 2: 'y', 3: 'y', 4: 'y'}, 'Award': {0: 'y', 1: 'y', 2: 'y', 3: 'y', 4: 'y'}, 'Truthful Cost Data Applies': {0: 'N', 1: 'N', 2: 'N', 3: 'N', 4: 'N'}}\", 'table_summary': 'This table provides details on various electrical harness assemblies and related components, including their part numbers, descriptions, lead times, capacities, quantities, unit prices, extended prices, and other relevant information.,\\nwith the following columns:\\n- Part Number: Unique identifier for each part.\\n- Description: Brief description of the part.\\n- Lead Time: Time required to deliver the part (in days).\\n- Capacity: Maximum production capacity for the part.\\n- Quantity: Number of units ordered.\\n- Unit Price: Price per unit of the part.\\n- Extended Price: Total price for the ordered quantity.\\n- Item: Indicates if the item is included in the order.\\n- Award: Indicates if the item has been awarded.\\n- Truthful Cost Data Applies: Indicates if truthful cost data applies to the item.\\n'}, hash='224e27ceaad8c5039971b4ed52a8408d7403cb53122295ef95f377c06bfd9004')}, metadata_template='{key}: {value}', metadata_separator='\\n', text='This table provides details on various electrical harness assemblies and related components, including their part numbers, descriptions, lead times, capacities, quantities, unit prices, extended prices, and other relevant information.,\\nwith the following columns:\\n- Part Number: Unique identifier for each part.\\n- Description: Brief description of the part.\\n- Lead Time: Time required to deliver the part (in days).\\n- Capacity: Maximum production capacity for the part.\\n- Quantity: Number of units ordered.\\n- Unit Price: Price per unit of the part.\\n- Extended Price: Total price for the ordered quantity.\\n- Item: Indicates if the item is included in the order.\\n- Award: Indicates if the item has been awarded.\\n- Truthful Cost Data Applies: Indicates if truthful cost data applies to the item.\\n', mimetype='text/plain', start_char_idx=1011, end_char_idx=1562, metadata_seperator='\\n', text_template='{metadata_str}\\n\\n{content}', index_id='b2733551-7cb0-4885-9b56-c6d2038a94e0', obj=TextNode(id_='b2733551-7cb0-4885-9b56-c6d2038a94e0', embedding=None, metadata={'table_df': \"{'Part Number': {0: '3-300-952-01', 1: '3-300-634-04', 2: '3-300-627-08', 3: '3-300-628-07', 4: '3-170-930-01'}, 'Description': {0: 'HARNESS ASSY, ELECT', 1: 'HARNESS ACCESS ELEC', 2: 'HARNESS ASSY, FUEL CONTROL, ELECTRICAL', 3: 'HARNESS ASSY, SPD Pl', 4: 'STRAP,GROUND,ASSYOF'}, 'Lead Time': {0: 180, 1: 180, 2: 180, 3: 180, 4: 60}, 'Capacity': {0: 100, 1: 100, 2: 100, 3: 100, 4: 200}, 'Quantity': {0: 658, 1: 567, 2: 543, 3: 465, 4: 515}, 'Unit Price': {0: '$ 690.00', 1: '$ 775.00', 2: '$ 990.00', 3: '$ 300.00', 4: '$ 38.00'}, 'Extended Price': {0: '$ 454,020.00', 1: '$ 439,425.00', 2: '$ 537,570.00', 3: '$ 139,500.00', 4: '$ 19,570.00'}, 'Item': {0: 'y', 1: 'y', 2: 'y', 3: 'y', 4: 'y'}, 'Award': {0: 'y', 1: 'y', 2: 'y', 3: 'y', 4: 'y'}, 'Truthful Cost Data Applies': {0: 'N', 1: 'N', 2: 'N', 3: 'N', 4: 'N'}}\", 'table_summary': 'This table provides details on various electrical harness assemblies and related components, including their part numbers, descriptions, lead times, capacities, quantities, unit prices, extended prices, and other relevant information.,\\nwith the following columns:\\n- Part Number: Unique identifier for each part.\\n- Description: Brief description of the part.\\n- Lead Time: Time required to deliver the part (in days).\\n- Capacity: Maximum production capacity for the part.\\n- Quantity: Number of units ordered.\\n- Unit Price: Price per unit of the part.\\n- Extended Price: Total price for the ordered quantity.\\n- Item: Indicates if the item is included in the order.\\n- Award: Indicates if the item has been awarded.\\n- Truthful Cost Data Applies: Indicates if truthful cost data applies to the item.\\n'}, excluded_embed_metadata_keys=['table_df', 'table_summary'], excluded_llm_metadata_keys=['table_df', 'table_summary'], relationships={<NodeRelationship.SOURCE: '1'>: RelatedNodeInfo(node_id='81712357-e13c-4c62-ad55-9822c9c5d2cc', node_type=<ObjectType.DOCUMENT: '4'>, metadata={}, hash='41715536b461b5d349b7600ef07caeeae2309f261f45cbf8599f05ba8ddfb11e'), <NodeRelationship.PREVIOUS: '2'>: RelatedNodeInfo(node_id='a6e619fc-c85f-4d2b-b4e5-a1976f176ff5', node_type=<ObjectType.INDEX: '3'>, metadata={'col_schema': 'Column: Part Number\\nType: string\\nSummary: Unique identifier for each part.\\n\\nColumn: Description\\nType: string\\nSummary: Brief description of the part.\\n\\nColumn: Lead Time\\nType: integer\\nSummary: Time required to deliver the part (in days).\\n\\nColumn: Capacity\\nType: integer\\nSummary: Maximum production capacity for the part.\\n\\nColumn: Quantity\\nType: integer\\nSummary: Number of units ordered.\\n\\nColumn: Unit Price\\nType: string\\nSummary: Price per unit of the part.\\n\\nColumn: Extended Price\\nType: string\\nSummary: Total price for the ordered quantity.\\n\\nColumn: Item\\nType: string\\nSummary: Indicates if the item is included in the order.\\n\\nColumn: Award\\nType: string\\nSummary: Indicates if the item has been awarded.\\n\\nColumn: Truthful Cost Data Applies\\nType: string\\nSummary: Indicates if truthful cost data applies to the item.'}, hash='68328248e77cb9af858d443ec4d4c17d6beaf2ac9d9a7473f45a80073302ce2f'), <NodeRelationship.NEXT: '3'>: RelatedNodeInfo(node_id='8b6f9136-fe47-4b2a-94d8-e422e6c205a8', node_type=<ObjectType.TEXT: '1'>, metadata={}, hash='03dff196ae987d813140702b0390b88c7ce11c5f1a95b6a3fd4b50fcb79693a4')}, metadata_template='{key}: {value}', metadata_separator='\\n', text='This table provides details on various electrical harness assemblies and related components, including their part numbers, descriptions, lead times, capacities, quantities, unit prices, extended prices, and other relevant information.,\\nwith the following columns:\\n- Part Number: Unique identifier for each part.\\n- Description: Brief description of the part.\\n- Lead Time: Time required to deliver the part (in days).\\n- Capacity: Maximum production capacity for the part.\\n- Quantity: Number of units ordered.\\n- Unit Price: Price per unit of the part.\\n- Extended Price: Total price for the ordered quantity.\\n- Item: Indicates if the item is included in the order.\\n- Award: Indicates if the item has been awarded.\\n- Truthful Cost Data Applies: Indicates if truthful cost data applies to the item.\\n\\n|Part Number|Description|Lead Time|Capacity|Quantity|Unit Price|Extended Price|Item|Award|Truthful Cost Data Applies|\\n|---|---|---|---|---|---|---|---|---|---|\\n|3-300-952-01|HARNESS ASSY, ELECT|180|100|658|$ 690.00|$ 454,020.00|y|y|N|\\n|3-300-634-04|HARNESS ACCESS ELEC|180|100|567|$ 775.00|$ 439,425.00|y|y|N|\\n|3-300-627-08|HARNESS ASSY, FUEL CONTROL, ELECTRICAL|180|100|543|$ 990.00|$ 537,570.00|y|y|N|\\n|3-300-628-07|HARNESS ASSY, SPD Pl|180|100|465|$ 300.00|$ 139,500.00|y|y|N|\\n|3-170-930-01|STRAP,GROUND,ASSYOF|60|200|515|$ 38.00|$ 19,570.00|y|y|N|\\n', mimetype='text/plain', start_char_idx=1011, end_char_idx=1562, metadata_seperator='\\n', text_template='{metadata_str}\\n\\n{content}')), IndexNode(id_='1feadb61-fcde-4f7e-9fb8-db3d0e82efc8', embedding=None, metadata={'col_schema': 'Column: Part Number\\nType: string\\nSummary: Unique identifier for each item.\\n\\nColumn: Description\\nType: string\\nSummary: Brief description of each item.\\n\\nColumn: Lead Time\\nType: integer\\nSummary: Time required to deliver the item (in days).\\n\\nColumn: Capacity\\nType: integer\\nSummary: Maximum production capacity for the item.\\n\\nColumn: Quantity\\nType: integer\\nSummary: Number of units ordered.\\n\\nColumn: Unit Price\\nType: string\\nSummary: Price per unit of the item.\\n\\nColumn: Extended Price\\nType: string\\nSummary: Total price for the ordered quantity.\\n\\nColumn: Item\\nType: string\\nSummary: Indicates if the item is included in the order.\\n\\nColumn: Award\\nType: string\\nSummary: Indicates if the item has been awarded.\\n\\nColumn: Truthful Cost Data Applies\\nType: string\\nSummary: Indicates if truthful cost data applies to the item.'}, excluded_embed_metadata_keys=['col_schema'], excluded_llm_metadata_keys=[], relationships={<NodeRelationship.SOURCE: '1'>: RelatedNodeInfo(node_id='81712357-e13c-4c62-ad55-9822c9c5d2cc', node_type=<ObjectType.DOCUMENT: '4'>, metadata={}, hash='41715536b461b5d349b7600ef07caeeae2309f261f45cbf8599f05ba8ddfb11e'), <NodeRelationship.PREVIOUS: '2'>: RelatedNodeInfo(node_id='8b6f9136-fe47-4b2a-94d8-e422e6c205a8', node_type=<ObjectType.TEXT: '1'>, metadata={}, hash='03dff196ae987d813140702b0390b88c7ce11c5f1a95b6a3fd4b50fcb79693a4'), <NodeRelationship.NEXT: '3'>: RelatedNodeInfo(node_id='ddc50c72-5f43-4ef3-9a81-fd24b90a38c8', node_type=<ObjectType.TEXT: '1'>, metadata={'table_df': \"{'Part Number': {0: '3-300-952-01', 1: '3-300-634-04', 2: '3-300-627-08', 3: '3-300-628-07', 4: '3-170-930-01'}, 'Description': {0: 'HARNESS ASSY, ELECT', 1: 'HARNESS ACCESS ELEC', 2: 'HARNESS ASSY, FUEL CONTROL, ELECTRICAL', 3: 'HARNESS ASSY, SPD Pl', 4: 'STRAP,GROUND,ASSYOF'}, 'Lead Time': {0: 180, 1: 180, 2: 180, 3: 180, 4: 60}, 'Capacity': {0: 100, 1: 100, 2: 100, 3: 100, 4: 200}, 'Quantity': {0: 640, 1: 551, 2: 562, 3: 447, 4: 496}, 'Unit Price': {0: '$ 690.00', 1: '$ 775.00', 2: '$ 990.00', 3: '$ 300.00', 4: '$ 38.00'}, 'Extended Price': {0: '$ 441,600.00', 1: '$ 427,025.00', 2: '$ 556,380.00', 3: '$ 134,100.00', 4: '$ 18,848.00'}, 'Item': {0: 'y', 1: 'y', 2: 'y', 3: 'y', 4: 'y'}, 'Award': {0: 'y', 1: 'y', 2: 'y', 3: 'y', 4: 'y'}, 'Truthful Cost Data Applies': {0: 'N', 1: 'N', 2: 'N', 3: 'N', 4: 'N'}}\", 'table_summary': 'This table lists various electrical harness assemblies and related components, including their part numbers, descriptions, lead times, capacities, quantities, unit prices, and extended prices. It also indicates whether each item is awarded and if truthful cost data applies.,\\nwith the following columns:\\n- Part Number: Unique identifier for each item.\\n- Description: Brief description of each item.\\n- Lead Time: Time required to deliver the item (in days).\\n- Capacity: Maximum production capacity for the item.\\n- Quantity: Number of units ordered.\\n- Unit Price: Price per unit of the item.\\n- Extended Price: Total price for the ordered quantity.\\n- Item: Indicates if the item is included in the order.\\n- Award: Indicates if the item has been awarded.\\n- Truthful Cost Data Applies: Indicates if truthful cost data applies to the item.\\n'}, hash='36317e4fb8e7038dab8e1f2d8ee5a03de1c2d9a59a1286244a7f5628119a581c')}, metadata_template='{key}: {value}', metadata_separator='\\n', text='This table lists various electrical harness assemblies and related components, including their part numbers, descriptions, lead times, capacities, quantities, unit prices, and extended prices. It also indicates whether each item is awarded and if truthful cost data applies.,\\nwith the following columns:\\n- Part Number: Unique identifier for each item.\\n- Description: Brief description of each item.\\n- Lead Time: Time required to deliver the item (in days).\\n- Capacity: Maximum production capacity for the item.\\n- Quantity: Number of units ordered.\\n- Unit Price: Price per unit of the item.\\n- Extended Price: Total price for the ordered quantity.\\n- Item: Indicates if the item is included in the order.\\n- Award: Indicates if the item has been awarded.\\n- Truthful Cost Data Applies: Indicates if truthful cost data applies to the item.\\n', mimetype='text/plain', start_char_idx=1682, end_char_idx=2233, metadata_seperator='\\n', text_template='{metadata_str}\\n\\n{content}', index_id='ddc50c72-5f43-4ef3-9a81-fd24b90a38c8', obj=TextNode(id_='ddc50c72-5f43-4ef3-9a81-fd24b90a38c8', embedding=None, metadata={'table_df': \"{'Part Number': {0: '3-300-952-01', 1: '3-300-634-04', 2: '3-300-627-08', 3: '3-300-628-07', 4: '3-170-930-01'}, 'Description': {0: 'HARNESS ASSY, ELECT', 1: 'HARNESS ACCESS ELEC', 2: 'HARNESS ASSY, FUEL CONTROL, ELECTRICAL', 3: 'HARNESS ASSY, SPD Pl', 4: 'STRAP,GROUND,ASSYOF'}, 'Lead Time': {0: 180, 1: 180, 2: 180, 3: 180, 4: 60}, 'Capacity': {0: 100, 1: 100, 2: 100, 3: 100, 4: 200}, 'Quantity': {0: 640, 1: 551, 2: 562, 3: 447, 4: 496}, 'Unit Price': {0: '$ 690.00', 1: '$ 775.00', 2: '$ 990.00', 3: '$ 300.00', 4: '$ 38.00'}, 'Extended Price': {0: '$ 441,600.00', 1: '$ 427,025.00', 2: '$ 556,380.00', 3: '$ 134,100.00', 4: '$ 18,848.00'}, 'Item': {0: 'y', 1: 'y', 2: 'y', 3: 'y', 4: 'y'}, 'Award': {0: 'y', 1: 'y', 2: 'y', 3: 'y', 4: 'y'}, 'Truthful Cost Data Applies': {0: 'N', 1: 'N', 2: 'N', 3: 'N', 4: 'N'}}\", 'table_summary': 'This table lists various electrical harness assemblies and related components, including their part numbers, descriptions, lead times, capacities, quantities, unit prices, and extended prices. It also indicates whether each item is awarded and if truthful cost data applies.,\\nwith the following columns:\\n- Part Number: Unique identifier for each item.\\n- Description: Brief description of each item.\\n- Lead Time: Time required to deliver the item (in days).\\n- Capacity: Maximum production capacity for the item.\\n- Quantity: Number of units ordered.\\n- Unit Price: Price per unit of the item.\\n- Extended Price: Total price for the ordered quantity.\\n- Item: Indicates if the item is included in the order.\\n- Award: Indicates if the item has been awarded.\\n- Truthful Cost Data Applies: Indicates if truthful cost data applies to the item.\\n'}, excluded_embed_metadata_keys=['table_df', 'table_summary'], excluded_llm_metadata_keys=['table_df', 'table_summary'], relationships={<NodeRelationship.SOURCE: '1'>: RelatedNodeInfo(node_id='81712357-e13c-4c62-ad55-9822c9c5d2cc', node_type=<ObjectType.DOCUMENT: '4'>, metadata={}, hash='41715536b461b5d349b7600ef07caeeae2309f261f45cbf8599f05ba8ddfb11e'), <NodeRelationship.PREVIOUS: '2'>: RelatedNodeInfo(node_id='1feadb61-fcde-4f7e-9fb8-db3d0e82efc8', node_type=<ObjectType.INDEX: '3'>, metadata={'col_schema': 'Column: Part Number\\nType: string\\nSummary: Unique identifier for each item.\\n\\nColumn: Description\\nType: string\\nSummary: Brief description of each item.\\n\\nColumn: Lead Time\\nType: integer\\nSummary: Time required to deliver the item (in days).\\n\\nColumn: Capacity\\nType: integer\\nSummary: Maximum production capacity for the item.\\n\\nColumn: Quantity\\nType: integer\\nSummary: Number of units ordered.\\n\\nColumn: Unit Price\\nType: string\\nSummary: Price per unit of the item.\\n\\nColumn: Extended Price\\nType: string\\nSummary: Total price for the ordered quantity.\\n\\nColumn: Item\\nType: string\\nSummary: Indicates if the item is included in the order.\\n\\nColumn: Award\\nType: string\\nSummary: Indicates if the item has been awarded.\\n\\nColumn: Truthful Cost Data Applies\\nType: string\\nSummary: Indicates if truthful cost data applies to the item.'}, hash='4ae0c12c5f420e7c8d53e8b63e544b7bbc51d4db0ed52cd1bff66a8c3f9a8591'), <NodeRelationship.NEXT: '3'>: RelatedNodeInfo(node_id='feccfb03-1b35-48c6-84e5-619db04a4885', node_type=<ObjectType.TEXT: '1'>, metadata={}, hash='b488640c5d3a748686f3e5ac752bd2551f2c4638c7cf3c26442af1827bc0dd63')}, metadata_template='{key}: {value}', metadata_separator='\\n', text='This table lists various electrical harness assemblies and related components, including their part numbers, descriptions, lead times, capacities, quantities, unit prices, and extended prices. It also indicates whether each item is awarded and if truthful cost data applies.,\\nwith the following columns:\\n- Part Number: Unique identifier for each item.\\n- Description: Brief description of each item.\\n- Lead Time: Time required to deliver the item (in days).\\n- Capacity: Maximum production capacity for the item.\\n- Quantity: Number of units ordered.\\n- Unit Price: Price per unit of the item.\\n- Extended Price: Total price for the ordered quantity.\\n- Item: Indicates if the item is included in the order.\\n- Award: Indicates if the item has been awarded.\\n- Truthful Cost Data Applies: Indicates if truthful cost data applies to the item.\\n\\n|Part Number|Description|Lead Time|Capacity|Quantity|Unit Price|Extended Price|Item|Award|Truthful Cost Data Applies|\\n|---|---|---|---|---|---|---|---|---|---|\\n|3-300-952-01|HARNESS ASSY, ELECT|180|100|640|$ 690.00|$ 441,600.00|y|y|N|\\n|3-300-634-04|HARNESS ACCESS ELEC|180|100|551|$ 775.00|$ 427,025.00|y|y|N|\\n|3-300-627-08|HARNESS ASSY, FUEL CONTROL, ELECTRICAL|180|100|562|$ 990.00|$ 556,380.00|y|y|N|\\n|3-300-628-07|HARNESS ASSY, SPD Pl|180|100|447|$ 300.00|$ 134,100.00|y|y|N|\\n|3-170-930-01|STRAP,GROUND,ASSYOF|60|200|496|$ 38.00|$ 18,848.00|y|y|N|\\n', mimetype='text/plain', start_char_idx=1682, end_char_idx=2233, metadata_seperator='\\n', text_template='{metadata_str}\\n\\n{content}')), IndexNode(id_='cfbc4225-d1e3-4d96-827b-d22e054a44ed', embedding=None, metadata={'col_schema': 'Column: Part Number\\nType: string\\nSummary: Unique identifier for each harness assembly.\\n\\nColumn: Description\\nType: string\\nSummary: Description of the harness assembly.\\n\\nColumn: Lead Time\\nType: integer\\nSummary: Time required to deliver the harness assembly (in days).\\n\\nColumn: Capacity\\nType: integer\\nSummary: Production capacity for the harness assembly.\\n\\nColumn: Quantity\\nType: integer\\nSummary: Number of units ordered.\\n\\nColumn: Unit Price\\nType: string\\nSummary: Price per unit of the harness assembly.\\n\\nColumn: Extended Price\\nType: string\\nSummary: Total price for the ordered quantity.\\n\\nColumn: Item\\nType: string\\nSummary: Indicates if the item is included in the order.\\n\\nColumn: Award\\nType: string\\nSummary: Indicates if the item has been awarded.\\n\\nColumn: Truthful Cost Data Applies\\nType: string\\nSummary: Indicates if truthful cost data applies to the item.'}, excluded_embed_metadata_keys=['col_schema'], excluded_llm_metadata_keys=[], relationships={<NodeRelationship.SOURCE: '1'>: RelatedNodeInfo(node_id='81712357-e13c-4c62-ad55-9822c9c5d2cc', node_type=<ObjectType.DOCUMENT: '4'>, metadata={}, hash='41715536b461b5d349b7600ef07caeeae2309f261f45cbf8599f05ba8ddfb11e'), <NodeRelationship.PREVIOUS: '2'>: RelatedNodeInfo(node_id='feccfb03-1b35-48c6-84e5-619db04a4885', node_type=<ObjectType.TEXT: '1'>, metadata={}, hash='b488640c5d3a748686f3e5ac752bd2551f2c4638c7cf3c26442af1827bc0dd63'), <NodeRelationship.NEXT: '3'>: RelatedNodeInfo(node_id='45c96494-2e12-4bde-827c-6020df4d5edf', node_type=<ObjectType.TEXT: '1'>, metadata={'table_df': \"{'Part Number': {0: '3-300-952-01', 1: '3-300-634-04', 2: '3-300-627-08', 3: '3-300-628-07', 4: '3-170-930-01'}, 'Description': {0: 'HARNESS ASSY, ELECT', 1: 'HARNESS ACCESS ELEC', 2: 'HARNESS ASSY, FUEL CONTROL, ELECTRICAL', 3: 'HARNESS ASSY, SPD Pl', 4: 'STRAP,GROUND,ASSYOF'}, 'Lead Time': {0: 180, 1: 180, 2: 180, 3: 180, 4: 60}, 'Capacity': {0: 100, 1: 100, 2: 100, 3: 100, 4: 200}, 'Quantity': {0: 624, 1: 540, 2: 547, 3: 403, 4: 475}, 'Unit Price': {0: '$ 690.00', 1: '$ 775.00', 2: '$ 990.00', 3: '$ 300.00', 4: '$ 38.00'}, 'Extended Price': {0: '$ 430,560.00', 1: '$ 418,500.00', 2: '$ 541,530.00', 3: '$ 120,900.00', 4: '$ 18,050.00'}, 'Item': {0: 'y', 1: 'y', 2: 'y', 3: 'y', 4: 'y'}, 'Award': {0: 'y', 1: 'y', 2: 'y', 3: 'y', 4: 'y'}, 'Truthful Cost Data Applies': {0: 'N', 1: 'N', 2: 'N', 3: 'N', 4: 'N'}}\", 'table_summary': 'This table provides details about various electrical harness assemblies, including their part numbers, descriptions, lead times, capacities, quantities, unit prices, extended prices, and other relevant information.,\\nwith the following columns:\\n- Part Number: Unique identifier for each harness assembly.\\n- Description: Description of the harness assembly.\\n- Lead Time: Time required to deliver the harness assembly (in days).\\n- Capacity: Production capacity for the harness assembly.\\n- Quantity: Number of units ordered.\\n- Unit Price: Price per unit of the harness assembly.\\n- Extended Price: Total price for the ordered quantity.\\n- Item: Indicates if the item is included in the order.\\n- Award: Indicates if the item has been awarded.\\n- Truthful Cost Data Applies: Indicates if truthful cost data applies to the item.\\n'}, hash='dd0129933046554a3d15366ed12e8b644ebaa583202bde33b9a3056366e74965')}, metadata_template='{key}: {value}', metadata_separator='\\n', text='This table provides details about various electrical harness assemblies, including their part numbers, descriptions, lead times, capacities, quantities, unit prices, extended prices, and other relevant information.,\\nwith the following columns:\\n- Part Number: Unique identifier for each harness assembly.\\n- Description: Description of the harness assembly.\\n- Lead Time: Time required to deliver the harness assembly (in days).\\n- Capacity: Production capacity for the harness assembly.\\n- Quantity: Number of units ordered.\\n- Unit Price: Price per unit of the harness assembly.\\n- Extended Price: Total price for the ordered quantity.\\n- Item: Indicates if the item is included in the order.\\n- Award: Indicates if the item has been awarded.\\n- Truthful Cost Data Applies: Indicates if truthful cost data applies to the item.\\n', mimetype='text/plain', start_char_idx=2353, end_char_idx=2904, metadata_seperator='\\n', text_template='{metadata_str}\\n\\n{content}', index_id='45c96494-2e12-4bde-827c-6020df4d5edf', obj=TextNode(id_='45c96494-2e12-4bde-827c-6020df4d5edf', embedding=None, metadata={'table_df': \"{'Part Number': {0: '3-300-952-01', 1: '3-300-634-04', 2: '3-300-627-08', 3: '3-300-628-07', 4: '3-170-930-01'}, 'Description': {0: 'HARNESS ASSY, ELECT', 1: 'HARNESS ACCESS ELEC', 2: 'HARNESS ASSY, FUEL CONTROL, ELECTRICAL', 3: 'HARNESS ASSY, SPD Pl', 4: 'STRAP,GROUND,ASSYOF'}, 'Lead Time': {0: 180, 1: 180, 2: 180, 3: 180, 4: 60}, 'Capacity': {0: 100, 1: 100, 2: 100, 3: 100, 4: 200}, 'Quantity': {0: 624, 1: 540, 2: 547, 3: 403, 4: 475}, 'Unit Price': {0: '$ 690.00', 1: '$ 775.00', 2: '$ 990.00', 3: '$ 300.00', 4: '$ 38.00'}, 'Extended Price': {0: '$ 430,560.00', 1: '$ 418,500.00', 2: '$ 541,530.00', 3: '$ 120,900.00', 4: '$ 18,050.00'}, 'Item': {0: 'y', 1: 'y', 2: 'y', 3: 'y', 4: 'y'}, 'Award': {0: 'y', 1: 'y', 2: 'y', 3: 'y', 4: 'y'}, 'Truthful Cost Data Applies': {0: 'N', 1: 'N', 2: 'N', 3: 'N', 4: 'N'}}\", 'table_summary': 'This table provides details about various electrical harness assemblies, including their part numbers, descriptions, lead times, capacities, quantities, unit prices, extended prices, and other relevant information.,\\nwith the following columns:\\n- Part Number: Unique identifier for each harness assembly.\\n- Description: Description of the harness assembly.\\n- Lead Time: Time required to deliver the harness assembly (in days).\\n- Capacity: Production capacity for the harness assembly.\\n- Quantity: Number of units ordered.\\n- Unit Price: Price per unit of the harness assembly.\\n- Extended Price: Total price for the ordered quantity.\\n- Item: Indicates if the item is included in the order.\\n- Award: Indicates if the item has been awarded.\\n- Truthful Cost Data Applies: Indicates if truthful cost data applies to the item.\\n'}, excluded_embed_metadata_keys=['table_df', 'table_summary'], excluded_llm_metadata_keys=['table_df', 'table_summary'], relationships={<NodeRelationship.SOURCE: '1'>: RelatedNodeInfo(node_id='81712357-e13c-4c62-ad55-9822c9c5d2cc', node_type=<ObjectType.DOCUMENT: '4'>, metadata={}, hash='41715536b461b5d349b7600ef07caeeae2309f261f45cbf8599f05ba8ddfb11e'), <NodeRelationship.PREVIOUS: '2'>: RelatedNodeInfo(node_id='cfbc4225-d1e3-4d96-827b-d22e054a44ed', node_type=<ObjectType.INDEX: '3'>, metadata={'col_schema': 'Column: Part Number\\nType: string\\nSummary: Unique identifier for each harness assembly.\\n\\nColumn: Description\\nType: string\\nSummary: Description of the harness assembly.\\n\\nColumn: Lead Time\\nType: integer\\nSummary: Time required to deliver the harness assembly (in days).\\n\\nColumn: Capacity\\nType: integer\\nSummary: Production capacity for the harness assembly.\\n\\nColumn: Quantity\\nType: integer\\nSummary: Number of units ordered.\\n\\nColumn: Unit Price\\nType: string\\nSummary: Price per unit of the harness assembly.\\n\\nColumn: Extended Price\\nType: string\\nSummary: Total price for the ordered quantity.\\n\\nColumn: Item\\nType: string\\nSummary: Indicates if the item is included in the order.\\n\\nColumn: Award\\nType: string\\nSummary: Indicates if the item has been awarded.\\n\\nColumn: Truthful Cost Data Applies\\nType: string\\nSummary: Indicates if truthful cost data applies to the item.'}, hash='347ab7a86d6d8dc124ebf7c67379a399f485174efcc088fc36ffb2e743463329')}, metadata_template='{key}: {value}', metadata_separator='\\n', text='This table provides details about various electrical harness assemblies, including their part numbers, descriptions, lead times, capacities, quantities, unit prices, extended prices, and other relevant information.,\\nwith the following columns:\\n- Part Number: Unique identifier for each harness assembly.\\n- Description: Description of the harness assembly.\\n- Lead Time: Time required to deliver the harness assembly (in days).\\n- Capacity: Production capacity for the harness assembly.\\n- Quantity: Number of units ordered.\\n- Unit Price: Price per unit of the harness assembly.\\n- Extended Price: Total price for the ordered quantity.\\n- Item: Indicates if the item is included in the order.\\n- Award: Indicates if the item has been awarded.\\n- Truthful Cost Data Applies: Indicates if truthful cost data applies to the item.\\n\\n|Part Number|Description|Lead Time|Capacity|Quantity|Unit Price|Extended Price|Item|Award|Truthful Cost Data Applies|\\n|---|---|---|---|---|---|---|---|---|---|\\n|3-300-952-01|HARNESS ASSY, ELECT|180|100|624|$ 690.00|$ 430,560.00|y|y|N|\\n|3-300-634-04|HARNESS ACCESS ELEC|180|100|540|$ 775.00|$ 418,500.00|y|y|N|\\n|3-300-627-08|HARNESS ASSY, FUEL CONTROL, ELECTRICAL|180|100|547|$ 990.00|$ 541,530.00|y|y|N|\\n|3-300-628-07|HARNESS ASSY, SPD Pl|180|100|403|$ 300.00|$ 120,900.00|y|y|N|\\n|3-170-930-01|STRAP,GROUND,ASSYOF|60|200|475|$ 38.00|$ 18,050.00|y|y|N|\\n', mimetype='text/plain', start_char_idx=2353, end_char_idx=2904, metadata_seperator='\\n', text_template='{metadata_str}\\n\\n{content}'))]\n"
          ]
        }
      ]
    },
    {
      "cell_type": "code",
      "execution_count": null,
      "metadata": {
        "id": "BedShue11eYZ",
        "colab": {
          "base_uri": "https://localhost:8080/"
        },
        "outputId": "f5f276bd-66ee-4d4a-956c-cbe0880f8892"
      },
      "outputs": [
        {
          "output_type": "stream",
          "name": "stdout",
          "text": [
            "This table provides details about various electrical harness assemblies, including their part numbers, descriptions, lead times, capacities, quantities, unit prices, extended prices, and other relevant information.,\n",
            "with the following columns:\n",
            "- Part Number: Unique identifier for each harness assembly.\n",
            "- Description: Description of the harness assembly.\n",
            "- Lead Time: Time required to deliver the harness assembly (in days).\n",
            "- Capacity: Production capacity for the harness assembly.\n",
            "- Quantity: Number of units ordered.\n",
            "- Unit Price: Price per unit of the harness assembly.\n",
            "- Extended Price: Total price for the ordered quantity.\n",
            "- Item: Indicates if the item is included in the order.\n",
            "- Award: Indicates if the item has been awarded.\n",
            "- Truthful Cost Data Applies: Indicates if truthful cost data applies to the item.\n",
            "\n",
            "|Part Number|Description|Lead Time|Capacity|Quantity|Unit Price|Extended Price|Item|Award|Truthful Cost Data Applies|\n",
            "|---|---|---|---|---|---|---|---|---|---|\n",
            "|3-300-952-01|HARNESS ASSY, ELECT|180|100|624|$ 690.00|$ 430,560.00|y|y|N|\n",
            "|3-300-634-04|HARNESS ACCESS ELEC|180|100|540|$ 775.00|$ 418,500.00|y|y|N|\n",
            "|3-300-627-08|HARNESS ASSY, FUEL CONTROL, ELECTRICAL|180|100|547|$ 990.00|$ 541,530.00|y|y|N|\n",
            "|3-300-628-07|HARNESS ASSY, SPD Pl|180|100|403|$ 300.00|$ 120,900.00|y|y|N|\n",
            "|3-170-930-01|STRAP,GROUND,ASSYOF|60|200|475|$ 38.00|$ 18,050.00|y|y|N|\n",
            "\n"
          ]
        }
      ],
      "source": [
        "print(objects[3].obj.text[:])"
      ]
    },
    {
      "cell_type": "markdown",
      "metadata": {
        "id": "U4HTNkJgnyxq"
      },
      "source": [
        "## 9. Create the RAG Pipeline with LlamaIndex and KDB.AI\n",
        "\n",
        "Use KDB.AI as the vector store, insert base_nodes and objects into KDB.AI, create query_engine using Cohere for reranking."
      ]
    },
    {
      "cell_type": "code",
      "execution_count": null,
      "metadata": {
        "id": "J_iNgbTetM2h"
      },
      "outputs": [],
      "source": [
        "vector_store = KDBAIVectorStore(table)\n",
        "storage_context = StorageContext.from_defaults(vector_store=vector_store)"
      ]
    },
    {
      "cell_type": "code",
      "execution_count": null,
      "metadata": {
        "id": "-JNmVlkhynG5"
      },
      "outputs": [],
      "source": [
        "#Create the index, inserts base_nodes and objects into KDB.AI\n",
        "recursive_index = VectorStoreIndex(\n",
        "    nodes= base_nodes + objects, storage_context=storage_context\n",
        "    #,store_nodes_override=FALSE\n",
        ")"
      ]
    },
    {
      "cell_type": "code",
      "execution_count": null,
      "metadata": {
        "id": "CUUN9cQy413y",
        "colab": {
          "base_uri": "https://localhost:8080/",
          "height": 1513
        },
        "outputId": "8a19750c-71b2-49ec-e1b5-19b8eeb83ee4"
      },
      "outputs": [
        {
          "output_type": "execute_result",
          "data": {
            "text/plain": [
              "                                document_id  \\\n",
              "0   b'14d6d0f5-e1fc-4963-937a-95e5fbbc50de'   \n",
              "1   b'a0d4464a-af0f-4630-8bba-fcd52d7ff9d4'   \n",
              "2   b'58731308-d45b-4f79-94cb-cb04864af76d'   \n",
              "3   b'b3b02b06-96a7-4575-a897-2297ce66e8db'   \n",
              "4   b'7b063cbd-6aea-4123-8143-085620e43062'   \n",
              "5   b'8b6f9136-fe47-4b2a-94d8-e422e6c205a8'   \n",
              "6   b'feccfb03-1b35-48c6-84e5-619db04a4885'   \n",
              "7   b'219050ab-c33c-4f3a-81fb-c2dfee830252'   \n",
              "8   b'a6e619fc-c85f-4d2b-b4e5-a1976f176ff5'   \n",
              "9   b'1feadb61-fcde-4f7e-9fb8-db3d0e82efc8'   \n",
              "10  b'cfbc4225-d1e3-4d96-827b-d22e054a44ed'   \n",
              "\n",
              "                                                 text  \\\n",
              "0   b'Honeywell\\n\\n THE POWER OF CONNECTED\\n\\n STA...   \n",
              "1   b'Honeywell AEROSPACE SOURCING\\n\\n THE POWER O...   \n",
              "2   b'\"Military End Uses\" includes use of an item ...   \n",
              "3   b'Honeywell AEROSPACE SOURCING\\n\\n THE POWER O...   \n",
              "4   b'Option Year 1 (October 1, 2022 - September 3...   \n",
              "5   b'Option Year 2 (October 1, 2023 - September 3...   \n",
              "6   b'Option Year 3 (October 1, 2024 - September 3...   \n",
              "7   b'This table lists various electrical harness ...   \n",
              "8   b'This table provides details on various elect...   \n",
              "9   b'This table lists various electrical harness ...   \n",
              "10  b'This table provides details about various el...   \n",
              "\n",
              "                                           embeddings  \n",
              "0   [-0.045199413, -0.054903533, 0.044602636, 0.02...  \n",
              "1   [-0.03446311, -0.010401975, 0.079065524, 0.019...  \n",
              "2   [-0.0020543735, 0.035638258, 0.07917821, 0.022...  \n",
              "3   [-0.020578463, -0.029511936, 0.086429544, -0.0...  \n",
              "4   [-0.043066006, 0.040384337, 0.04064985, 0.0292...  \n",
              "5   [-0.038107604, 0.04094315, 0.036888584, 0.0136...  \n",
              "6   [-0.043578796, 0.045119997, 0.04349908, 0.0172...  \n",
              "7   [-0.06300706, -0.02227639, 0.023460347, 0.0037...  \n",
              "8   [-0.05525397, -0.024775168, 0.023196483, 0.006...  \n",
              "9   [-0.06369985, -0.020310473, 0.01768434, -0.000...  \n",
              "10  [-0.049565677, -0.013018995, 0.028791638, 5.31...  "
            ],
            "text/html": [
              "\n",
              "  <div id=\"df-c3d07e12-ffcb-44f3-ac43-dab05bfd007d\" class=\"colab-df-container\">\n",
              "    <div>\n",
              "<style scoped>\n",
              "    .dataframe tbody tr th:only-of-type {\n",
              "        vertical-align: middle;\n",
              "    }\n",
              "\n",
              "    .dataframe tbody tr th {\n",
              "        vertical-align: top;\n",
              "    }\n",
              "\n",
              "    .dataframe thead th {\n",
              "        text-align: right;\n",
              "    }\n",
              "</style>\n",
              "<table border=\"1\" class=\"dataframe\">\n",
              "  <thead>\n",
              "    <tr style=\"text-align: right;\">\n",
              "      <th></th>\n",
              "      <th>document_id</th>\n",
              "      <th>text</th>\n",
              "      <th>embeddings</th>\n",
              "    </tr>\n",
              "  </thead>\n",
              "  <tbody>\n",
              "    <tr>\n",
              "      <th>0</th>\n",
              "      <td>b'14d6d0f5-e1fc-4963-937a-95e5fbbc50de'</td>\n",
              "      <td>b'Honeywell\\n\\n THE POWER OF CONNECTED\\n\\n STA...</td>\n",
              "      <td>[-0.045199413, -0.054903533, 0.044602636, 0.02...</td>\n",
              "    </tr>\n",
              "    <tr>\n",
              "      <th>1</th>\n",
              "      <td>b'a0d4464a-af0f-4630-8bba-fcd52d7ff9d4'</td>\n",
              "      <td>b'Honeywell AEROSPACE SOURCING\\n\\n THE POWER O...</td>\n",
              "      <td>[-0.03446311, -0.010401975, 0.079065524, 0.019...</td>\n",
              "    </tr>\n",
              "    <tr>\n",
              "      <th>2</th>\n",
              "      <td>b'58731308-d45b-4f79-94cb-cb04864af76d'</td>\n",
              "      <td>b'\"Military End Uses\" includes use of an item ...</td>\n",
              "      <td>[-0.0020543735, 0.035638258, 0.07917821, 0.022...</td>\n",
              "    </tr>\n",
              "    <tr>\n",
              "      <th>3</th>\n",
              "      <td>b'b3b02b06-96a7-4575-a897-2297ce66e8db'</td>\n",
              "      <td>b'Honeywell AEROSPACE SOURCING\\n\\n THE POWER O...</td>\n",
              "      <td>[-0.020578463, -0.029511936, 0.086429544, -0.0...</td>\n",
              "    </tr>\n",
              "    <tr>\n",
              "      <th>4</th>\n",
              "      <td>b'7b063cbd-6aea-4123-8143-085620e43062'</td>\n",
              "      <td>b'Option Year 1 (October 1, 2022 - September 3...</td>\n",
              "      <td>[-0.043066006, 0.040384337, 0.04064985, 0.0292...</td>\n",
              "    </tr>\n",
              "    <tr>\n",
              "      <th>5</th>\n",
              "      <td>b'8b6f9136-fe47-4b2a-94d8-e422e6c205a8'</td>\n",
              "      <td>b'Option Year 2 (October 1, 2023 - September 3...</td>\n",
              "      <td>[-0.038107604, 0.04094315, 0.036888584, 0.0136...</td>\n",
              "    </tr>\n",
              "    <tr>\n",
              "      <th>6</th>\n",
              "      <td>b'feccfb03-1b35-48c6-84e5-619db04a4885'</td>\n",
              "      <td>b'Option Year 3 (October 1, 2024 - September 3...</td>\n",
              "      <td>[-0.043578796, 0.045119997, 0.04349908, 0.0172...</td>\n",
              "    </tr>\n",
              "    <tr>\n",
              "      <th>7</th>\n",
              "      <td>b'219050ab-c33c-4f3a-81fb-c2dfee830252'</td>\n",
              "      <td>b'This table lists various electrical harness ...</td>\n",
              "      <td>[-0.06300706, -0.02227639, 0.023460347, 0.0037...</td>\n",
              "    </tr>\n",
              "    <tr>\n",
              "      <th>8</th>\n",
              "      <td>b'a6e619fc-c85f-4d2b-b4e5-a1976f176ff5'</td>\n",
              "      <td>b'This table provides details on various elect...</td>\n",
              "      <td>[-0.05525397, -0.024775168, 0.023196483, 0.006...</td>\n",
              "    </tr>\n",
              "    <tr>\n",
              "      <th>9</th>\n",
              "      <td>b'1feadb61-fcde-4f7e-9fb8-db3d0e82efc8'</td>\n",
              "      <td>b'This table lists various electrical harness ...</td>\n",
              "      <td>[-0.06369985, -0.020310473, 0.01768434, -0.000...</td>\n",
              "    </tr>\n",
              "    <tr>\n",
              "      <th>10</th>\n",
              "      <td>b'cfbc4225-d1e3-4d96-827b-d22e054a44ed'</td>\n",
              "      <td>b'This table provides details about various el...</td>\n",
              "      <td>[-0.049565677, -0.013018995, 0.028791638, 5.31...</td>\n",
              "    </tr>\n",
              "  </tbody>\n",
              "</table>\n",
              "</div>\n",
              "    <div class=\"colab-df-buttons\">\n",
              "\n",
              "  <div class=\"colab-df-container\">\n",
              "    <button class=\"colab-df-convert\" onclick=\"convertToInteractive('df-c3d07e12-ffcb-44f3-ac43-dab05bfd007d')\"\n",
              "            title=\"Convert this dataframe to an interactive table.\"\n",
              "            style=\"display:none;\">\n",
              "\n",
              "  <svg xmlns=\"http://www.w3.org/2000/svg\" height=\"24px\" viewBox=\"0 -960 960 960\">\n",
              "    <path d=\"M120-120v-720h720v720H120Zm60-500h600v-160H180v160Zm220 220h160v-160H400v160Zm0 220h160v-160H400v160ZM180-400h160v-160H180v160Zm440 0h160v-160H620v160ZM180-180h160v-160H180v160Zm440 0h160v-160H620v160Z\"/>\n",
              "  </svg>\n",
              "    </button>\n",
              "\n",
              "  <style>\n",
              "    .colab-df-container {\n",
              "      display:flex;\n",
              "      gap: 12px;\n",
              "    }\n",
              "\n",
              "    .colab-df-convert {\n",
              "      background-color: #E8F0FE;\n",
              "      border: none;\n",
              "      border-radius: 50%;\n",
              "      cursor: pointer;\n",
              "      display: none;\n",
              "      fill: #1967D2;\n",
              "      height: 32px;\n",
              "      padding: 0 0 0 0;\n",
              "      width: 32px;\n",
              "    }\n",
              "\n",
              "    .colab-df-convert:hover {\n",
              "      background-color: #E2EBFA;\n",
              "      box-shadow: 0px 1px 2px rgba(60, 64, 67, 0.3), 0px 1px 3px 1px rgba(60, 64, 67, 0.15);\n",
              "      fill: #174EA6;\n",
              "    }\n",
              "\n",
              "    .colab-df-buttons div {\n",
              "      margin-bottom: 4px;\n",
              "    }\n",
              "\n",
              "    [theme=dark] .colab-df-convert {\n",
              "      background-color: #3B4455;\n",
              "      fill: #D2E3FC;\n",
              "    }\n",
              "\n",
              "    [theme=dark] .colab-df-convert:hover {\n",
              "      background-color: #434B5C;\n",
              "      box-shadow: 0px 1px 3px 1px rgba(0, 0, 0, 0.15);\n",
              "      filter: drop-shadow(0px 1px 2px rgba(0, 0, 0, 0.3));\n",
              "      fill: #FFFFFF;\n",
              "    }\n",
              "  </style>\n",
              "\n",
              "    <script>\n",
              "      const buttonEl =\n",
              "        document.querySelector('#df-c3d07e12-ffcb-44f3-ac43-dab05bfd007d button.colab-df-convert');\n",
              "      buttonEl.style.display =\n",
              "        google.colab.kernel.accessAllowed ? 'block' : 'none';\n",
              "\n",
              "      async function convertToInteractive(key) {\n",
              "        const element = document.querySelector('#df-c3d07e12-ffcb-44f3-ac43-dab05bfd007d');\n",
              "        const dataTable =\n",
              "          await google.colab.kernel.invokeFunction('convertToInteractive',\n",
              "                                                    [key], {});\n",
              "        if (!dataTable) return;\n",
              "\n",
              "        const docLinkHtml = 'Like what you see? Visit the ' +\n",
              "          '<a target=\"_blank\" href=https://colab.research.google.com/notebooks/data_table.ipynb>data table notebook</a>'\n",
              "          + ' to learn more about interactive tables.';\n",
              "        element.innerHTML = '';\n",
              "        dataTable['output_type'] = 'display_data';\n",
              "        await google.colab.output.renderOutput(dataTable, element);\n",
              "        const docLink = document.createElement('div');\n",
              "        docLink.innerHTML = docLinkHtml;\n",
              "        element.appendChild(docLink);\n",
              "      }\n",
              "    </script>\n",
              "  </div>\n",
              "\n",
              "\n",
              "<div id=\"df-ef807b61-0a07-4ecb-b57a-a13c50d5cf90\">\n",
              "  <button class=\"colab-df-quickchart\" onclick=\"quickchart('df-ef807b61-0a07-4ecb-b57a-a13c50d5cf90')\"\n",
              "            title=\"Suggest charts\"\n",
              "            style=\"display:none;\">\n",
              "\n",
              "<svg xmlns=\"http://www.w3.org/2000/svg\" height=\"24px\"viewBox=\"0 0 24 24\"\n",
              "     width=\"24px\">\n",
              "    <g>\n",
              "        <path d=\"M19 3H5c-1.1 0-2 .9-2 2v14c0 1.1.9 2 2 2h14c1.1 0 2-.9 2-2V5c0-1.1-.9-2-2-2zM9 17H7v-7h2v7zm4 0h-2V7h2v10zm4 0h-2v-4h2v4z\"/>\n",
              "    </g>\n",
              "</svg>\n",
              "  </button>\n",
              "\n",
              "<style>\n",
              "  .colab-df-quickchart {\n",
              "      --bg-color: #E8F0FE;\n",
              "      --fill-color: #1967D2;\n",
              "      --hover-bg-color: #E2EBFA;\n",
              "      --hover-fill-color: #174EA6;\n",
              "      --disabled-fill-color: #AAA;\n",
              "      --disabled-bg-color: #DDD;\n",
              "  }\n",
              "\n",
              "  [theme=dark] .colab-df-quickchart {\n",
              "      --bg-color: #3B4455;\n",
              "      --fill-color: #D2E3FC;\n",
              "      --hover-bg-color: #434B5C;\n",
              "      --hover-fill-color: #FFFFFF;\n",
              "      --disabled-bg-color: #3B4455;\n",
              "      --disabled-fill-color: #666;\n",
              "  }\n",
              "\n",
              "  .colab-df-quickchart {\n",
              "    background-color: var(--bg-color);\n",
              "    border: none;\n",
              "    border-radius: 50%;\n",
              "    cursor: pointer;\n",
              "    display: none;\n",
              "    fill: var(--fill-color);\n",
              "    height: 32px;\n",
              "    padding: 0;\n",
              "    width: 32px;\n",
              "  }\n",
              "\n",
              "  .colab-df-quickchart:hover {\n",
              "    background-color: var(--hover-bg-color);\n",
              "    box-shadow: 0 1px 2px rgba(60, 64, 67, 0.3), 0 1px 3px 1px rgba(60, 64, 67, 0.15);\n",
              "    fill: var(--button-hover-fill-color);\n",
              "  }\n",
              "\n",
              "  .colab-df-quickchart-complete:disabled,\n",
              "  .colab-df-quickchart-complete:disabled:hover {\n",
              "    background-color: var(--disabled-bg-color);\n",
              "    fill: var(--disabled-fill-color);\n",
              "    box-shadow: none;\n",
              "  }\n",
              "\n",
              "  .colab-df-spinner {\n",
              "    border: 2px solid var(--fill-color);\n",
              "    border-color: transparent;\n",
              "    border-bottom-color: var(--fill-color);\n",
              "    animation:\n",
              "      spin 1s steps(1) infinite;\n",
              "  }\n",
              "\n",
              "  @keyframes spin {\n",
              "    0% {\n",
              "      border-color: transparent;\n",
              "      border-bottom-color: var(--fill-color);\n",
              "      border-left-color: var(--fill-color);\n",
              "    }\n",
              "    20% {\n",
              "      border-color: transparent;\n",
              "      border-left-color: var(--fill-color);\n",
              "      border-top-color: var(--fill-color);\n",
              "    }\n",
              "    30% {\n",
              "      border-color: transparent;\n",
              "      border-left-color: var(--fill-color);\n",
              "      border-top-color: var(--fill-color);\n",
              "      border-right-color: var(--fill-color);\n",
              "    }\n",
              "    40% {\n",
              "      border-color: transparent;\n",
              "      border-right-color: var(--fill-color);\n",
              "      border-top-color: var(--fill-color);\n",
              "    }\n",
              "    60% {\n",
              "      border-color: transparent;\n",
              "      border-right-color: var(--fill-color);\n",
              "    }\n",
              "    80% {\n",
              "      border-color: transparent;\n",
              "      border-right-color: var(--fill-color);\n",
              "      border-bottom-color: var(--fill-color);\n",
              "    }\n",
              "    90% {\n",
              "      border-color: transparent;\n",
              "      border-bottom-color: var(--fill-color);\n",
              "    }\n",
              "  }\n",
              "</style>\n",
              "\n",
              "  <script>\n",
              "    async function quickchart(key) {\n",
              "      const quickchartButtonEl =\n",
              "        document.querySelector('#' + key + ' button');\n",
              "      quickchartButtonEl.disabled = true;  // To prevent multiple clicks.\n",
              "      quickchartButtonEl.classList.add('colab-df-spinner');\n",
              "      try {\n",
              "        const charts = await google.colab.kernel.invokeFunction(\n",
              "            'suggestCharts', [key], {});\n",
              "      } catch (error) {\n",
              "        console.error('Error during call to suggestCharts:', error);\n",
              "      }\n",
              "      quickchartButtonEl.classList.remove('colab-df-spinner');\n",
              "      quickchartButtonEl.classList.add('colab-df-quickchart-complete');\n",
              "    }\n",
              "    (() => {\n",
              "      let quickchartButtonEl =\n",
              "        document.querySelector('#df-ef807b61-0a07-4ecb-b57a-a13c50d5cf90 button');\n",
              "      quickchartButtonEl.style.display =\n",
              "        google.colab.kernel.accessAllowed ? 'block' : 'none';\n",
              "    })();\n",
              "  </script>\n",
              "</div>\n",
              "\n",
              "    </div>\n",
              "  </div>\n"
            ],
            "application/vnd.google.colaboratory.intrinsic+json": {
              "type": "dataframe",
              "summary": "{\n  \"name\": \"table\",\n  \"rows\": 11,\n  \"fields\": [\n    {\n      \"column\": \"document_id\",\n      \"properties\": {\n        \"dtype\": \"string\",\n        \"num_unique_values\": 11,\n        \"samples\": [\n          \"b'8b6f9136-fe47-4b2a-94d8-e422e6c205a8'\",\n          \"b'14d6d0f5-e1fc-4963-937a-95e5fbbc50de'\",\n          \"b'1feadb61-fcde-4f7e-9fb8-db3d0e82efc8'\"\n        ],\n        \"semantic_type\": \"\",\n        \"description\": \"\"\n      }\n    },\n    {\n      \"column\": \"text\",\n      \"properties\": {\n        \"dtype\": \"string\",\n        \"num_unique_values\": 11,\n        \"samples\": [\n          \"b'Option Year 2 (October 1, 2023 - September 30, 2024 Delivery Dates) - to be exercised by Honeywell upon award by USG'\",\n          \"b'Honeywell\\\\n\\\\n THE POWER OF CONNECTED\\\\n\\\\n STAND-ALONE GOVERNMENT PROGRAM CONTRACT\\\\n\\\\nBETWEEN HONEYWELL INTERNATIONAL INC.\\\\n\\\\nAND\\\\n\\\\nUNITED AVIONICS INC.\\\\n\\\\n STAND-ALONE GOVERNMENT PROGRAM CONTRACT: DEF10177\\\\n\\\\nPROGRAM: TIGER Ill\\\\n\\\\nPRIME CONTRACT NUMBER: W56HZV-20-D-0062\\\\n\\\\nPERIOD OF PERFORMANCE: 10/1/2020 - 9/30/2025\\\\n\\\\nCONTRACT TYPE: FFP\\\\n\\\\n..L_Honeywell\\\\n\\\\n~;; ,,.:\\\\n\\\\n~Supplier\\\\n\\\\n(v01-2021) Stand-Alone Government Program Contract\\\\n\\\\nHoneywell Confidential'\",\n          \"b'This table lists various electrical harness assemblies and related components, including their part numbers, descriptions, lead times, capacities, quantities, unit prices, and extended prices. It also indicates whether each item is awarded and if truthful cost data applies.,\\\\nwith the following columns:\\\\n- Part Number: Unique identifier for each item.\\\\n- Description: Brief description of each item.\\\\n- Lead Time: Time required to deliver the item (in days).\\\\n- Capacity: Maximum production capacity for the item.\\\\n- Quantity: Number of units ordered.\\\\n- Unit Price: Price per unit of the item.\\\\n- Extended Price: Total price for the ordered quantity.\\\\n- Item: Indicates if the item is included in the order.\\\\n- Award: Indicates if the item has been awarded.\\\\n- Truthful Cost Data Applies: Indicates if truthful cost data applies to the item.\\\\n'\"\n        ],\n        \"semantic_type\": \"\",\n        \"description\": \"\"\n      }\n    },\n    {\n      \"column\": \"embeddings\",\n      \"properties\": {\n        \"dtype\": \"object\",\n        \"semantic_type\": \"\",\n        \"description\": \"\"\n      }\n    }\n  ]\n}"
            }
          },
          "metadata": {},
          "execution_count": 121
        }
      ],
      "source": [
        "# Query KDB.AI to ensure the nodes were inserted\n",
        "table.query()"
      ]
    },
    {
      "cell_type": "code",
      "execution_count": null,
      "metadata": {
        "id": "30S7khAp42nK"
      },
      "outputs": [],
      "source": [
        "### Define reranker\n",
        "cohere_rerank = CohereRerank(top_n=10)\n",
        "\n",
        "### Create the query_engine to execute RAG pipeline using LlamaIndex, KDB.AI, and Cohere reranker\n",
        "query_engine = recursive_index.as_query_engine(similarity_top_k=20,\n",
        "                                               node_postprocessors=[cohere_rerank],\n",
        "                                               vector_store_kwargs={\n",
        "                                                    \"index\" : \"flat\",\n",
        "                                                },\n",
        "                                            )"
      ]
    },
    {
      "cell_type": "markdown",
      "metadata": {
        "id": "DHA4bG9-nyxu"
      },
      "source": [
        "## 10. Query the RAG Pipeline!\n",
        "All the work is complete! Now we can ask questions about the article whether the information is contained in text, or in tables."
      ]
    },
    {
      "cell_type": "code",
      "execution_count": null,
      "metadata": {
        "id": "BDiH4ouI_BsH",
        "colab": {
          "base_uri": "https://localhost:8080/"
        },
        "outputId": "20b6a67f-c542-4763-d41b-5815e1cc5dda"
      },
      "outputs": [
        {
          "output_type": "stream",
          "name": "stdout",
          "text": [
            "```json\n",
            "{\n",
            "  \"contract_end_date\": \"September 30, 2025\",\n",
            "  \"item_identifier\": \"N/A\",\n",
            "  \"Party1\": \"Honeywell International Inc.\",\n",
            "  \"Party1_address\": \"1300 W Warner Rd, Tempe, AZ 85284\",\n",
            "  \"Party2\": \"United Avionics Inc\",\n",
            "  \"Party2_address\": \"38 Great Hill Rd, Naugatuck, CT 06770\",\n",
            "  \"signing_date\": \"March 1, 2021\",\n",
            "  \"contract_start_date\": \"October 1, 2020\",\n",
            "  \"term_of_payment\": \"N/A\",\n",
            "  \"contract_value\": \"N/A\",\n",
            "  \"contract_number\": \"W56HZV-20-D-0062\",\n",
            "  \"contract_type\": \"Stand-Alone Government Program Contract\"\n",
            "}\n",
            "```\n"
          ]
        }
      ],
      "source": [
        "query_1 = \"\"\"You are an AI assistant specialized in analyzing legal contracts and long term agreements.\n",
        "Your task is to extract relevant information from a given contract document.\n",
        "Your output must be a structured JSON object.\n",
        "\n",
        "Instructions:\n",
        "1. Carefully read the entire contract documents\n",
        "2. Extract the relevant information.\n",
        "3. Present your findings in JSON format as specified below.\n",
        "\n",
        "Important Notes:\n",
        "- Extract only relevant information.\n",
        "- Consider the context of the entire contract when determining relevance.\n",
        "- Do not be verbose, only respond with the correct format and information.\n",
        "- Some docs may have multiple relevant excerpts -- include all that apply.\n",
        "- Some questions may have no relevant excerpts -- just return [\"N/A\"].\n",
        "- Do not include additional JSON keys beyond the ones listed here.\n",
        "- Do not include the same key multiple times in the JSON.\n",
        "\n",
        "Expected JSON keys and explanation of what they are:\n",
        "- 'contract_end_date': The end date of the contract.\n",
        "- 'item_identifier': Comman seperated list of the items in contract\n",
        "- 'Party1': First Party name\n",
        "- 'Party1_address': First Party adress\n",
        "- 'Party2': Second Party name\n",
        "- 'Party2_address': Second Party adress\n",
        "- 'signing_date': The date the contract was signed.\n",
        "- 'contract_start_date': The start date of the contract.\n",
        "- 'term_of_payment': Description of the payment terms.\n",
        "- 'contract_value': Value of contract if mentioned.\n",
        "- 'contract_number': ID of contract.\n",
        "- 'contract_type': Type of contract.\n",
        "\"\"\"\n",
        "\n",
        "response_1 = query_engine.query(query_1)\n",
        "\n",
        "print(str(response_1))\n"
      ]
    },
    {
      "cell_type": "code",
      "source": [
        "query_1 = \"\"\"You are an AI assistant specialized in analyzing legal contracts and long term agreements.\n",
        "Your task is to extract goods/part numbers/product and their related information from a given contract document.\n",
        "Your output must be a structured JSON object.\n",
        "\n",
        "Instructions:\n",
        "1. Carefully read the entire contract documents\n",
        "2. Extract the relevant information most probably represented in one or multiple tables.\n",
        "3. Present your findings in JSON format as specified below.\n",
        "\n",
        "Important Notes:\n",
        "- Extract only relevant information.\n",
        "- Consider the context of the entire contract when determining relevance.\n",
        "- Do not be verbose, only respond with the correct format and information.\n",
        "- Some docs may have multiple relevant excerpts -- include all that apply.\n",
        "- Some questions may have no relevant excerpts -- just return [\"N/A\"].\n",
        "- Do not include additional JSON keys beyond the ones listed here.\n",
        "- Do not include the same key multiple times in the JSON.\n",
        "\n",
        "Expected JSON keys and explanation of what they are:\n",
        "- Part Number: Unique identifier for each component.\n",
        "- Description: Brief description of the component.\n",
        "- Lead Time: Time in days required to deliver the component.\n",
        "- Capacity: Maximum production capacity for the component.\n",
        "- Quantity: Number of units available.\n",
        "- Unit Price: Price per individual unit of the component.\n",
        "- Extended Price: Total price for the quantity available.\n",
        "- Item: Indicates if the item is relevant.\n",
        "- Award: Indicates if the item has been awarded.\n",
        "- Truthful Cost Data Applies: Indicates if truthful cost data is applicable.\n",
        "\"\"\"\n",
        "\n",
        "response_1 = query_engine.query(query_1)\n",
        "\n",
        "print(str(response_1))\n"
      ],
      "metadata": {
        "colab": {
          "base_uri": "https://localhost:8080/"
        },
        "id": "2DJj8bVdkH-y",
        "outputId": "e2132324-95c9-434f-c3a9-b7857246bec5"
      },
      "execution_count": null,
      "outputs": [
        {
          "output_type": "stream",
          "name": "stdout",
          "text": [
            "```json\n",
            "[\n",
            "    {\n",
            "        \"Part Number\": \"N/A\",\n",
            "        \"Description\": \"N/A\",\n",
            "        \"Lead Time\": \"N/A\",\n",
            "        \"Capacity\": \"N/A\",\n",
            "        \"Quantity\": \"N/A\",\n",
            "        \"Unit Price\": \"N/A\",\n",
            "        \"Extended Price\": \"N/A\",\n",
            "        \"Item\": \"N/A\",\n",
            "        \"Award\": \"N/A\",\n",
            "        \"Truthful Cost Data Applies\": \"N/A\"\n",
            "    }\n",
            "]\n",
            "```\n"
          ]
        }
      ]
    },
    {
      "cell_type": "code",
      "source": [
        "query_1 = \"\"\"You are an AI assistant specialized in analyzing legal contracts and long term agreements.\n",
        "Your task is to extract goods/part numbers/product and their related information like quantity and prices from attachment 1 section on given contract document.\n",
        "Can you present these details in tablular format.\n",
        "\"\"\"\n",
        "\n",
        "response_1 = query_engine.query(query_1)\n",
        "\n",
        "print(str(response_1))\n"
      ],
      "metadata": {
        "colab": {
          "base_uri": "https://localhost:8080/"
        },
        "id": "6ayMZMWel8hz",
        "outputId": "9a4b4542-028c-471f-c690-c4b708e7725f"
      },
      "execution_count": null,
      "outputs": [
        {
          "output_type": "stream",
          "name": "stdout",
          "text": [
            "Based on the provided context, here is the extracted information from Attachment 1 of the contract document, presented in a tabular format:\n",
            "\n",
            "| Part Number | Description | Lead Time (days) | Capacity | Quantity | Unit Price | Extended Price | Item | Award | Truthful Cost Data Applies |\n",
            "|-------------|-------------|------------------|----------|----------|------------|----------------|------|-------|----------------------------|\n",
            "| (Data not provided) | (Data not provided) | (Data not provided) | (Data not provided) | (Data not provided) | (Data not provided) | (Data not provided) | (Data not provided) | (Data not provided) | (Data not provided) |\n",
            "\n",
            "Unfortunately, the specific details such as part numbers, descriptions, lead times, capacities, quantities, unit prices, extended prices, item inclusion, award status, and truthful cost data applicability are not explicitly provided in the given context. To present a complete table, the actual data from Attachment 1 would be required.\n"
          ]
        }
      ]
    },
    {
      "cell_type": "code",
      "source": [
        "query_1 = \"\"\"You are an AI assistant specialized in analyzing legal contracts and long term agreements.\n",
        "Can you extract the table with part numbers/products/goods for ordering, production\n",
        "\"\"\"\n",
        "\n",
        "response_1 = query_engine.query(query_1)\n",
        "\n",
        "print(str(response_1))\n"
      ],
      "metadata": {
        "colab": {
          "base_uri": "https://localhost:8080/"
        },
        "id": "0MJR4sSX0_YP",
        "outputId": "46ef0ab1-dcda-4bb1-8443-ac96419d2744"
      },
      "execution_count": null,
      "outputs": [
        {
          "output_type": "stream",
          "name": "stdout",
          "text": [
            "The context provided does not include the actual table with part numbers, descriptions, lead times, capacities, quantities, unit prices, extended prices, and other relevant information for ordering and production. It only describes the structure and content of such a table. \n",
            "\n",
            "To extract the table with part numbers/products/goods for ordering and production, you would need to refer to the specific attachment or section of the contract that contains this detailed information. The context mentions that this information is listed in TABLE 1 under the section \"Production Prices\" for the base years award (October 1, 2020 - September 30, 2022 Delivery Dates), but the actual table content is not provided in the text.\n",
            "\n",
            "If you have access to the full document or the specific attachment, you should look for TABLE 1 or the section that lists the details about various electrical harness assemblies and related components. This table will include columns such as Part Number, Description, Lead Time, Capacity, Quantity, Unit Price, Extended Price, Item, Award, and Truthful Cost Data Applies.\n"
          ]
        }
      ]
    },
    {
      "cell_type": "code",
      "source": [
        "query_1 = \"\"\"You are an assistant tasked with summarizing tables and text.\n",
        "Convert the  table 1 into a readable text and display it in tabluar format\n",
        "\"\"\"\n",
        "\n",
        "response_1 = query_engine.query(query_1)\n",
        "\n",
        "print(str(response_1))\n"
      ],
      "metadata": {
        "colab": {
          "base_uri": "https://localhost:8080/"
        },
        "id": "C51aQQcQlvwp",
        "outputId": "2ccb7452-39ad-4db7-dbc3-21885ea4f45f"
      },
      "execution_count": null,
      "outputs": [
        {
          "output_type": "stream",
          "name": "stdout",
          "text": [
            "Sure, I can convert the information from Table 1 into a readable text format and then display it in a tabular format. Here is the information:\n",
            "\n",
            "### Readable Text Format:\n",
            "Table 1 provides details about various electrical harness assemblies, including their part numbers, descriptions, lead times, capacities, quantities, unit prices, extended prices, and other relevant information. The columns in the table include:\n",
            "- Part Number: Unique identifier for each part.\n",
            "- Description: Brief description of the part.\n",
            "- Lead Time: Time required to deliver the part (in days).\n",
            "- Capacity: Maximum number of parts that can be produced.\n",
            "- Quantity: Number of parts ordered.\n",
            "- Unit Price: Price per unit of the part.\n",
            "- Extended Price: Total price for the ordered quantity.\n",
            "- Item: Indicates if the item is included in the order.\n",
            "- Award: Indicates if the item has been awarded.\n",
            "- Truthful Cost Data Applies: Indicates if truthful cost data applies to the item.\n",
            "\n",
            "### Tabular Format:\n",
            "| Part Number | Description | Lead Time (days) | Capacity | Quantity | Unit Price | Extended Price | Item | Award | Truthful Cost Data Applies |\n",
            "|-------------|-------------|------------------|----------|----------|------------|----------------|------|-------|---------------------------|\n",
            "| [Part Number] | [Description] | [Lead Time] | [Capacity] | [Quantity] | [Unit Price] | [Extended Price] | [Item] | [Award] | [Truthful Cost Data Applies] |\n",
            "\n",
            "(Note: The actual data for each column is not provided in the context, so placeholders are used. Replace the placeholders with the actual data from the table.)\n"
          ]
        }
      ]
    },
    {
      "cell_type": "markdown",
      "metadata": {
        "id": "VnkxUY1BR-oY"
      },
      "source": [
        "## Delete the KDB.AI Table\n",
        "\n",
        "Once finished with the table, it is best practice to drop it."
      ]
    },
    {
      "cell_type": "code",
      "execution_count": null,
      "metadata": {
        "id": "40Mf7HQER-oY"
      },
      "outputs": [],
      "source": [
        "table.drop()"
      ]
    }
  ],
  "metadata": {
    "colab": {
      "provenance": [],
      "gpuType": "T4",
      "name": "llamaparse_RAGPOC.ipynb",
      "include_colab_link": true
    },
    "kernelspec": {
      "display_name": "Python 3",
      "name": "python3"
    },
    "language_info": {
      "codemirror_mode": {
        "name": "ipython",
        "version": 3
      },
      "file_extension": ".py",
      "mimetype": "text/x-python",
      "name": "python",
      "nbconvert_exporter": "python",
      "pygments_lexer": "ipython3",
      "version": "3.10.12"
    }
  },
  "nbformat": 4,
  "nbformat_minor": 0
}